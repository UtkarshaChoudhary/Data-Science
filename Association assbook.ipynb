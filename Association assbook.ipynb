{
 "cells": [
  {
   "cell_type": "code",
   "execution_count": 32,
   "metadata": {},
   "outputs": [
    {
     "name": "stdout",
     "output_type": "stream",
     "text": [
      "Requirement already satisfied: plotly in c:\\programdata\\anaconda3\\lib\\site-packages (5.1.0)\n",
      "Requirement already satisfied: tenacity>=6.2.0 in c:\\programdata\\anaconda3\\lib\\site-packages (from plotly) (8.0.1)\n",
      "Requirement already satisfied: six in c:\\programdata\\anaconda3\\lib\\site-packages (from plotly) (1.15.0)\n",
      "Note: you may need to restart the kernel to use updated packages.\n"
     ]
    }
   ],
   "source": [
    "pip install plotly"
   ]
  },
  {
   "cell_type": "code",
   "execution_count": 33,
   "metadata": {},
   "outputs": [
    {
     "name": "stdout",
     "output_type": "stream",
     "text": [
      "Collecting package metadata (current_repodata.json): ...working... done\n",
      "Solving environment: ...working... done\n",
      "\n",
      "## Package Plan ##\n",
      "\n",
      "  environment location: C:\\ProgramData\\Anaconda3\n",
      "\n",
      "  added / updated specs:\n",
      "    - mlxtend\n",
      "\n",
      "\n",
      "The following NEW packages will be INSTALLED:\n",
      "\n",
      "  mlxtend            conda-forge/noarch::mlxtend-0.18.0-pyhd3deb0d_0\n",
      "  python_abi         conda-forge/win-64::python_abi-3.8-2_cp38\n",
      "\n",
      "The following packages will be UPDATED:\n",
      "\n",
      "  conda               pkgs/main::conda-4.9.2-py38haa95532_0 --> conda-forge::conda-4.10.3-py38haa244fe_0\n",
      "\n",
      "\n",
      "Preparing transaction: ...working... done\n",
      "Verifying transaction: ...working... failed\n",
      "\n",
      "Note: you may need to restart the kernel to use updated packages.\n"
     ]
    },
    {
     "name": "stderr",
     "output_type": "stream",
     "text": [
      "\n",
      "\n",
      "==> WARNING: A newer version of conda exists. <==\n",
      "  current version: 4.9.2\n",
      "  latest version: 4.10.3\n",
      "\n",
      "Please update conda by running\n",
      "\n",
      "    $ conda update -n base -c defaults conda\n",
      "\n",
      "\n",
      "\n",
      "EnvironmentNotWritableError: The current user does not have write permissions to the target environment.\n",
      "  environment location: C:\\ProgramData\\Anaconda3\n",
      "\n",
      "\n"
     ]
    }
   ],
   "source": [
    "conda install -c conda-forge mlxtend"
   ]
  },
  {
   "cell_type": "code",
   "execution_count": 34,
   "metadata": {},
   "outputs": [],
   "source": [
    "import pandas as pd \n",
    "import numpy as np\n",
    "import matplotlib.pyplot as plt\n",
    "from mlxtend.frequent_patterns import apriori,association_rules\n",
    "from mlxtend.preprocessing import TransactionEncoder\n",
    "import seaborn as sns \n",
    "import warnings\n",
    "warnings.filterwarnings('ignore')\n",
    "sns.set()"
   ]
  },
  {
   "cell_type": "code",
   "execution_count": 35,
   "metadata": {
    "scrolled": true
   },
   "outputs": [
    {
     "data": {
      "text/html": [
       "<div>\n",
       "<style scoped>\n",
       "    .dataframe tbody tr th:only-of-type {\n",
       "        vertical-align: middle;\n",
       "    }\n",
       "\n",
       "    .dataframe tbody tr th {\n",
       "        vertical-align: top;\n",
       "    }\n",
       "\n",
       "    .dataframe thead th {\n",
       "        text-align: right;\n",
       "    }\n",
       "</style>\n",
       "<table border=\"1\" class=\"dataframe\">\n",
       "  <thead>\n",
       "    <tr style=\"text-align: right;\">\n",
       "      <th></th>\n",
       "      <th>ChildBks</th>\n",
       "      <th>YouthBks</th>\n",
       "      <th>CookBks</th>\n",
       "      <th>DoItYBks</th>\n",
       "      <th>RefBks</th>\n",
       "      <th>ArtBks</th>\n",
       "      <th>GeogBks</th>\n",
       "      <th>ItalCook</th>\n",
       "      <th>ItalAtlas</th>\n",
       "      <th>ItalArt</th>\n",
       "      <th>Florence</th>\n",
       "    </tr>\n",
       "  </thead>\n",
       "  <tbody>\n",
       "    <tr>\n",
       "      <th>0</th>\n",
       "      <td>0</td>\n",
       "      <td>1</td>\n",
       "      <td>0</td>\n",
       "      <td>1</td>\n",
       "      <td>0</td>\n",
       "      <td>0</td>\n",
       "      <td>1</td>\n",
       "      <td>0</td>\n",
       "      <td>0</td>\n",
       "      <td>0</td>\n",
       "      <td>0</td>\n",
       "    </tr>\n",
       "    <tr>\n",
       "      <th>1</th>\n",
       "      <td>1</td>\n",
       "      <td>0</td>\n",
       "      <td>0</td>\n",
       "      <td>0</td>\n",
       "      <td>0</td>\n",
       "      <td>0</td>\n",
       "      <td>0</td>\n",
       "      <td>0</td>\n",
       "      <td>0</td>\n",
       "      <td>0</td>\n",
       "      <td>0</td>\n",
       "    </tr>\n",
       "    <tr>\n",
       "      <th>2</th>\n",
       "      <td>0</td>\n",
       "      <td>0</td>\n",
       "      <td>0</td>\n",
       "      <td>0</td>\n",
       "      <td>0</td>\n",
       "      <td>0</td>\n",
       "      <td>0</td>\n",
       "      <td>0</td>\n",
       "      <td>0</td>\n",
       "      <td>0</td>\n",
       "      <td>0</td>\n",
       "    </tr>\n",
       "    <tr>\n",
       "      <th>3</th>\n",
       "      <td>1</td>\n",
       "      <td>1</td>\n",
       "      <td>1</td>\n",
       "      <td>0</td>\n",
       "      <td>1</td>\n",
       "      <td>0</td>\n",
       "      <td>1</td>\n",
       "      <td>0</td>\n",
       "      <td>0</td>\n",
       "      <td>0</td>\n",
       "      <td>0</td>\n",
       "    </tr>\n",
       "    <tr>\n",
       "      <th>4</th>\n",
       "      <td>0</td>\n",
       "      <td>0</td>\n",
       "      <td>1</td>\n",
       "      <td>0</td>\n",
       "      <td>0</td>\n",
       "      <td>0</td>\n",
       "      <td>1</td>\n",
       "      <td>0</td>\n",
       "      <td>0</td>\n",
       "      <td>0</td>\n",
       "      <td>0</td>\n",
       "    </tr>\n",
       "  </tbody>\n",
       "</table>\n",
       "</div>"
      ],
      "text/plain": [
       "   ChildBks  YouthBks  CookBks  DoItYBks  RefBks  ArtBks  GeogBks  ItalCook  \\\n",
       "0         0         1        0         1       0       0        1         0   \n",
       "1         1         0        0         0       0       0        0         0   \n",
       "2         0         0        0         0       0       0        0         0   \n",
       "3         1         1        1         0       1       0        1         0   \n",
       "4         0         0        1         0       0       0        1         0   \n",
       "\n",
       "   ItalAtlas  ItalArt  Florence  \n",
       "0          0        0         0  \n",
       "1          0        0         0  \n",
       "2          0        0         0  \n",
       "3          0        0         0  \n",
       "4          0        0         0  "
      ]
     },
     "execution_count": 35,
     "metadata": {},
     "output_type": "execute_result"
    }
   ],
   "source": [
    "data=pd.read_csv(\"book1.csv\")\n",
    "data.head()"
   ]
  },
  {
   "cell_type": "markdown",
   "metadata": {},
   "source": [
    "## As we don't have any categorical data we don't have to pre process the data, and null values are also not present"
   ]
  },
  {
   "cell_type": "markdown",
   "metadata": {},
   "source": [
    "# Changing support minimun support threshold values and check in result"
   ]
  },
  {
   "cell_type": "code",
   "execution_count": 36,
   "metadata": {},
   "outputs": [
    {
     "data": {
      "text/html": [
       "<div>\n",
       "<style scoped>\n",
       "    .dataframe tbody tr th:only-of-type {\n",
       "        vertical-align: middle;\n",
       "    }\n",
       "\n",
       "    .dataframe tbody tr th {\n",
       "        vertical-align: top;\n",
       "    }\n",
       "\n",
       "    .dataframe thead th {\n",
       "        text-align: right;\n",
       "    }\n",
       "</style>\n",
       "<table border=\"1\" class=\"dataframe\">\n",
       "  <thead>\n",
       "    <tr style=\"text-align: right;\">\n",
       "      <th></th>\n",
       "      <th>support</th>\n",
       "      <th>itemsets</th>\n",
       "    </tr>\n",
       "  </thead>\n",
       "  <tbody>\n",
       "    <tr>\n",
       "      <th>0</th>\n",
       "      <td>0.4230</td>\n",
       "      <td>(ChildBks)</td>\n",
       "    </tr>\n",
       "    <tr>\n",
       "      <th>1</th>\n",
       "      <td>0.2475</td>\n",
       "      <td>(YouthBks)</td>\n",
       "    </tr>\n",
       "    <tr>\n",
       "      <th>2</th>\n",
       "      <td>0.4310</td>\n",
       "      <td>(CookBks)</td>\n",
       "    </tr>\n",
       "    <tr>\n",
       "      <th>3</th>\n",
       "      <td>0.2820</td>\n",
       "      <td>(DoItYBks)</td>\n",
       "    </tr>\n",
       "    <tr>\n",
       "      <th>4</th>\n",
       "      <td>0.2145</td>\n",
       "      <td>(RefBks)</td>\n",
       "    </tr>\n",
       "    <tr>\n",
       "      <th>...</th>\n",
       "      <td>...</td>\n",
       "      <td>...</td>\n",
       "    </tr>\n",
       "    <tr>\n",
       "      <th>128</th>\n",
       "      <td>0.0440</td>\n",
       "      <td>(GeogBks, RefBks, YouthBks, ChildBks, CookBks)</td>\n",
       "    </tr>\n",
       "    <tr>\n",
       "      <th>129</th>\n",
       "      <td>0.0465</td>\n",
       "      <td>(GeogBks, YouthBks, ChildBks, ArtBks, CookBks)</td>\n",
       "    </tr>\n",
       "    <tr>\n",
       "      <th>130</th>\n",
       "      <td>0.0450</td>\n",
       "      <td>(GeogBks, RefBks, ChildBks, CookBks, DoItYBks)</td>\n",
       "    </tr>\n",
       "    <tr>\n",
       "      <th>131</th>\n",
       "      <td>0.0535</td>\n",
       "      <td>(GeogBks, ChildBks, ArtBks, CookBks, DoItYBks)</td>\n",
       "    </tr>\n",
       "    <tr>\n",
       "      <th>132</th>\n",
       "      <td>0.0405</td>\n",
       "      <td>(GeogBks, RefBks, ChildBks, ArtBks, CookBks)</td>\n",
       "    </tr>\n",
       "  </tbody>\n",
       "</table>\n",
       "<p>133 rows × 2 columns</p>\n",
       "</div>"
      ],
      "text/plain": [
       "     support                                        itemsets\n",
       "0     0.4230                                      (ChildBks)\n",
       "1     0.2475                                      (YouthBks)\n",
       "2     0.4310                                       (CookBks)\n",
       "3     0.2820                                      (DoItYBks)\n",
       "4     0.2145                                        (RefBks)\n",
       "..       ...                                             ...\n",
       "128   0.0440  (GeogBks, RefBks, YouthBks, ChildBks, CookBks)\n",
       "129   0.0465  (GeogBks, YouthBks, ChildBks, ArtBks, CookBks)\n",
       "130   0.0450  (GeogBks, RefBks, ChildBks, CookBks, DoItYBks)\n",
       "131   0.0535  (GeogBks, ChildBks, ArtBks, CookBks, DoItYBks)\n",
       "132   0.0405    (GeogBks, RefBks, ChildBks, ArtBks, CookBks)\n",
       "\n",
       "[133 rows x 2 columns]"
      ]
     },
     "execution_count": 36,
     "metadata": {},
     "output_type": "execute_result"
    }
   ],
   "source": [
    "frequent_items=apriori(data,min_support = 0.04, use_colnames=True)\n",
    "frequent_items"
   ]
  },
  {
   "cell_type": "markdown",
   "metadata": {},
   "source": [
    "# Apriori Algorithm"
   ]
  },
  {
   "cell_type": "code",
   "execution_count": 37,
   "metadata": {},
   "outputs": [
    {
     "data": {
      "text/html": [
       "<div>\n",
       "<style scoped>\n",
       "    .dataframe tbody tr th:only-of-type {\n",
       "        vertical-align: middle;\n",
       "    }\n",
       "\n",
       "    .dataframe tbody tr th {\n",
       "        vertical-align: top;\n",
       "    }\n",
       "\n",
       "    .dataframe thead th {\n",
       "        text-align: right;\n",
       "    }\n",
       "</style>\n",
       "<table border=\"1\" class=\"dataframe\">\n",
       "  <thead>\n",
       "    <tr style=\"text-align: right;\">\n",
       "      <th></th>\n",
       "      <th>support</th>\n",
       "      <th>itemsets</th>\n",
       "    </tr>\n",
       "  </thead>\n",
       "  <tbody>\n",
       "    <tr>\n",
       "      <th>0</th>\n",
       "      <td>0.4230</td>\n",
       "      <td>(ChildBks)</td>\n",
       "    </tr>\n",
       "    <tr>\n",
       "      <th>1</th>\n",
       "      <td>0.2475</td>\n",
       "      <td>(YouthBks)</td>\n",
       "    </tr>\n",
       "    <tr>\n",
       "      <th>2</th>\n",
       "      <td>0.4310</td>\n",
       "      <td>(CookBks)</td>\n",
       "    </tr>\n",
       "    <tr>\n",
       "      <th>3</th>\n",
       "      <td>0.2820</td>\n",
       "      <td>(DoItYBks)</td>\n",
       "    </tr>\n",
       "    <tr>\n",
       "      <th>4</th>\n",
       "      <td>0.2145</td>\n",
       "      <td>(RefBks)</td>\n",
       "    </tr>\n",
       "    <tr>\n",
       "      <th>...</th>\n",
       "      <td>...</td>\n",
       "      <td>...</td>\n",
       "    </tr>\n",
       "    <tr>\n",
       "      <th>1057</th>\n",
       "      <td>0.0060</td>\n",
       "      <td>(ItalArt, ItalCook, RefBks, YouthBks, ItalAtla...</td>\n",
       "    </tr>\n",
       "    <tr>\n",
       "      <th>1058</th>\n",
       "      <td>0.0050</td>\n",
       "      <td>(ItalArt, ItalCook, GeogBks, RefBks, ChildBks,...</td>\n",
       "    </tr>\n",
       "    <tr>\n",
       "      <th>1059</th>\n",
       "      <td>0.0065</td>\n",
       "      <td>(ItalArt, ItalCook, RefBks, ItalAtlas, ChildBk...</td>\n",
       "    </tr>\n",
       "    <tr>\n",
       "      <th>1060</th>\n",
       "      <td>0.0080</td>\n",
       "      <td>(ItalArt, ItalCook, GeogBks, RefBks, ItalAtlas...</td>\n",
       "    </tr>\n",
       "    <tr>\n",
       "      <th>1061</th>\n",
       "      <td>0.0050</td>\n",
       "      <td>(ItalArt, ItalCook, GeogBks, RefBks, ItalAtlas...</td>\n",
       "    </tr>\n",
       "  </tbody>\n",
       "</table>\n",
       "<p>1062 rows × 2 columns</p>\n",
       "</div>"
      ],
      "text/plain": [
       "      support                                           itemsets\n",
       "0      0.4230                                         (ChildBks)\n",
       "1      0.2475                                         (YouthBks)\n",
       "2      0.4310                                          (CookBks)\n",
       "3      0.2820                                         (DoItYBks)\n",
       "4      0.2145                                           (RefBks)\n",
       "...       ...                                                ...\n",
       "1057   0.0060  (ItalArt, ItalCook, RefBks, YouthBks, ItalAtla...\n",
       "1058   0.0050  (ItalArt, ItalCook, GeogBks, RefBks, ChildBks,...\n",
       "1059   0.0065  (ItalArt, ItalCook, RefBks, ItalAtlas, ChildBk...\n",
       "1060   0.0080  (ItalArt, ItalCook, GeogBks, RefBks, ItalAtlas...\n",
       "1061   0.0050  (ItalArt, ItalCook, GeogBks, RefBks, ItalAtlas...\n",
       "\n",
       "[1062 rows x 2 columns]"
      ]
     },
     "execution_count": 37,
     "metadata": {},
     "output_type": "execute_result"
    }
   ],
   "source": [
    "frequent_itemsets=apriori(data,min_support=0.005,use_colnames=True)\n",
    "frequent_itemsets"
   ]
  },
  {
   "cell_type": "markdown",
   "metadata": {},
   "source": [
    "## Create Association rules"
   ]
  },
  {
   "cell_type": "code",
   "execution_count": 38,
   "metadata": {},
   "outputs": [
    {
     "data": {
      "text/html": [
       "<div>\n",
       "<style scoped>\n",
       "    .dataframe tbody tr th:only-of-type {\n",
       "        vertical-align: middle;\n",
       "    }\n",
       "\n",
       "    .dataframe tbody tr th {\n",
       "        vertical-align: top;\n",
       "    }\n",
       "\n",
       "    .dataframe thead th {\n",
       "        text-align: right;\n",
       "    }\n",
       "</style>\n",
       "<table border=\"1\" class=\"dataframe\">\n",
       "  <thead>\n",
       "    <tr style=\"text-align: right;\">\n",
       "      <th></th>\n",
       "      <th>antecedents</th>\n",
       "      <th>consequents</th>\n",
       "      <th>antecedent support</th>\n",
       "      <th>consequent support</th>\n",
       "      <th>support</th>\n",
       "      <th>confidence</th>\n",
       "      <th>lift</th>\n",
       "      <th>leverage</th>\n",
       "      <th>conviction</th>\n",
       "    </tr>\n",
       "  </thead>\n",
       "  <tbody>\n",
       "    <tr>\n",
       "      <th>0</th>\n",
       "      <td>(YouthBks)</td>\n",
       "      <td>(ChildBks)</td>\n",
       "      <td>0.2475</td>\n",
       "      <td>0.4230</td>\n",
       "      <td>0.165</td>\n",
       "      <td>0.666667</td>\n",
       "      <td>1.576044</td>\n",
       "      <td>0.060308</td>\n",
       "      <td>1.731000</td>\n",
       "    </tr>\n",
       "    <tr>\n",
       "      <th>1</th>\n",
       "      <td>(ChildBks)</td>\n",
       "      <td>(YouthBks)</td>\n",
       "      <td>0.4230</td>\n",
       "      <td>0.2475</td>\n",
       "      <td>0.165</td>\n",
       "      <td>0.390071</td>\n",
       "      <td>1.576044</td>\n",
       "      <td>0.060308</td>\n",
       "      <td>1.233750</td>\n",
       "    </tr>\n",
       "    <tr>\n",
       "      <th>2</th>\n",
       "      <td>(CookBks)</td>\n",
       "      <td>(ChildBks)</td>\n",
       "      <td>0.4310</td>\n",
       "      <td>0.4230</td>\n",
       "      <td>0.256</td>\n",
       "      <td>0.593968</td>\n",
       "      <td>1.404179</td>\n",
       "      <td>0.073687</td>\n",
       "      <td>1.421069</td>\n",
       "    </tr>\n",
       "    <tr>\n",
       "      <th>3</th>\n",
       "      <td>(ChildBks)</td>\n",
       "      <td>(CookBks)</td>\n",
       "      <td>0.4230</td>\n",
       "      <td>0.4310</td>\n",
       "      <td>0.256</td>\n",
       "      <td>0.605201</td>\n",
       "      <td>1.404179</td>\n",
       "      <td>0.073687</td>\n",
       "      <td>1.441240</td>\n",
       "    </tr>\n",
       "    <tr>\n",
       "      <th>4</th>\n",
       "      <td>(ChildBks)</td>\n",
       "      <td>(DoItYBks)</td>\n",
       "      <td>0.4230</td>\n",
       "      <td>0.2820</td>\n",
       "      <td>0.184</td>\n",
       "      <td>0.434988</td>\n",
       "      <td>1.542511</td>\n",
       "      <td>0.064714</td>\n",
       "      <td>1.270770</td>\n",
       "    </tr>\n",
       "    <tr>\n",
       "      <th>...</th>\n",
       "      <td>...</td>\n",
       "      <td>...</td>\n",
       "      <td>...</td>\n",
       "      <td>...</td>\n",
       "      <td>...</td>\n",
       "      <td>...</td>\n",
       "      <td>...</td>\n",
       "      <td>...</td>\n",
       "      <td>...</td>\n",
       "    </tr>\n",
       "    <tr>\n",
       "      <th>35297</th>\n",
       "      <td>(RefBks)</td>\n",
       "      <td>(ItalArt, ItalCook, GeogBks, ItalAtlas, ArtBks...</td>\n",
       "      <td>0.2145</td>\n",
       "      <td>0.0050</td>\n",
       "      <td>0.005</td>\n",
       "      <td>0.023310</td>\n",
       "      <td>4.662005</td>\n",
       "      <td>0.003928</td>\n",
       "      <td>1.018747</td>\n",
       "    </tr>\n",
       "    <tr>\n",
       "      <th>35298</th>\n",
       "      <td>(ItalAtlas)</td>\n",
       "      <td>(ItalArt, ItalCook, GeogBks, RefBks, ArtBks, C...</td>\n",
       "      <td>0.0370</td>\n",
       "      <td>0.0055</td>\n",
       "      <td>0.005</td>\n",
       "      <td>0.135135</td>\n",
       "      <td>24.570025</td>\n",
       "      <td>0.004797</td>\n",
       "      <td>1.149891</td>\n",
       "    </tr>\n",
       "    <tr>\n",
       "      <th>35299</th>\n",
       "      <td>(ArtBks)</td>\n",
       "      <td>(ItalArt, ItalCook, GeogBks, RefBks, ItalAtlas...</td>\n",
       "      <td>0.2410</td>\n",
       "      <td>0.0050</td>\n",
       "      <td>0.005</td>\n",
       "      <td>0.020747</td>\n",
       "      <td>4.149378</td>\n",
       "      <td>0.003795</td>\n",
       "      <td>1.016081</td>\n",
       "    </tr>\n",
       "    <tr>\n",
       "      <th>35300</th>\n",
       "      <td>(CookBks)</td>\n",
       "      <td>(ItalArt, ItalCook, GeogBks, RefBks, ItalAtlas...</td>\n",
       "      <td>0.4310</td>\n",
       "      <td>0.0050</td>\n",
       "      <td>0.005</td>\n",
       "      <td>0.011601</td>\n",
       "      <td>2.320186</td>\n",
       "      <td>0.002845</td>\n",
       "      <td>1.006678</td>\n",
       "    </tr>\n",
       "    <tr>\n",
       "      <th>35301</th>\n",
       "      <td>(DoItYBks)</td>\n",
       "      <td>(ItalArt, ItalCook, GeogBks, RefBks, ItalAtlas...</td>\n",
       "      <td>0.2820</td>\n",
       "      <td>0.0090</td>\n",
       "      <td>0.005</td>\n",
       "      <td>0.017730</td>\n",
       "      <td>1.970055</td>\n",
       "      <td>0.002462</td>\n",
       "      <td>1.008888</td>\n",
       "    </tr>\n",
       "  </tbody>\n",
       "</table>\n",
       "<p>35302 rows × 9 columns</p>\n",
       "</div>"
      ],
      "text/plain": [
       "       antecedents                                        consequents  \\\n",
       "0       (YouthBks)                                         (ChildBks)   \n",
       "1       (ChildBks)                                         (YouthBks)   \n",
       "2        (CookBks)                                         (ChildBks)   \n",
       "3       (ChildBks)                                          (CookBks)   \n",
       "4       (ChildBks)                                         (DoItYBks)   \n",
       "...            ...                                                ...   \n",
       "35297     (RefBks)  (ItalArt, ItalCook, GeogBks, ItalAtlas, ArtBks...   \n",
       "35298  (ItalAtlas)  (ItalArt, ItalCook, GeogBks, RefBks, ArtBks, C...   \n",
       "35299     (ArtBks)  (ItalArt, ItalCook, GeogBks, RefBks, ItalAtlas...   \n",
       "35300    (CookBks)  (ItalArt, ItalCook, GeogBks, RefBks, ItalAtlas...   \n",
       "35301   (DoItYBks)  (ItalArt, ItalCook, GeogBks, RefBks, ItalAtlas...   \n",
       "\n",
       "       antecedent support  consequent support  support  confidence       lift  \\\n",
       "0                  0.2475              0.4230    0.165    0.666667   1.576044   \n",
       "1                  0.4230              0.2475    0.165    0.390071   1.576044   \n",
       "2                  0.4310              0.4230    0.256    0.593968   1.404179   \n",
       "3                  0.4230              0.4310    0.256    0.605201   1.404179   \n",
       "4                  0.4230              0.2820    0.184    0.434988   1.542511   \n",
       "...                   ...                 ...      ...         ...        ...   \n",
       "35297              0.2145              0.0050    0.005    0.023310   4.662005   \n",
       "35298              0.0370              0.0055    0.005    0.135135  24.570025   \n",
       "35299              0.2410              0.0050    0.005    0.020747   4.149378   \n",
       "35300              0.4310              0.0050    0.005    0.011601   2.320186   \n",
       "35301              0.2820              0.0090    0.005    0.017730   1.970055   \n",
       "\n",
       "       leverage  conviction  \n",
       "0      0.060308    1.731000  \n",
       "1      0.060308    1.233750  \n",
       "2      0.073687    1.421069  \n",
       "3      0.073687    1.441240  \n",
       "4      0.064714    1.270770  \n",
       "...         ...         ...  \n",
       "35297  0.003928    1.018747  \n",
       "35298  0.004797    1.149891  \n",
       "35299  0.003795    1.016081  \n",
       "35300  0.002845    1.006678  \n",
       "35301  0.002462    1.008888  \n",
       "\n",
       "[35302 rows x 9 columns]"
      ]
     },
     "execution_count": 38,
     "metadata": {},
     "output_type": "execute_result"
    }
   ],
   "source": [
    "rules=association_rules(frequent_itemsets,metric=\"lift\",min_threshold=0.05)\n",
    "rules"
   ]
  },
  {
   "cell_type": "code",
   "execution_count": 39,
   "metadata": {},
   "outputs": [
    {
     "data": {
      "text/html": [
       "<div>\n",
       "<style scoped>\n",
       "    .dataframe tbody tr th:only-of-type {\n",
       "        vertical-align: middle;\n",
       "    }\n",
       "\n",
       "    .dataframe tbody tr th {\n",
       "        vertical-align: top;\n",
       "    }\n",
       "\n",
       "    .dataframe thead th {\n",
       "        text-align: right;\n",
       "    }\n",
       "</style>\n",
       "<table border=\"1\" class=\"dataframe\">\n",
       "  <thead>\n",
       "    <tr style=\"text-align: right;\">\n",
       "      <th></th>\n",
       "      <th>antecedents</th>\n",
       "      <th>consequents</th>\n",
       "      <th>antecedent support</th>\n",
       "      <th>consequent support</th>\n",
       "      <th>support</th>\n",
       "      <th>confidence</th>\n",
       "      <th>lift</th>\n",
       "      <th>leverage</th>\n",
       "      <th>conviction</th>\n",
       "    </tr>\n",
       "  </thead>\n",
       "  <tbody>\n",
       "    <tr>\n",
       "      <th>0</th>\n",
       "      <td>(YouthBks)</td>\n",
       "      <td>(ChildBks)</td>\n",
       "      <td>0.2475</td>\n",
       "      <td>0.4230</td>\n",
       "      <td>0.1650</td>\n",
       "      <td>0.666667</td>\n",
       "      <td>1.576044</td>\n",
       "      <td>0.060308</td>\n",
       "      <td>1.731000</td>\n",
       "    </tr>\n",
       "    <tr>\n",
       "      <th>1</th>\n",
       "      <td>(ChildBks)</td>\n",
       "      <td>(YouthBks)</td>\n",
       "      <td>0.4230</td>\n",
       "      <td>0.2475</td>\n",
       "      <td>0.1650</td>\n",
       "      <td>0.390071</td>\n",
       "      <td>1.576044</td>\n",
       "      <td>0.060308</td>\n",
       "      <td>1.233750</td>\n",
       "    </tr>\n",
       "    <tr>\n",
       "      <th>2</th>\n",
       "      <td>(CookBks)</td>\n",
       "      <td>(ChildBks)</td>\n",
       "      <td>0.4310</td>\n",
       "      <td>0.4230</td>\n",
       "      <td>0.2560</td>\n",
       "      <td>0.593968</td>\n",
       "      <td>1.404179</td>\n",
       "      <td>0.073687</td>\n",
       "      <td>1.421069</td>\n",
       "    </tr>\n",
       "    <tr>\n",
       "      <th>3</th>\n",
       "      <td>(ChildBks)</td>\n",
       "      <td>(CookBks)</td>\n",
       "      <td>0.4230</td>\n",
       "      <td>0.4310</td>\n",
       "      <td>0.2560</td>\n",
       "      <td>0.605201</td>\n",
       "      <td>1.404179</td>\n",
       "      <td>0.073687</td>\n",
       "      <td>1.441240</td>\n",
       "    </tr>\n",
       "    <tr>\n",
       "      <th>4</th>\n",
       "      <td>(ChildBks)</td>\n",
       "      <td>(DoItYBks)</td>\n",
       "      <td>0.4230</td>\n",
       "      <td>0.2820</td>\n",
       "      <td>0.1840</td>\n",
       "      <td>0.434988</td>\n",
       "      <td>1.542511</td>\n",
       "      <td>0.064714</td>\n",
       "      <td>1.270770</td>\n",
       "    </tr>\n",
       "    <tr>\n",
       "      <th>...</th>\n",
       "      <td>...</td>\n",
       "      <td>...</td>\n",
       "      <td>...</td>\n",
       "      <td>...</td>\n",
       "      <td>...</td>\n",
       "      <td>...</td>\n",
       "      <td>...</td>\n",
       "      <td>...</td>\n",
       "      <td>...</td>\n",
       "    </tr>\n",
       "    <tr>\n",
       "      <th>1061</th>\n",
       "      <td>(GeogBks)</td>\n",
       "      <td>(CookBks, ChildBks, ArtBks, RefBks)</td>\n",
       "      <td>0.2760</td>\n",
       "      <td>0.0610</td>\n",
       "      <td>0.0405</td>\n",
       "      <td>0.146739</td>\n",
       "      <td>2.405560</td>\n",
       "      <td>0.023664</td>\n",
       "      <td>1.100484</td>\n",
       "    </tr>\n",
       "    <tr>\n",
       "      <th>1062</th>\n",
       "      <td>(RefBks)</td>\n",
       "      <td>(CookBks, ArtBks, GeogBks, ChildBks)</td>\n",
       "      <td>0.2145</td>\n",
       "      <td>0.0835</td>\n",
       "      <td>0.0405</td>\n",
       "      <td>0.188811</td>\n",
       "      <td>2.261212</td>\n",
       "      <td>0.022589</td>\n",
       "      <td>1.129823</td>\n",
       "    </tr>\n",
       "    <tr>\n",
       "      <th>1063</th>\n",
       "      <td>(ChildBks)</td>\n",
       "      <td>(CookBks, ArtBks, GeogBks, RefBks)</td>\n",
       "      <td>0.4230</td>\n",
       "      <td>0.0460</td>\n",
       "      <td>0.0405</td>\n",
       "      <td>0.095745</td>\n",
       "      <td>2.081406</td>\n",
       "      <td>0.021042</td>\n",
       "      <td>1.055012</td>\n",
       "    </tr>\n",
       "    <tr>\n",
       "      <th>1064</th>\n",
       "      <td>(ArtBks)</td>\n",
       "      <td>(CookBks, ChildBks, GeogBks, RefBks)</td>\n",
       "      <td>0.2410</td>\n",
       "      <td>0.0785</td>\n",
       "      <td>0.0405</td>\n",
       "      <td>0.168050</td>\n",
       "      <td>2.140762</td>\n",
       "      <td>0.021582</td>\n",
       "      <td>1.107638</td>\n",
       "    </tr>\n",
       "    <tr>\n",
       "      <th>1065</th>\n",
       "      <td>(CookBks)</td>\n",
       "      <td>(ArtBks, ChildBks, GeogBks, RefBks)</td>\n",
       "      <td>0.4310</td>\n",
       "      <td>0.0495</td>\n",
       "      <td>0.0405</td>\n",
       "      <td>0.093968</td>\n",
       "      <td>1.898334</td>\n",
       "      <td>0.019166</td>\n",
       "      <td>1.049079</td>\n",
       "    </tr>\n",
       "  </tbody>\n",
       "</table>\n",
       "<p>1066 rows × 9 columns</p>\n",
       "</div>"
      ],
      "text/plain": [
       "     antecedents                           consequents  antecedent support  \\\n",
       "0     (YouthBks)                            (ChildBks)              0.2475   \n",
       "1     (ChildBks)                            (YouthBks)              0.4230   \n",
       "2      (CookBks)                            (ChildBks)              0.4310   \n",
       "3     (ChildBks)                             (CookBks)              0.4230   \n",
       "4     (ChildBks)                            (DoItYBks)              0.4230   \n",
       "...          ...                                   ...                 ...   \n",
       "1061   (GeogBks)   (CookBks, ChildBks, ArtBks, RefBks)              0.2760   \n",
       "1062    (RefBks)  (CookBks, ArtBks, GeogBks, ChildBks)              0.2145   \n",
       "1063  (ChildBks)    (CookBks, ArtBks, GeogBks, RefBks)              0.4230   \n",
       "1064    (ArtBks)  (CookBks, ChildBks, GeogBks, RefBks)              0.2410   \n",
       "1065   (CookBks)   (ArtBks, ChildBks, GeogBks, RefBks)              0.4310   \n",
       "\n",
       "      consequent support  support  confidence      lift  leverage  conviction  \n",
       "0                 0.4230   0.1650    0.666667  1.576044  0.060308    1.731000  \n",
       "1                 0.2475   0.1650    0.390071  1.576044  0.060308    1.233750  \n",
       "2                 0.4230   0.2560    0.593968  1.404179  0.073687    1.421069  \n",
       "3                 0.4310   0.2560    0.605201  1.404179  0.073687    1.441240  \n",
       "4                 0.2820   0.1840    0.434988  1.542511  0.064714    1.270770  \n",
       "...                  ...      ...         ...       ...       ...         ...  \n",
       "1061              0.0610   0.0405    0.146739  2.405560  0.023664    1.100484  \n",
       "1062              0.0835   0.0405    0.188811  2.261212  0.022589    1.129823  \n",
       "1063              0.0460   0.0405    0.095745  2.081406  0.021042    1.055012  \n",
       "1064              0.0785   0.0405    0.168050  2.140762  0.021582    1.107638  \n",
       "1065              0.0495   0.0405    0.093968  1.898334  0.019166    1.049079  \n",
       "\n",
       "[1066 rows x 9 columns]"
      ]
     },
     "execution_count": 39,
     "metadata": {},
     "output_type": "execute_result"
    }
   ],
   "source": [
    "rules= association_rules(frequent_items,min_threshold=1,metric='lift')\n",
    "rules"
   ]
  },
  {
   "cell_type": "code",
   "execution_count": 40,
   "metadata": {},
   "outputs": [
    {
     "data": {
      "text/html": [
       "<div>\n",
       "<style scoped>\n",
       "    .dataframe tbody tr th:only-of-type {\n",
       "        vertical-align: middle;\n",
       "    }\n",
       "\n",
       "    .dataframe tbody tr th {\n",
       "        vertical-align: top;\n",
       "    }\n",
       "\n",
       "    .dataframe thead th {\n",
       "        text-align: right;\n",
       "    }\n",
       "</style>\n",
       "<table border=\"1\" class=\"dataframe\">\n",
       "  <thead>\n",
       "    <tr style=\"text-align: right;\">\n",
       "      <th></th>\n",
       "      <th>antecedents</th>\n",
       "      <th>consequents</th>\n",
       "      <th>antecedent support</th>\n",
       "      <th>consequent support</th>\n",
       "      <th>support</th>\n",
       "      <th>confidence</th>\n",
       "      <th>lift</th>\n",
       "      <th>leverage</th>\n",
       "      <th>conviction</th>\n",
       "    </tr>\n",
       "  </thead>\n",
       "  <tbody>\n",
       "    <tr>\n",
       "      <th>317</th>\n",
       "      <td>(ItalArt)</td>\n",
       "      <td>(CookBks, ArtBks)</td>\n",
       "      <td>0.0485</td>\n",
       "      <td>0.1670</td>\n",
       "      <td>0.0410</td>\n",
       "      <td>0.845361</td>\n",
       "      <td>5.062041</td>\n",
       "      <td>0.032900</td>\n",
       "      <td>5.386733</td>\n",
       "    </tr>\n",
       "    <tr>\n",
       "      <th>316</th>\n",
       "      <td>(CookBks, ArtBks)</td>\n",
       "      <td>(ItalArt)</td>\n",
       "      <td>0.1670</td>\n",
       "      <td>0.0485</td>\n",
       "      <td>0.0410</td>\n",
       "      <td>0.245509</td>\n",
       "      <td>5.062041</td>\n",
       "      <td>0.032900</td>\n",
       "      <td>1.261115</td>\n",
       "    </tr>\n",
       "    <tr>\n",
       "      <th>60</th>\n",
       "      <td>(ItalArt)</td>\n",
       "      <td>(ArtBks)</td>\n",
       "      <td>0.0485</td>\n",
       "      <td>0.2410</td>\n",
       "      <td>0.0485</td>\n",
       "      <td>1.000000</td>\n",
       "      <td>4.149378</td>\n",
       "      <td>0.036812</td>\n",
       "      <td>inf</td>\n",
       "    </tr>\n",
       "    <tr>\n",
       "      <th>61</th>\n",
       "      <td>(ArtBks)</td>\n",
       "      <td>(ItalArt)</td>\n",
       "      <td>0.2410</td>\n",
       "      <td>0.0485</td>\n",
       "      <td>0.0485</td>\n",
       "      <td>0.201245</td>\n",
       "      <td>4.149378</td>\n",
       "      <td>0.036812</td>\n",
       "      <td>1.191229</td>\n",
       "    </tr>\n",
       "    <tr>\n",
       "      <th>319</th>\n",
       "      <td>(ArtBks)</td>\n",
       "      <td>(ItalArt, CookBks)</td>\n",
       "      <td>0.2410</td>\n",
       "      <td>0.0410</td>\n",
       "      <td>0.0410</td>\n",
       "      <td>0.170124</td>\n",
       "      <td>4.149378</td>\n",
       "      <td>0.031119</td>\n",
       "      <td>1.155595</td>\n",
       "    </tr>\n",
       "    <tr>\n",
       "      <th>314</th>\n",
       "      <td>(ItalArt, CookBks)</td>\n",
       "      <td>(ArtBks)</td>\n",
       "      <td>0.0410</td>\n",
       "      <td>0.2410</td>\n",
       "      <td>0.0410</td>\n",
       "      <td>1.000000</td>\n",
       "      <td>4.149378</td>\n",
       "      <td>0.031119</td>\n",
       "      <td>inf</td>\n",
       "    </tr>\n",
       "    <tr>\n",
       "      <th>595</th>\n",
       "      <td>(ItalCook, RefBks)</td>\n",
       "      <td>(CookBks, ChildBks)</td>\n",
       "      <td>0.0465</td>\n",
       "      <td>0.2560</td>\n",
       "      <td>0.0415</td>\n",
       "      <td>0.892473</td>\n",
       "      <td>3.486223</td>\n",
       "      <td>0.029596</td>\n",
       "      <td>6.919200</td>\n",
       "    </tr>\n",
       "    <tr>\n",
       "      <th>594</th>\n",
       "      <td>(CookBks, ChildBks)</td>\n",
       "      <td>(ItalCook, RefBks)</td>\n",
       "      <td>0.2560</td>\n",
       "      <td>0.0465</td>\n",
       "      <td>0.0415</td>\n",
       "      <td>0.162109</td>\n",
       "      <td>3.486223</td>\n",
       "      <td>0.029596</td>\n",
       "      <td>1.137977</td>\n",
       "    </tr>\n",
       "    <tr>\n",
       "      <th>410</th>\n",
       "      <td>(CookBks, YouthBks)</td>\n",
       "      <td>(ItalCook, ChildBks)</td>\n",
       "      <td>0.1620</td>\n",
       "      <td>0.0850</td>\n",
       "      <td>0.0460</td>\n",
       "      <td>0.283951</td>\n",
       "      <td>3.340595</td>\n",
       "      <td>0.032230</td>\n",
       "      <td>1.277845</td>\n",
       "    </tr>\n",
       "    <tr>\n",
       "      <th>415</th>\n",
       "      <td>(ItalCook, ChildBks)</td>\n",
       "      <td>(CookBks, YouthBks)</td>\n",
       "      <td>0.0850</td>\n",
       "      <td>0.1620</td>\n",
       "      <td>0.0460</td>\n",
       "      <td>0.541176</td>\n",
       "      <td>3.340595</td>\n",
       "      <td>0.032230</td>\n",
       "      <td>1.826410</td>\n",
       "    </tr>\n",
       "    <tr>\n",
       "      <th>844</th>\n",
       "      <td>(RefBks, DoItYBks)</td>\n",
       "      <td>(CookBks, YouthBks, ChildBks)</td>\n",
       "      <td>0.1055</td>\n",
       "      <td>0.1290</td>\n",
       "      <td>0.0440</td>\n",
       "      <td>0.417062</td>\n",
       "      <td>3.233036</td>\n",
       "      <td>0.030390</td>\n",
       "      <td>1.494154</td>\n",
       "    </tr>\n",
       "    <tr>\n",
       "      <th>837</th>\n",
       "      <td>(CookBks, YouthBks, ChildBks)</td>\n",
       "      <td>(RefBks, DoItYBks)</td>\n",
       "      <td>0.1290</td>\n",
       "      <td>0.1055</td>\n",
       "      <td>0.0440</td>\n",
       "      <td>0.341085</td>\n",
       "      <td>3.233036</td>\n",
       "      <td>0.030390</td>\n",
       "      <td>1.357535</td>\n",
       "    </tr>\n",
       "    <tr>\n",
       "      <th>223</th>\n",
       "      <td>(ItalCook)</td>\n",
       "      <td>(CookBks, YouthBks)</td>\n",
       "      <td>0.1135</td>\n",
       "      <td>0.1620</td>\n",
       "      <td>0.0590</td>\n",
       "      <td>0.519824</td>\n",
       "      <td>3.208789</td>\n",
       "      <td>0.040613</td>\n",
       "      <td>1.745193</td>\n",
       "    </tr>\n",
       "    <tr>\n",
       "      <th>218</th>\n",
       "      <td>(CookBks, YouthBks)</td>\n",
       "      <td>(ItalCook)</td>\n",
       "      <td>0.1620</td>\n",
       "      <td>0.1135</td>\n",
       "      <td>0.0590</td>\n",
       "      <td>0.364198</td>\n",
       "      <td>3.208789</td>\n",
       "      <td>0.040613</td>\n",
       "      <td>1.394301</td>\n",
       "    </tr>\n",
       "    <tr>\n",
       "      <th>635</th>\n",
       "      <td>(CookBks, GeogBks)</td>\n",
       "      <td>(ItalCook, ChildBks)</td>\n",
       "      <td>0.1925</td>\n",
       "      <td>0.0850</td>\n",
       "      <td>0.0525</td>\n",
       "      <td>0.272727</td>\n",
       "      <td>3.208556</td>\n",
       "      <td>0.036137</td>\n",
       "      <td>1.258125</td>\n",
       "    </tr>\n",
       "    <tr>\n",
       "      <th>638</th>\n",
       "      <td>(ItalCook, ChildBks)</td>\n",
       "      <td>(CookBks, GeogBks)</td>\n",
       "      <td>0.0850</td>\n",
       "      <td>0.1925</td>\n",
       "      <td>0.0525</td>\n",
       "      <td>0.617647</td>\n",
       "      <td>3.208556</td>\n",
       "      <td>0.036137</td>\n",
       "      <td>2.111923</td>\n",
       "    </tr>\n",
       "    <tr>\n",
       "      <th>625</th>\n",
       "      <td>(ItalCook, ChildBks)</td>\n",
       "      <td>(CookBks, ArtBks)</td>\n",
       "      <td>0.0850</td>\n",
       "      <td>0.1670</td>\n",
       "      <td>0.0455</td>\n",
       "      <td>0.535294</td>\n",
       "      <td>3.205354</td>\n",
       "      <td>0.031305</td>\n",
       "      <td>1.792532</td>\n",
       "    </tr>\n",
       "    <tr>\n",
       "      <th>620</th>\n",
       "      <td>(CookBks, ArtBks)</td>\n",
       "      <td>(ItalCook, ChildBks)</td>\n",
       "      <td>0.1670</td>\n",
       "      <td>0.0850</td>\n",
       "      <td>0.0455</td>\n",
       "      <td>0.272455</td>\n",
       "      <td>3.205354</td>\n",
       "      <td>0.031305</td>\n",
       "      <td>1.257654</td>\n",
       "    </tr>\n",
       "    <tr>\n",
       "      <th>636</th>\n",
       "      <td>(CookBks, ChildBks)</td>\n",
       "      <td>(ItalCook, GeogBks)</td>\n",
       "      <td>0.2560</td>\n",
       "      <td>0.0640</td>\n",
       "      <td>0.0525</td>\n",
       "      <td>0.205078</td>\n",
       "      <td>3.204346</td>\n",
       "      <td>0.036116</td>\n",
       "      <td>1.177474</td>\n",
       "    </tr>\n",
       "    <tr>\n",
       "      <th>637</th>\n",
       "      <td>(ItalCook, GeogBks)</td>\n",
       "      <td>(CookBks, ChildBks)</td>\n",
       "      <td>0.0640</td>\n",
       "      <td>0.2560</td>\n",
       "      <td>0.0525</td>\n",
       "      <td>0.820312</td>\n",
       "      <td>3.204346</td>\n",
       "      <td>0.036116</td>\n",
       "      <td>4.140522</td>\n",
       "    </tr>\n",
       "  </tbody>\n",
       "</table>\n",
       "</div>"
      ],
      "text/plain": [
       "                       antecedents                    consequents  \\\n",
       "317                      (ItalArt)              (CookBks, ArtBks)   \n",
       "316              (CookBks, ArtBks)                      (ItalArt)   \n",
       "60                       (ItalArt)                       (ArtBks)   \n",
       "61                        (ArtBks)                      (ItalArt)   \n",
       "319                       (ArtBks)             (ItalArt, CookBks)   \n",
       "314             (ItalArt, CookBks)                       (ArtBks)   \n",
       "595             (ItalCook, RefBks)            (CookBks, ChildBks)   \n",
       "594            (CookBks, ChildBks)             (ItalCook, RefBks)   \n",
       "410            (CookBks, YouthBks)           (ItalCook, ChildBks)   \n",
       "415           (ItalCook, ChildBks)            (CookBks, YouthBks)   \n",
       "844             (RefBks, DoItYBks)  (CookBks, YouthBks, ChildBks)   \n",
       "837  (CookBks, YouthBks, ChildBks)             (RefBks, DoItYBks)   \n",
       "223                     (ItalCook)            (CookBks, YouthBks)   \n",
       "218            (CookBks, YouthBks)                     (ItalCook)   \n",
       "635             (CookBks, GeogBks)           (ItalCook, ChildBks)   \n",
       "638           (ItalCook, ChildBks)             (CookBks, GeogBks)   \n",
       "625           (ItalCook, ChildBks)              (CookBks, ArtBks)   \n",
       "620              (CookBks, ArtBks)           (ItalCook, ChildBks)   \n",
       "636            (CookBks, ChildBks)            (ItalCook, GeogBks)   \n",
       "637            (ItalCook, GeogBks)            (CookBks, ChildBks)   \n",
       "\n",
       "     antecedent support  consequent support  support  confidence      lift  \\\n",
       "317              0.0485              0.1670   0.0410    0.845361  5.062041   \n",
       "316              0.1670              0.0485   0.0410    0.245509  5.062041   \n",
       "60               0.0485              0.2410   0.0485    1.000000  4.149378   \n",
       "61               0.2410              0.0485   0.0485    0.201245  4.149378   \n",
       "319              0.2410              0.0410   0.0410    0.170124  4.149378   \n",
       "314              0.0410              0.2410   0.0410    1.000000  4.149378   \n",
       "595              0.0465              0.2560   0.0415    0.892473  3.486223   \n",
       "594              0.2560              0.0465   0.0415    0.162109  3.486223   \n",
       "410              0.1620              0.0850   0.0460    0.283951  3.340595   \n",
       "415              0.0850              0.1620   0.0460    0.541176  3.340595   \n",
       "844              0.1055              0.1290   0.0440    0.417062  3.233036   \n",
       "837              0.1290              0.1055   0.0440    0.341085  3.233036   \n",
       "223              0.1135              0.1620   0.0590    0.519824  3.208789   \n",
       "218              0.1620              0.1135   0.0590    0.364198  3.208789   \n",
       "635              0.1925              0.0850   0.0525    0.272727  3.208556   \n",
       "638              0.0850              0.1925   0.0525    0.617647  3.208556   \n",
       "625              0.0850              0.1670   0.0455    0.535294  3.205354   \n",
       "620              0.1670              0.0850   0.0455    0.272455  3.205354   \n",
       "636              0.2560              0.0640   0.0525    0.205078  3.204346   \n",
       "637              0.0640              0.2560   0.0525    0.820312  3.204346   \n",
       "\n",
       "     leverage  conviction  \n",
       "317  0.032900    5.386733  \n",
       "316  0.032900    1.261115  \n",
       "60   0.036812         inf  \n",
       "61   0.036812    1.191229  \n",
       "319  0.031119    1.155595  \n",
       "314  0.031119         inf  \n",
       "595  0.029596    6.919200  \n",
       "594  0.029596    1.137977  \n",
       "410  0.032230    1.277845  \n",
       "415  0.032230    1.826410  \n",
       "844  0.030390    1.494154  \n",
       "837  0.030390    1.357535  \n",
       "223  0.040613    1.745193  \n",
       "218  0.040613    1.394301  \n",
       "635  0.036137    1.258125  \n",
       "638  0.036137    2.111923  \n",
       "625  0.031305    1.792532  \n",
       "620  0.031305    1.257654  \n",
       "636  0.036116    1.177474  \n",
       "637  0.036116    4.140522  "
      ]
     },
     "execution_count": 40,
     "metadata": {},
     "output_type": "execute_result"
    }
   ],
   "source": [
    "rules.sort_values('lift',ascending=False)[0:20]"
   ]
  },
  {
   "cell_type": "code",
   "execution_count": 41,
   "metadata": {},
   "outputs": [],
   "source": [
    "## To eliminate the reducdancy in rules\n",
    "def to_list(i):\n",
    "    return sorted(i)\n",
    "\n",
    "data1=rules.antecedents.apply(to_list)+rules.consequents.apply(to_list)\n",
    "\n",
    "data1=data1.apply(sorted)\n",
    "return_rules=list(data1)\n",
    "unique_rules=[list(m) for m in set(tuple(i) for i in return_rules)]\n",
    "\n",
    "index_rules=[]\n",
    "for i in unique_rules:\n",
    "    index_rules.append(return_rules.index(i))"
   ]
  },
  {
   "cell_type": "code",
   "execution_count": 42,
   "metadata": {},
   "outputs": [],
   "source": [
    "##Getting the rules without any redundancies\n",
    "rules_without_redundancies=rules.iloc[index_rules,:]"
   ]
  },
  {
   "cell_type": "code",
   "execution_count": 43,
   "metadata": {},
   "outputs": [
    {
     "data": {
      "text/html": [
       "<div>\n",
       "<style scoped>\n",
       "    .dataframe tbody tr th:only-of-type {\n",
       "        vertical-align: middle;\n",
       "    }\n",
       "\n",
       "    .dataframe tbody tr th {\n",
       "        vertical-align: top;\n",
       "    }\n",
       "\n",
       "    .dataframe thead th {\n",
       "        text-align: right;\n",
       "    }\n",
       "</style>\n",
       "<table border=\"1\" class=\"dataframe\">\n",
       "  <thead>\n",
       "    <tr style=\"text-align: right;\">\n",
       "      <th></th>\n",
       "      <th>antecedents</th>\n",
       "      <th>consequents</th>\n",
       "      <th>antecedent support</th>\n",
       "      <th>consequent support</th>\n",
       "      <th>support</th>\n",
       "      <th>confidence</th>\n",
       "      <th>lift</th>\n",
       "      <th>leverage</th>\n",
       "      <th>conviction</th>\n",
       "    </tr>\n",
       "  </thead>\n",
       "  <tbody>\n",
       "    <tr>\n",
       "      <th>886</th>\n",
       "      <td>(CookBks, YouthBks, GeogBks, ChildBks)</td>\n",
       "      <td>(DoItYBks)</td>\n",
       "      <td>0.0830</td>\n",
       "      <td>0.282</td>\n",
       "      <td>0.0510</td>\n",
       "      <td>0.614458</td>\n",
       "      <td>2.178928</td>\n",
       "      <td>0.027594</td>\n",
       "      <td>1.862312</td>\n",
       "    </tr>\n",
       "    <tr>\n",
       "      <th>364</th>\n",
       "      <td>(CookBks, YouthBks, RefBks)</td>\n",
       "      <td>(ChildBks)</td>\n",
       "      <td>0.0775</td>\n",
       "      <td>0.423</td>\n",
       "      <td>0.0680</td>\n",
       "      <td>0.877419</td>\n",
       "      <td>2.074277</td>\n",
       "      <td>0.035218</td>\n",
       "      <td>4.707105</td>\n",
       "    </tr>\n",
       "    <tr>\n",
       "      <th>560</th>\n",
       "      <td>(CookBks, ArtBks, RefBks)</td>\n",
       "      <td>(ChildBks)</td>\n",
       "      <td>0.0700</td>\n",
       "      <td>0.423</td>\n",
       "      <td>0.0610</td>\n",
       "      <td>0.871429</td>\n",
       "      <td>2.060115</td>\n",
       "      <td>0.031390</td>\n",
       "      <td>4.487778</td>\n",
       "    </tr>\n",
       "    <tr>\n",
       "      <th>616</th>\n",
       "      <td>(CookBks, ArtBks, ItalCook)</td>\n",
       "      <td>(ChildBks)</td>\n",
       "      <td>0.0565</td>\n",
       "      <td>0.423</td>\n",
       "      <td>0.0455</td>\n",
       "      <td>0.805310</td>\n",
       "      <td>1.903806</td>\n",
       "      <td>0.021600</td>\n",
       "      <td>2.963682</td>\n",
       "    </tr>\n",
       "    <tr>\n",
       "      <th>700</th>\n",
       "      <td>(CookBks, YouthBks, RefBks)</td>\n",
       "      <td>(DoItYBks)</td>\n",
       "      <td>0.0775</td>\n",
       "      <td>0.282</td>\n",
       "      <td>0.0485</td>\n",
       "      <td>0.625806</td>\n",
       "      <td>2.219172</td>\n",
       "      <td>0.026645</td>\n",
       "      <td>1.918793</td>\n",
       "    </tr>\n",
       "    <tr>\n",
       "      <th>...</th>\n",
       "      <td>...</td>\n",
       "      <td>...</td>\n",
       "      <td>...</td>\n",
       "      <td>...</td>\n",
       "      <td>...</td>\n",
       "      <td>...</td>\n",
       "      <td>...</td>\n",
       "      <td>...</td>\n",
       "      <td>...</td>\n",
       "    </tr>\n",
       "    <tr>\n",
       "      <th>122</th>\n",
       "      <td>(CookBks, GeogBks)</td>\n",
       "      <td>(ChildBks)</td>\n",
       "      <td>0.1925</td>\n",
       "      <td>0.423</td>\n",
       "      <td>0.1495</td>\n",
       "      <td>0.776623</td>\n",
       "      <td>1.835989</td>\n",
       "      <td>0.068072</td>\n",
       "      <td>2.583081</td>\n",
       "    </tr>\n",
       "    <tr>\n",
       "      <th>176</th>\n",
       "      <td>(ArtBks, GeogBks)</td>\n",
       "      <td>(ChildBks)</td>\n",
       "      <td>0.1275</td>\n",
       "      <td>0.423</td>\n",
       "      <td>0.1020</td>\n",
       "      <td>0.800000</td>\n",
       "      <td>1.891253</td>\n",
       "      <td>0.048067</td>\n",
       "      <td>2.885000</td>\n",
       "    </tr>\n",
       "    <tr>\n",
       "      <th>314</th>\n",
       "      <td>(ItalArt, CookBks)</td>\n",
       "      <td>(ArtBks)</td>\n",
       "      <td>0.0410</td>\n",
       "      <td>0.241</td>\n",
       "      <td>0.0410</td>\n",
       "      <td>1.000000</td>\n",
       "      <td>4.149378</td>\n",
       "      <td>0.031119</td>\n",
       "      <td>inf</td>\n",
       "    </tr>\n",
       "    <tr>\n",
       "      <th>518</th>\n",
       "      <td>(CookBks, ArtBks, ChildBks)</td>\n",
       "      <td>(DoItYBks)</td>\n",
       "      <td>0.1265</td>\n",
       "      <td>0.282</td>\n",
       "      <td>0.0820</td>\n",
       "      <td>0.648221</td>\n",
       "      <td>2.298657</td>\n",
       "      <td>0.046327</td>\n",
       "      <td>2.041056</td>\n",
       "    </tr>\n",
       "    <tr>\n",
       "      <th>448</th>\n",
       "      <td>(YouthBks, GeogBks, ChildBks)</td>\n",
       "      <td>(DoItYBks)</td>\n",
       "      <td>0.0990</td>\n",
       "      <td>0.282</td>\n",
       "      <td>0.0565</td>\n",
       "      <td>0.570707</td>\n",
       "      <td>2.023784</td>\n",
       "      <td>0.028582</td>\n",
       "      <td>1.672518</td>\n",
       "    </tr>\n",
       "  </tbody>\n",
       "</table>\n",
       "<p>123 rows × 9 columns</p>\n",
       "</div>"
      ],
      "text/plain": [
       "                                antecedents consequents  antecedent support  \\\n",
       "886  (CookBks, YouthBks, GeogBks, ChildBks)  (DoItYBks)              0.0830   \n",
       "364             (CookBks, YouthBks, RefBks)  (ChildBks)              0.0775   \n",
       "560               (CookBks, ArtBks, RefBks)  (ChildBks)              0.0700   \n",
       "616             (CookBks, ArtBks, ItalCook)  (ChildBks)              0.0565   \n",
       "700             (CookBks, YouthBks, RefBks)  (DoItYBks)              0.0775   \n",
       "..                                      ...         ...                 ...   \n",
       "122                      (CookBks, GeogBks)  (ChildBks)              0.1925   \n",
       "176                       (ArtBks, GeogBks)  (ChildBks)              0.1275   \n",
       "314                      (ItalArt, CookBks)    (ArtBks)              0.0410   \n",
       "518             (CookBks, ArtBks, ChildBks)  (DoItYBks)              0.1265   \n",
       "448           (YouthBks, GeogBks, ChildBks)  (DoItYBks)              0.0990   \n",
       "\n",
       "     consequent support  support  confidence      lift  leverage  conviction  \n",
       "886               0.282   0.0510    0.614458  2.178928  0.027594    1.862312  \n",
       "364               0.423   0.0680    0.877419  2.074277  0.035218    4.707105  \n",
       "560               0.423   0.0610    0.871429  2.060115  0.031390    4.487778  \n",
       "616               0.423   0.0455    0.805310  1.903806  0.021600    2.963682  \n",
       "700               0.282   0.0485    0.625806  2.219172  0.026645    1.918793  \n",
       "..                  ...      ...         ...       ...       ...         ...  \n",
       "122               0.423   0.1495    0.776623  1.835989  0.068072    2.583081  \n",
       "176               0.423   0.1020    0.800000  1.891253  0.048067    2.885000  \n",
       "314               0.241   0.0410    1.000000  4.149378  0.031119         inf  \n",
       "518               0.282   0.0820    0.648221  2.298657  0.046327    2.041056  \n",
       "448               0.282   0.0565    0.570707  2.023784  0.028582    1.672518  \n",
       "\n",
       "[123 rows x 9 columns]"
      ]
     },
     "execution_count": 43,
     "metadata": {},
     "output_type": "execute_result"
    }
   ],
   "source": [
    "##Getting rules without redundancies\n",
    "rules_without_redundancies"
   ]
  },
  {
   "cell_type": "code",
   "execution_count": 44,
   "metadata": {
    "scrolled": true
   },
   "outputs": [
    {
     "data": {
      "text/html": [
       "<div>\n",
       "<style scoped>\n",
       "    .dataframe tbody tr th:only-of-type {\n",
       "        vertical-align: middle;\n",
       "    }\n",
       "\n",
       "    .dataframe tbody tr th {\n",
       "        vertical-align: top;\n",
       "    }\n",
       "\n",
       "    .dataframe thead th {\n",
       "        text-align: right;\n",
       "    }\n",
       "</style>\n",
       "<table border=\"1\" class=\"dataframe\">\n",
       "  <thead>\n",
       "    <tr style=\"text-align: right;\">\n",
       "      <th></th>\n",
       "      <th>antecedents</th>\n",
       "      <th>consequents</th>\n",
       "      <th>antecedent support</th>\n",
       "      <th>consequent support</th>\n",
       "      <th>support</th>\n",
       "      <th>confidence</th>\n",
       "      <th>lift</th>\n",
       "      <th>leverage</th>\n",
       "      <th>conviction</th>\n",
       "    </tr>\n",
       "  </thead>\n",
       "  <tbody>\n",
       "    <tr>\n",
       "      <th>60</th>\n",
       "      <td>(ItalArt)</td>\n",
       "      <td>(ArtBks)</td>\n",
       "      <td>0.0485</td>\n",
       "      <td>0.2410</td>\n",
       "      <td>0.0485</td>\n",
       "      <td>1.000000</td>\n",
       "      <td>4.149378</td>\n",
       "      <td>0.036812</td>\n",
       "      <td>inf</td>\n",
       "    </tr>\n",
       "    <tr>\n",
       "      <th>314</th>\n",
       "      <td>(ItalArt, CookBks)</td>\n",
       "      <td>(ArtBks)</td>\n",
       "      <td>0.0410</td>\n",
       "      <td>0.2410</td>\n",
       "      <td>0.0410</td>\n",
       "      <td>1.000000</td>\n",
       "      <td>4.149378</td>\n",
       "      <td>0.031119</td>\n",
       "      <td>inf</td>\n",
       "    </tr>\n",
       "    <tr>\n",
       "      <th>218</th>\n",
       "      <td>(CookBks, YouthBks)</td>\n",
       "      <td>(ItalCook)</td>\n",
       "      <td>0.1620</td>\n",
       "      <td>0.1135</td>\n",
       "      <td>0.0590</td>\n",
       "      <td>0.364198</td>\n",
       "      <td>3.208789</td>\n",
       "      <td>0.040613</td>\n",
       "      <td>1.394301</td>\n",
       "    </tr>\n",
       "    <tr>\n",
       "      <th>308</th>\n",
       "      <td>(CookBks, ArtBks)</td>\n",
       "      <td>(ItalCook)</td>\n",
       "      <td>0.1670</td>\n",
       "      <td>0.1135</td>\n",
       "      <td>0.0565</td>\n",
       "      <td>0.338323</td>\n",
       "      <td>2.980822</td>\n",
       "      <td>0.037545</td>\n",
       "      <td>1.339778</td>\n",
       "    </tr>\n",
       "    <tr>\n",
       "      <th>756</th>\n",
       "      <td>(CookBks, YouthBks, GeogBks)</td>\n",
       "      <td>(ArtBks)</td>\n",
       "      <td>0.0970</td>\n",
       "      <td>0.2410</td>\n",
       "      <td>0.0560</td>\n",
       "      <td>0.577320</td>\n",
       "      <td>2.395517</td>\n",
       "      <td>0.032623</td>\n",
       "      <td>1.795683</td>\n",
       "    </tr>\n",
       "    <tr>\n",
       "      <th>...</th>\n",
       "      <td>...</td>\n",
       "      <td>...</td>\n",
       "      <td>...</td>\n",
       "      <td>...</td>\n",
       "      <td>...</td>\n",
       "      <td>...</td>\n",
       "      <td>...</td>\n",
       "      <td>...</td>\n",
       "      <td>...</td>\n",
       "    </tr>\n",
       "    <tr>\n",
       "      <th>16</th>\n",
       "      <td>(CookBks)</td>\n",
       "      <td>(YouthBks)</td>\n",
       "      <td>0.4310</td>\n",
       "      <td>0.2475</td>\n",
       "      <td>0.1620</td>\n",
       "      <td>0.375870</td>\n",
       "      <td>1.518667</td>\n",
       "      <td>0.055328</td>\n",
       "      <td>1.205678</td>\n",
       "    </tr>\n",
       "    <tr>\n",
       "      <th>66</th>\n",
       "      <td>(GeogBks)</td>\n",
       "      <td>(Florence)</td>\n",
       "      <td>0.2760</td>\n",
       "      <td>0.1085</td>\n",
       "      <td>0.0425</td>\n",
       "      <td>0.153986</td>\n",
       "      <td>1.419221</td>\n",
       "      <td>0.012554</td>\n",
       "      <td>1.053764</td>\n",
       "    </tr>\n",
       "    <tr>\n",
       "      <th>2</th>\n",
       "      <td>(CookBks)</td>\n",
       "      <td>(ChildBks)</td>\n",
       "      <td>0.4310</td>\n",
       "      <td>0.4230</td>\n",
       "      <td>0.2560</td>\n",
       "      <td>0.593968</td>\n",
       "      <td>1.404179</td>\n",
       "      <td>0.073687</td>\n",
       "      <td>1.421069</td>\n",
       "    </tr>\n",
       "    <tr>\n",
       "      <th>14</th>\n",
       "      <td>(Florence)</td>\n",
       "      <td>(ChildBks)</td>\n",
       "      <td>0.1085</td>\n",
       "      <td>0.4230</td>\n",
       "      <td>0.0485</td>\n",
       "      <td>0.447005</td>\n",
       "      <td>1.056748</td>\n",
       "      <td>0.002605</td>\n",
       "      <td>1.043408</td>\n",
       "    </tr>\n",
       "    <tr>\n",
       "      <th>40</th>\n",
       "      <td>(CookBks)</td>\n",
       "      <td>(Florence)</td>\n",
       "      <td>0.4310</td>\n",
       "      <td>0.1085</td>\n",
       "      <td>0.0475</td>\n",
       "      <td>0.110209</td>\n",
       "      <td>1.015749</td>\n",
       "      <td>0.000737</td>\n",
       "      <td>1.001920</td>\n",
       "    </tr>\n",
       "  </tbody>\n",
       "</table>\n",
       "<p>123 rows × 9 columns</p>\n",
       "</div>"
      ],
      "text/plain": [
       "                      antecedents consequents  antecedent support  \\\n",
       "60                      (ItalArt)    (ArtBks)              0.0485   \n",
       "314            (ItalArt, CookBks)    (ArtBks)              0.0410   \n",
       "218           (CookBks, YouthBks)  (ItalCook)              0.1620   \n",
       "308             (CookBks, ArtBks)  (ItalCook)              0.1670   \n",
       "756  (CookBks, YouthBks, GeogBks)    (ArtBks)              0.0970   \n",
       "..                            ...         ...                 ...   \n",
       "16                      (CookBks)  (YouthBks)              0.4310   \n",
       "66                      (GeogBks)  (Florence)              0.2760   \n",
       "2                       (CookBks)  (ChildBks)              0.4310   \n",
       "14                     (Florence)  (ChildBks)              0.1085   \n",
       "40                      (CookBks)  (Florence)              0.4310   \n",
       "\n",
       "     consequent support  support  confidence      lift  leverage  conviction  \n",
       "60               0.2410   0.0485    1.000000  4.149378  0.036812         inf  \n",
       "314              0.2410   0.0410    1.000000  4.149378  0.031119         inf  \n",
       "218              0.1135   0.0590    0.364198  3.208789  0.040613    1.394301  \n",
       "308              0.1135   0.0565    0.338323  2.980822  0.037545    1.339778  \n",
       "756              0.2410   0.0560    0.577320  2.395517  0.032623    1.795683  \n",
       "..                  ...      ...         ...       ...       ...         ...  \n",
       "16               0.2475   0.1620    0.375870  1.518667  0.055328    1.205678  \n",
       "66               0.1085   0.0425    0.153986  1.419221  0.012554    1.053764  \n",
       "2                0.4230   0.2560    0.593968  1.404179  0.073687    1.421069  \n",
       "14               0.4230   0.0485    0.447005  1.056748  0.002605    1.043408  \n",
       "40               0.1085   0.0475    0.110209  1.015749  0.000737    1.001920  \n",
       "\n",
       "[123 rows x 9 columns]"
      ]
     },
     "execution_count": 44,
     "metadata": {},
     "output_type": "execute_result"
    }
   ],
   "source": [
    "#Stored list of values of rules without duplicates\n",
    "rules_without_redundancies.sort_values('lift',ascending=False)"
   ]
  },
  {
   "cell_type": "code",
   "execution_count": 45,
   "metadata": {},
   "outputs": [],
   "source": [
    "from mpl_toolkits.mplot3d import Axes3D"
   ]
  },
  {
   "cell_type": "code",
   "execution_count": 46,
   "metadata": {},
   "outputs": [
    {
     "data": {
      "text/plain": [
       "Text(0.5, 0, 'lift')"
      ]
     },
     "execution_count": 46,
     "metadata": {},
     "output_type": "execute_result"
    },
    {
     "data": {
      "image/png": "[encoded data removed]",
      "text/plain": [
       "<Figure size 432x288 with 1 Axes>"
      ]
     },
     "metadata": {},
     "output_type": "display_data"
    }
   ],
   "source": [
    "### Plotting 3D for the rules generated\n",
    "fig1=plt.figure()\n",
    "axis1=fig1.add_subplot(111,projection='3d')\n",
    "axis1.scatter(rules_without_redundancies[\"support\"],rules_without_redundancies[\"confidence\"],rules_without_redundancies[\"lift\"])\n",
    "axis1.set_xlabel(\"Support\")\n",
    "axis1.set_ylabel(\"Confidence\")\n",
    "axis1.set_zlabel(\"lift\")"
   ]
  },
  {
   "cell_type": "code",
   "execution_count": 47,
   "metadata": {},
   "outputs": [
    {
     "data": {
      "application/vnd.plotly.v1+json": {
       "config": {
        "plotlyServerURL": "https://plot.ly"
       },
       "data": [
        {
         "hovertemplate": "consequents=frozenset({'DoItYBks'})<br>support=%{x}<br>confidence=%{y}<br>lift=%{z}<extra></extra>",
         "legendgroup": "frozenset({'DoItYBks'})",
         "marker": {
          "color": "#636efa",
          "opacity": 0.7,
          "symbol": "circle"
         },
         "mode": "markers",
         "name": "frozenset({'DoItYBks'})",
         "scene": "scene",
         "showlegend": true,
         "type": "scatter3d",
         "x": [
          0.051,
          0.0485,
          0.053,
          0.0535,
          0.044,
          0.065,
          0.0585,
          0.0595,
          0.0445,
          0.068,
          0.146,
          0.095,
          0.1045,
          0.0745,
          0.046,
          0.082,
          0.1875,
          0.1325,
          0.1085,
          0.06,
          0.0425,
          0.046,
          0.0525,
          0.051,
          0.058,
          0.09,
          0.046,
          0.184,
          0.1015,
          0.073,
          0.0535,
          0.095,
          0.0495,
          0.1055,
          0.0585,
          0.1235,
          0.0845,
          0.0585,
          0.06,
          0.1155,
          0.0525,
          0.089,
          0.045,
          0.095,
          0.082,
          0.0565
         ],
         "y": [
          0.6144578313253012,
          0.6258064516129033,
          0.6385542168674698,
          0.5977653631284916,
          0.6470588235294117,
          0.6280193236714976,
          0.5294117647058824,
          0.5833333333333334,
          0.6641791044776119,
          0.5643153526970955,
          0.5703125,
          0.5846153846153846,
          0.5358974358974359,
          0.6081632653061224,
          0.5411764705882353,
          0.6356589147286822,
          0.43503480278422274,
          0.4800724637681159,
          0.5636363636363636,
          0.594059405940594,
          0.6071428571428571,
          0.6052631578947368,
          0.6481481481481481,
          0.6335403726708074,
          0.6010362694300518,
          0.594059405940594,
          0.5411764705882353,
          0.43498817966903075,
          0.6077844311377245,
          0.5725490196078431,
          0.6407185628742514,
          0.5757575757575757,
          0.5561797752808989,
          0.49184149184149184,
          0.5154185022026432,
          0.512448132780083,
          0.5540983606557378,
          0.5154185022026432,
          0.6185567010309277,
          0.4666666666666667,
          0.5585106382978723,
          0.5953177257525084,
          0.5732484076433121,
          0.5864197530864197,
          0.6482213438735178,
          0.5707070707070707
         ],
         "z": [
          2.1789284798769546,
          2.2191718142301537,
          2.264376655558404,
          2.1197353302428783,
          2.29453483521068,
          2.2270188782677223,
          1.877346683354193,
          2.0685579196217496,
          2.3552450513390495,
          2.0011182719755163,
          2.0223847517730498,
          2.0731042007637757,
          1.900345517366794,
          2.1566073237805763,
          1.9190654985398414,
          2.254109626697455,
          1.5426766056178114,
          1.7023846232911912,
          1.9987105093488073,
          2.106593638087213,
          2.1529888551165146,
          2.1463232549458757,
          2.2983976884686106,
          2.2465970662085373,
          2.1313342887590494,
          2.106593638087213,
          1.9190654985398414,
          1.542511275422095,
          2.155263940204697,
          2.0303156723682383,
          2.272051641398055,
          2.041693531055233,
          1.9722687066698545,
          1.7441187653953614,
          1.827725185115756,
          1.8171919602130606,
          1.9648878037437514,
          1.827725185115756,
          2.193463478833077,
          1.6548463356973997,
          1.9805341783612493,
          2.111055765079817,
          2.032795771784795,
          2.079502670519219,
          2.2986572477784324,
          2.023783938677556
         ]
        },
        {
         "hovertemplate": "consequents=frozenset({'ChildBks'})<br>support=%{x}<br>confidence=%{y}<br>lift=%{z}<extra></extra>",
         "legendgroup": "frozenset({'ChildBks'})",
         "marker": {
          "color": "#EF553B",
          "opacity": 0.7,
          "symbol": "circle"
         },
         "mode": "markers",
         "name": "frozenset({'ChildBks'})",
         "scene": "scene",
         "showlegend": true,
         "type": "scatter3d",
         "x": [
          0.068,
          0.061,
          0.0455,
          0.085,
          0.0495,
          0.0415,
          0.067,
          0.165,
          0.1265,
          0.055,
          0.0485,
          0.094,
          0.0525,
          0.099,
          0.1625,
          0.1225,
          0.085,
          0.076,
          0.0455,
          0.195,
          0.083,
          0.129,
          0.0805,
          0.046,
          0.0425,
          0.0835,
          0.0415,
          0.046,
          0.1515,
          0.0515,
          0.256,
          0.0785,
          0.0525,
          0.083,
          0.1495,
          0.102
         ],
         "y": [
          0.8774193548387097,
          0.8714285714285713,
          0.8053097345132743,
          0.748898678414097,
          0.8761061946902655,
          0.89247311827957,
          0.8271604938271605,
          0.6666666666666667,
          0.7574850299401197,
          0.8461538461538461,
          0.4470046082949309,
          0.8506787330316742,
          0.8203125,
          0.8215767634854773,
          0.6742738589211619,
          0.8032786885245902,
          0.748898678414097,
          0.8491620111731844,
          0.8053097345132743,
          0.7065217391304347,
          0.8601036269430052,
          0.7962962962962963,
          0.797029702970297,
          0.7796610169491526,
          0.8673469387755103,
          0.8067632850241547,
          0.89247311827957,
          0.7796610169491526,
          0.7062937062937062,
          0.9035087719298245,
          0.5939675174013921,
          0.8820224719101124,
          0.8203125,
          0.8556701030927836,
          0.7766233766233765,
          0.7999999999999999
         ],
         "z": [
          2.074277434606879,
          2.060114826072273,
          1.903805518943911,
          1.7704460482602766,
          2.0711730370928265,
          2.1098655278476834,
          1.9554621603478972,
          1.5760441292356189,
          1.7907447516314887,
          2.000363702491362,
          1.0567484829667397,
          2.0110608345902463,
          1.93927304964539,
          1.9422618522115302,
          1.5940280352746143,
          1.8990039917839012,
          1.7704460482602766,
          2.007475203719112,
          1.903805518943911,
          1.6702641587007914,
          2.033341907666679,
          1.8824971543647666,
          1.884230976289118,
          1.8431702528348761,
          2.050465576301443,
          1.9072418085677418,
          2.1098655278476834,
          1.8431702528348761,
          1.669725073980393,
          2.135954543569325,
          1.4041785281356787,
          2.0851595080617313,
          1.93927304964539,
          2.0228607638127274,
          1.835989070031623,
          1.8912529550827422
         ]
        },
        {
         "hovertemplate": "consequents=frozenset({'RefBks'})<br>support=%{x}<br>confidence=%{y}<br>lift=%{z}<extra></extra>",
         "legendgroup": "frozenset({'RefBks'})",
         "marker": {
          "color": "#00cc96",
          "opacity": 0.7,
          "symbol": "circle"
         },
         "mode": "markers",
         "name": "frozenset({'RefBks'})",
         "scene": "scene",
         "showlegend": true,
         "type": "scatter3d",
         "x": [
          0.046,
          0.1105,
          0.057,
          0.089,
          0.1525,
          0.0775,
          0.0565,
          0.0465,
          0.048,
          0.07,
          0.0465,
          0.0965,
          0.049,
          0.0895
         ],
         "y": [
          0.4444444444444445,
          0.40036231884057966,
          0.47302904564315357,
          0.4623376623376623,
          0.3538283062645012,
          0.478395061728395,
          0.44313725490196076,
          0.4096916299559471,
          0.4948453608247423,
          0.4191616766467066,
          0.4096916299559471,
          0.3898989898989899,
          0.48514851485148514,
          0.37136929460580914
         ],
         "z": [
          2.072002072002072,
          1.8664909969257792,
          2.205263616051998,
          2.1554203372385192,
          1.649549213354318,
          2.2302800080577856,
          2.0659079482608895,
          1.9099842888389142,
          2.3069713791363275,
          1.954133690660637,
          1.9099842888389142,
          1.8177109086199996,
          2.2617646380022616,
          1.7313253827776651
         ]
        },
        {
         "hovertemplate": "consequents=frozenset({'ArtBks'})<br>support=%{x}<br>confidence=%{y}<br>lift=%{z}<extra></extra>",
         "legendgroup": "frozenset({'ArtBks'})",
         "marker": {
          "color": "#ab63fa",
          "opacity": 0.7,
          "symbol": "circle"
         },
         "mode": "markers",
         "name": "frozenset({'ArtBks'})",
         "scene": "scene",
         "showlegend": true,
         "type": "scatter3d",
         "x": [
          0.0485,
          0.056,
          0.101,
          0.065,
          0.081,
          0.167,
          0.041
         ],
         "y": [
          1,
          0.5773195876288659,
          0.4080808080808081,
          0.5394190871369295,
          0.5,
          0.3874709976798144,
          1
         ],
         "z": [
          4.149377593360996,
          2.3955169611156264,
          1.693281361331154,
          2.238253473597218,
          2.074688796680498,
          1.6077634758498525,
          4.149377593360996
         ]
        },
        {
         "hovertemplate": "consequents=frozenset({'GeogBks'})<br>support=%{x}<br>confidence=%{y}<br>lift=%{z}<extra></extra>",
         "legendgroup": "frozenset({'GeogBks'})",
         "marker": {
          "color": "#FFA15A",
          "opacity": 0.7,
          "symbol": "circle"
         },
         "mode": "markers",
         "name": "frozenset({'GeogBks'})",
         "scene": "scene",
         "showlegend": true,
         "type": "scatter3d",
         "x": [
          0.1925,
          0.064,
          0.064,
          0.1205,
          0.1035,
          0.097,
          0.1275
         ],
         "y": [
          0.4466357308584687,
          0.5638766519823788,
          0.5638766519823788,
          0.48686868686868684,
          0.6197604790419161,
          0.5987654320987654,
          0.529045643153527
         ],
         "z": [
          1.6182454016611183,
          2.0430313477622417,
          2.0430313477622417,
          1.7640169814082856,
          2.2455089820359277,
          2.1694399713723382,
          1.9168320404113295
         ]
        },
        {
         "hovertemplate": "consequents=frozenset({'ItalCook'})<br>support=%{x}<br>confidence=%{y}<br>lift=%{z}<extra></extra>",
         "legendgroup": "frozenset({'ItalCook'})",
         "marker": {
          "color": "#19d3f3",
          "opacity": 0.7,
          "symbol": "circle"
         },
         "mode": "markers",
         "name": "frozenset({'ItalCook'})",
         "scene": "scene",
         "showlegend": true,
         "type": "scatter3d",
         "x": [
          0.0565,
          0.1135,
          0.059,
          0.0565,
          0.059
         ],
         "y": [
          0.2344398340248963,
          0.26334106728538287,
          0.3641975308641975,
          0.3383233532934132,
          0.23838383838383836
         ],
         "z": [
          2.065549198457236,
          2.3201856148491884,
          3.2087888181867616,
          2.9808224959772085,
          2.100298135540426
         ]
        },
        {
         "hovertemplate": "consequents=frozenset({'Florence'})<br>support=%{x}<br>confidence=%{y}<br>lift=%{z}<extra></extra>",
         "legendgroup": "frozenset({'Florence'})",
         "marker": {
          "color": "#FF6692",
          "opacity": 0.7,
          "symbol": "circle"
         },
         "mode": "markers",
         "name": "frozenset({'Florence'})",
         "scene": "scene",
         "showlegend": true,
         "type": "scatter3d",
         "x": [
          0.0425,
          0.0485,
          0.0475
         ],
         "y": [
          0.1539855072463768,
          0.2012448132780083,
          0.11020881670533643
         ],
         "z": [
          1.419221264943565,
          1.854790905788095,
          1.0157494627219947
         ]
        },
        {
         "hovertemplate": "consequents=frozenset({'YouthBks'})<br>support=%{x}<br>confidence=%{y}<br>lift=%{z}<extra></extra>",
         "legendgroup": "frozenset({'YouthBks'})",
         "marker": {
          "color": "#B6E880",
          "opacity": 0.7,
          "symbol": "circle"
         },
         "mode": "markers",
         "name": "frozenset({'YouthBks'})",
         "scene": "scene",
         "showlegend": true,
         "type": "scatter3d",
         "x": [
          0.162
         ],
         "y": [
          0.37587006960556846
         ],
         "z": [
          1.5186669479012866
         ]
        },
        {
         "hovertemplate": "consequents=frozenset({'CookBks'})<br>support=%{x}<br>confidence=%{y}<br>lift=%{z}<extra></extra>",
         "legendgroup": "frozenset({'CookBks'})",
         "marker": {
          "color": "#FF97FF",
          "opacity": 0.7,
          "symbol": "circle"
         },
         "mode": "markers",
         "name": "frozenset({'CookBks'})",
         "scene": "scene",
         "showlegend": true,
         "type": "scatter3d",
         "x": [
          0.0405,
          0.041,
          0.0465,
          0.044
         ],
         "y": [
          0.8181818181818181,
          0.845360824742268,
          0.8454545454545455,
          0.8543689320388349
         ],
         "z": [
          1.8983336848766081,
          1.9613940249240558,
          1.9616114743724953,
          1.9822945058905683
         ]
        }
       ],
       "layout": {
        "legend": {
         "title": {
          "text": "consequents"
         },
         "tracegroupgap": 0
        },
        "margin": {
         "t": 60
        },
        "scene": {
         "domain": {
          "x": [
           0,
           1
          ],
          "y": [
           0,
           1
          ]
         },
         "xaxis": {
          "title": {
           "text": "support"
          }
         },
         "yaxis": {
          "title": {
           "text": "confidence"
          }
         },
         "zaxis": {
          "title": {
           "text": "lift"
          }
         }
        },
        "template": {
         "data": {
          "bar": [
           {
            "error_x": {
             "color": "#2a3f5f"
            },
            "error_y": {
             "color": "#2a3f5f"
            },
            "marker": {
             "line": {
              "color": "#E5ECF6",
              "width": 0.5
             },
             "pattern": {
              "fillmode": "overlay",
              "size": 10,
              "solidity": 0.2
             }
            },
            "type": "bar"
           }
          ],
          "barpolar": [
           {
            "marker": {
             "line": {
              "color": "#E5ECF6",
              "width": 0.5
             },
             "pattern": {
              "fillmode": "overlay",
              "size": 10,
              "solidity": 0.2
             }
            },
            "type": "barpolar"
           }
          ],
          "carpet": [
           {
            "aaxis": {
             "endlinecolor": "#2a3f5f",
             "gridcolor": "white",
             "linecolor": "white",
             "minorgridcolor": "white",
             "startlinecolor": "#2a3f5f"
            },
            "baxis": {
             "endlinecolor": "#2a3f5f",
             "gridcolor": "white",
             "linecolor": "white",
             "minorgridcolor": "white",
             "startlinecolor": "#2a3f5f"
            },
            "type": "carpet"
           }
          ],
          "choropleth": [
           {
            "colorbar": {
             "outlinewidth": 0,
             "ticks": ""
            },
            "type": "choropleth"
           }
          ],
          "contour": [
           {
            "colorbar": {
             "outlinewidth": 0,
             "ticks": ""
            },
            "colorscale": [
             [
              0,
              "#0d0887"
             ],
             [
              0.1111111111111111,
              "#46039f"
             ],
             [
              0.2222222222222222,
              "#7201a8"
             ],
             [
              0.3333333333333333,
              "#9c179e"
             ],
             [
              0.4444444444444444,
              "#bd3786"
             ],
             [
              0.5555555555555556,
              "#d8576b"
             ],
             [
              0.6666666666666666,
              "#ed7953"
             ],
             [
              0.7777777777777778,
              "#fb9f3a"
             ],
             [
              0.8888888888888888,
              "#fdca26"
             ],
             [
              1,
              "#f0f921"
             ]
            ],
            "type": "contour"
           }
          ],
          "contourcarpet": [
           {
            "colorbar": {
             "outlinewidth": 0,
             "ticks": ""
            },
            "type": "contourcarpet"
           }
          ],
          "heatmap": [
           {
            "colorbar": {
             "outlinewidth": 0,
             "ticks": ""
            },
            "colorscale": [
             [
              0,
              "#0d0887"
             ],
             [
              0.1111111111111111,
              "#46039f"
             ],
             [
              0.2222222222222222,
              "#7201a8"
             ],
             [
              0.3333333333333333,
              "#9c179e"
             ],
             [
              0.4444444444444444,
              "#bd3786"
             ],
             [
              0.5555555555555556,
              "#d8576b"
             ],
             [
              0.6666666666666666,
              "#ed7953"
             ],
             [
              0.7777777777777778,
              "#fb9f3a"
             ],
             [
              0.8888888888888888,
              "#fdca26"
             ],
             [
              1,
              "#f0f921"
             ]
            ],
            "type": "heatmap"
           }
          ],
          "heatmapgl": [
           {
            "colorbar": {
             "outlinewidth": 0,
             "ticks": ""
            },
            "colorscale": [
             [
              0,
              "#0d0887"
             ],
             [
              0.1111111111111111,
              "#46039f"
             ],
             [
              0.2222222222222222,
              "#7201a8"
             ],
             [
              0.3333333333333333,
              "#9c179e"
             ],
             [
              0.4444444444444444,
              "#bd3786"
             ],
             [
              0.5555555555555556,
              "#d8576b"
             ],
             [
              0.6666666666666666,
              "#ed7953"
             ],
             [
              0.7777777777777778,
              "#fb9f3a"
             ],
             [
              0.8888888888888888,
              "#fdca26"
             ],
             [
              1,
              "#f0f921"
             ]
            ],
            "type": "heatmapgl"
           }
          ],
          "histogram": [
           {
            "marker": {
             "pattern": {
              "fillmode": "overlay",
              "size": 10,
              "solidity": 0.2
             }
            },
            "type": "histogram"
           }
          ],
          "histogram2d": [
           {
            "colorbar": {
             "outlinewidth": 0,
             "ticks": ""
            },
            "colorscale": [
             [
              0,
              "#0d0887"
             ],
             [
              0.1111111111111111,
              "#46039f"
             ],
             [
              0.2222222222222222,
              "#7201a8"
             ],
             [
              0.3333333333333333,
              "#9c179e"
             ],
             [
              0.4444444444444444,
              "#bd3786"
             ],
             [
              0.5555555555555556,
              "#d8576b"
             ],
             [
              0.6666666666666666,
              "#ed7953"
             ],
             [
              0.7777777777777778,
              "#fb9f3a"
             ],
             [
              0.8888888888888888,
              "#fdca26"
             ],
             [
              1,
              "#f0f921"
             ]
            ],
            "type": "histogram2d"
           }
          ],
          "histogram2dcontour": [
           {
            "colorbar": {
             "outlinewidth": 0,
             "ticks": ""
            },
            "colorscale": [
             [
              0,
              "#0d0887"
             ],
             [
              0.1111111111111111,
              "#46039f"
             ],
             [
              0.2222222222222222,
              "#7201a8"
             ],
             [
              0.3333333333333333,
              "#9c179e"
             ],
             [
              0.4444444444444444,
              "#bd3786"
             ],
             [
              0.5555555555555556,
              "#d8576b"
             ],
             [
              0.6666666666666666,
              "#ed7953"
             ],
             [
              0.7777777777777778,
              "#fb9f3a"
             ],
             [
              0.8888888888888888,
              "#fdca26"
             ],
             [
              1,
              "#f0f921"
             ]
            ],
            "type": "histogram2dcontour"
           }
          ],
          "mesh3d": [
           {
            "colorbar": {
             "outlinewidth": 0,
             "ticks": ""
            },
            "type": "mesh3d"
           }
          ],
          "parcoords": [
           {
            "line": {
             "colorbar": {
              "outlinewidth": 0,
              "ticks": ""
             }
            },
            "type": "parcoords"
           }
          ],
          "pie": [
           {
            "automargin": true,
            "type": "pie"
           }
          ],
          "scatter": [
           {
            "marker": {
             "colorbar": {
              "outlinewidth": 0,
              "ticks": ""
             }
            },
            "type": "scatter"
           }
          ],
          "scatter3d": [
           {
            "line": {
             "colorbar": {
              "outlinewidth": 0,
              "ticks": ""
             }
            },
            "marker": {
             "colorbar": {
              "outlinewidth": 0,
              "ticks": ""
             }
            },
            "type": "scatter3d"
           }
          ],
          "scattercarpet": [
           {
            "marker": {
             "colorbar": {
              "outlinewidth": 0,
              "ticks": ""
             }
            },
            "type": "scattercarpet"
           }
          ],
          "scattergeo": [
           {
            "marker": {
             "colorbar": {
              "outlinewidth": 0,
              "ticks": ""
             }
            },
            "type": "scattergeo"
           }
          ],
          "scattergl": [
           {
            "marker": {
             "colorbar": {
              "outlinewidth": 0,
              "ticks": ""
             }
            },
            "type": "scattergl"
           }
          ],
          "scattermapbox": [
           {
            "marker": {
             "colorbar": {
              "outlinewidth": 0,
              "ticks": ""
             }
            },
            "type": "scattermapbox"
           }
          ],
          "scatterpolar": [
           {
            "marker": {
             "colorbar": {
              "outlinewidth": 0,
              "ticks": ""
             }
            },
            "type": "scatterpolar"
           }
          ],
          "scatterpolargl": [
           {
            "marker": {
             "colorbar": {
              "outlinewidth": 0,
              "ticks": ""
             }
            },
            "type": "scatterpolargl"
           }
          ],
          "scatterternary": [
           {
            "marker": {
             "colorbar": {
              "outlinewidth": 0,
              "ticks": ""
             }
            },
            "type": "scatterternary"
           }
          ],
          "surface": [
           {
            "colorbar": {
             "outlinewidth": 0,
             "ticks": ""
            },
            "colorscale": [
             [
              0,
              "#0d0887"
             ],
             [
              0.1111111111111111,
              "#46039f"
             ],
             [
              0.2222222222222222,
              "#7201a8"
             ],
             [
              0.3333333333333333,
              "#9c179e"
             ],
             [
              0.4444444444444444,
              "#bd3786"
             ],
             [
              0.5555555555555556,
              "#d8576b"
             ],
             [
              0.6666666666666666,
              "#ed7953"
             ],
             [
              0.7777777777777778,
              "#fb9f3a"
             ],
             [
              0.8888888888888888,
              "#fdca26"
             ],
             [
              1,
              "#f0f921"
             ]
            ],
            "type": "surface"
           }
          ],
          "table": [
           {
            "cells": {
             "fill": {
              "color": "#EBF0F8"
             },
             "line": {
              "color": "white"
             }
            },
            "header": {
             "fill": {
              "color": "#C8D4E3"
             },
             "line": {
              "color": "white"
             }
            },
            "type": "table"
           }
          ]
         },
         "layout": {
          "annotationdefaults": {
           "arrowcolor": "#2a3f5f",
           "arrowhead": 0,
           "arrowwidth": 1
          },
          "autotypenumbers": "strict",
          "coloraxis": {
           "colorbar": {
            "outlinewidth": 0,
            "ticks": ""
           }
          },
          "colorscale": {
           "diverging": [
            [
             0,
             "#8e0152"
            ],
            [
             0.1,
             "#c51b7d"
            ],
            [
             0.2,
             "#de77ae"
            ],
            [
             0.3,
             "#f1b6da"
            ],
            [
             0.4,
             "#fde0ef"
            ],
            [
             0.5,
             "#f7f7f7"
            ],
            [
             0.6,
             "#e6f5d0"
            ],
            [
             0.7,
             "#b8e186"
            ],
            [
             0.8,
             "#7fbc41"
            ],
            [
             0.9,
             "#4d9221"
            ],
            [
             1,
             "#276419"
            ]
           ],
           "sequential": [
            [
             0,
             "#0d0887"
            ],
            [
             0.1111111111111111,
             "#46039f"
            ],
            [
             0.2222222222222222,
             "#7201a8"
            ],
            [
             0.3333333333333333,
             "#9c179e"
            ],
            [
             0.4444444444444444,
             "#bd3786"
            ],
            [
             0.5555555555555556,
             "#d8576b"
            ],
            [
             0.6666666666666666,
             "#ed7953"
            ],
            [
             0.7777777777777778,
             "#fb9f3a"
            ],
            [
             0.8888888888888888,
             "#fdca26"
            ],
            [
             1,
             "#f0f921"
            ]
           ],
           "sequentialminus": [
            [
             0,
             "#0d0887"
            ],
            [
             0.1111111111111111,
             "#46039f"
            ],
            [
             0.2222222222222222,
             "#7201a8"
            ],
            [
             0.3333333333333333,
             "#9c179e"
            ],
            [
             0.4444444444444444,
             "#bd3786"
            ],
            [
             0.5555555555555556,
             "#d8576b"
            ],
            [
             0.6666666666666666,
             "#ed7953"
            ],
            [
             0.7777777777777778,
             "#fb9f3a"
            ],
            [
             0.8888888888888888,
             "#fdca26"
            ],
            [
             1,
             "#f0f921"
            ]
           ]
          },
          "colorway": [
           "#636efa",
           "#EF553B",
           "#00cc96",
           "#ab63fa",
           "#FFA15A",
           "#19d3f3",
           "#FF6692",
           "#B6E880",
           "#FF97FF",
           "#FECB52"
          ],
          "font": {
           "color": "#2a3f5f"
          },
          "geo": {
           "bgcolor": "white",
           "lakecolor": "white",
           "landcolor": "#E5ECF6",
           "showlakes": true,
           "showland": true,
           "subunitcolor": "white"
          },
          "hoverlabel": {
           "align": "left"
          },
          "hovermode": "closest",
          "mapbox": {
           "style": "light"
          },
          "paper_bgcolor": "white",
          "plot_bgcolor": "#E5ECF6",
          "polar": {
           "angularaxis": {
            "gridcolor": "white",
            "linecolor": "white",
            "ticks": ""
           },
           "bgcolor": "#E5ECF6",
           "radialaxis": {
            "gridcolor": "white",
            "linecolor": "white",
            "ticks": ""
           }
          },
          "scene": {
           "xaxis": {
            "backgroundcolor": "#E5ECF6",
            "gridcolor": "white",
            "gridwidth": 2,
            "linecolor": "white",
            "showbackground": true,
            "ticks": "",
            "zerolinecolor": "white"
           },
           "yaxis": {
            "backgroundcolor": "#E5ECF6",
            "gridcolor": "white",
            "gridwidth": 2,
            "linecolor": "white",
            "showbackground": true,
            "ticks": "",
            "zerolinecolor": "white"
           },
           "zaxis": {
            "backgroundcolor": "#E5ECF6",
            "gridcolor": "white",
            "gridwidth": 2,
            "linecolor": "white",
            "showbackground": true,
            "ticks": "",
            "zerolinecolor": "white"
           }
          },
          "shapedefaults": {
           "line": {
            "color": "#2a3f5f"
           }
          },
          "ternary": {
           "aaxis": {
            "gridcolor": "white",
            "linecolor": "white",
            "ticks": ""
           },
           "baxis": {
            "gridcolor": "white",
            "linecolor": "white",
            "ticks": ""
           },
           "bgcolor": "#E5ECF6",
           "caxis": {
            "gridcolor": "white",
            "linecolor": "white",
            "ticks": ""
           }
          },
          "title": {
           "x": 0.05
          },
          "xaxis": {
           "automargin": true,
           "gridcolor": "white",
           "linecolor": "white",
           "ticks": "",
           "title": {
            "standoff": 15
           },
           "zerolinecolor": "white",
           "zerolinewidth": 2
          },
          "yaxis": {
           "automargin": true,
           "gridcolor": "white",
           "linecolor": "white",
           "ticks": "",
           "title": {
            "standoff": 15
           },
           "zerolinecolor": "white",
           "zerolinewidth": 2
          }
         }
        }
       }
      },
      "text/html": [
       "<div>                            <div id=\"a24d49c8-62b6-44ce-a066-e3a5200a66a0\" class=\"plotly-graph-div\" style=\"height:525px; width:100%;\"></div>            <script type=\"text/javascript\">                require([\"plotly\"], function(Plotly) {                    window.PLOTLYENV=window.PLOTLYENV || {};                                    if (document.getElementById(\"a24d49c8-62b6-44ce-a066-e3a5200a66a0\")) {                    Plotly.newPlot(                        \"a24d49c8-62b6-44ce-a066-e3a5200a66a0\",                        [{\"hovertemplate\":\"consequents=frozenset({'DoItYBks'})<br>support=%{x}<br>confidence=%{y}<br>lift=%{z}<extra></extra>\",\"legendgroup\":\"frozenset({'DoItYBks'})\",\"marker\":{\"color\":\"#636efa\",\"opacity\":0.7,\"symbol\":\"circle\"},\"mode\":\"markers\",\"name\":\"frozenset({'DoItYBks'})\",\"scene\":\"scene\",\"showlegend\":true,\"type\":\"scatter3d\",\"x\":[0.051,0.0485,0.053,0.0535,0.044,0.065,0.0585,0.0595,0.0445,0.068,0.146,0.095,0.1045,0.0745,0.046,0.082,0.1875,0.1325,0.1085,0.06,0.0425,0.046,0.0525,0.051,0.058,0.09,0.046,0.184,0.1015,0.073,0.0535,0.095,0.0495,0.1055,0.0585,0.1235,0.0845,0.0585,0.06,0.1155,0.0525,0.089,0.045,0.095,0.082,0.0565],\"y\":[0.6144578313253012,0.6258064516129033,0.6385542168674698,0.5977653631284916,0.6470588235294117,0.6280193236714976,0.5294117647058824,0.5833333333333334,0.6641791044776119,0.5643153526970955,0.5703125,0.5846153846153846,0.5358974358974359,0.6081632653061224,0.5411764705882353,0.6356589147286822,0.43503480278422274,0.4800724637681159,0.5636363636363636,0.594059405940594,0.6071428571428571,0.6052631578947368,0.6481481481481481,0.6335403726708074,0.6010362694300518,0.594059405940594,0.5411764705882353,0.43498817966903075,0.6077844311377245,0.5725490196078431,0.6407185628742514,0.5757575757575757,0.5561797752808989,0.49184149184149184,0.5154185022026432,0.512448132780083,0.5540983606557378,0.5154185022026432,0.6185567010309277,0.4666666666666667,0.5585106382978723,0.5953177257525084,0.5732484076433121,0.5864197530864197,0.6482213438735178,0.5707070707070707],\"z\":[2.1789284798769546,2.2191718142301537,2.264376655558404,2.1197353302428783,2.29453483521068,2.2270188782677223,1.877346683354193,2.0685579196217496,2.3552450513390495,2.0011182719755163,2.0223847517730498,2.0731042007637757,1.900345517366794,2.1566073237805763,1.9190654985398414,2.254109626697455,1.5426766056178114,1.7023846232911912,1.9987105093488073,2.106593638087213,2.1529888551165146,2.1463232549458757,2.2983976884686106,2.2465970662085373,2.1313342887590494,2.106593638087213,1.9190654985398414,1.542511275422095,2.155263940204697,2.0303156723682383,2.272051641398055,2.041693531055233,1.9722687066698545,1.7441187653953614,1.827725185115756,1.8171919602130606,1.9648878037437514,1.827725185115756,2.193463478833077,1.6548463356973997,1.9805341783612493,2.111055765079817,2.032795771784795,2.079502670519219,2.2986572477784324,2.023783938677556]},{\"hovertemplate\":\"consequents=frozenset({'ChildBks'})<br>support=%{x}<br>confidence=%{y}<br>lift=%{z}<extra></extra>\",\"legendgroup\":\"frozenset({'ChildBks'})\",\"marker\":{\"color\":\"#EF553B\",\"opacity\":0.7,\"symbol\":\"circle\"},\"mode\":\"markers\",\"name\":\"frozenset({'ChildBks'})\",\"scene\":\"scene\",\"showlegend\":true,\"type\":\"scatter3d\",\"x\":[0.068,0.061,0.0455,0.085,0.0495,0.0415,0.067,0.165,0.1265,0.055,0.0485,0.094,0.0525,0.099,0.1625,0.1225,0.085,0.076,0.0455,0.195,0.083,0.129,0.0805,0.046,0.0425,0.0835,0.0415,0.046,0.1515,0.0515,0.256,0.0785,0.0525,0.083,0.1495,0.102],\"y\":[0.8774193548387097,0.8714285714285713,0.8053097345132743,0.748898678414097,0.8761061946902655,0.89247311827957,0.8271604938271605,0.6666666666666667,0.7574850299401197,0.8461538461538461,0.4470046082949309,0.8506787330316742,0.8203125,0.8215767634854773,0.6742738589211619,0.8032786885245902,0.748898678414097,0.8491620111731844,0.8053097345132743,0.7065217391304347,0.8601036269430052,0.7962962962962963,0.797029702970297,0.7796610169491526,0.8673469387755103,0.8067632850241547,0.89247311827957,0.7796610169491526,0.7062937062937062,0.9035087719298245,0.5939675174013921,0.8820224719101124,0.8203125,0.8556701030927836,0.7766233766233765,0.7999999999999999],\"z\":[2.074277434606879,2.060114826072273,1.903805518943911,1.7704460482602766,2.0711730370928265,2.1098655278476834,1.9554621603478972,1.5760441292356189,1.7907447516314887,2.000363702491362,1.0567484829667397,2.0110608345902463,1.93927304964539,1.9422618522115302,1.5940280352746143,1.8990039917839012,1.7704460482602766,2.007475203719112,1.903805518943911,1.6702641587007914,2.033341907666679,1.8824971543647666,1.884230976289118,1.8431702528348761,2.050465576301443,1.9072418085677418,2.1098655278476834,1.8431702528348761,1.669725073980393,2.135954543569325,1.4041785281356787,2.0851595080617313,1.93927304964539,2.0228607638127274,1.835989070031623,1.8912529550827422]},{\"hovertemplate\":\"consequents=frozenset({'RefBks'})<br>support=%{x}<br>confidence=%{y}<br>lift=%{z}<extra></extra>\",\"legendgroup\":\"frozenset({'RefBks'})\",\"marker\":{\"color\":\"#00cc96\",\"opacity\":0.7,\"symbol\":\"circle\"},\"mode\":\"markers\",\"name\":\"frozenset({'RefBks'})\",\"scene\":\"scene\",\"showlegend\":true,\"type\":\"scatter3d\",\"x\":[0.046,0.1105,0.057,0.089,0.1525,0.0775,0.0565,0.0465,0.048,0.07,0.0465,0.0965,0.049,0.0895],\"y\":[0.4444444444444445,0.40036231884057966,0.47302904564315357,0.4623376623376623,0.3538283062645012,0.478395061728395,0.44313725490196076,0.4096916299559471,0.4948453608247423,0.4191616766467066,0.4096916299559471,0.3898989898989899,0.48514851485148514,0.37136929460580914],\"z\":[2.072002072002072,1.8664909969257792,2.205263616051998,2.1554203372385192,1.649549213354318,2.2302800080577856,2.0659079482608895,1.9099842888389142,2.3069713791363275,1.954133690660637,1.9099842888389142,1.8177109086199996,2.2617646380022616,1.7313253827776651]},{\"hovertemplate\":\"consequents=frozenset({'ArtBks'})<br>support=%{x}<br>confidence=%{y}<br>lift=%{z}<extra></extra>\",\"legendgroup\":\"frozenset({'ArtBks'})\",\"marker\":{\"color\":\"#ab63fa\",\"opacity\":0.7,\"symbol\":\"circle\"},\"mode\":\"markers\",\"name\":\"frozenset({'ArtBks'})\",\"scene\":\"scene\",\"showlegend\":true,\"type\":\"scatter3d\",\"x\":[0.0485,0.056,0.101,0.065,0.081,0.167,0.041],\"y\":[1.0,0.5773195876288659,0.4080808080808081,0.5394190871369295,0.5,0.3874709976798144,1.0],\"z\":[4.149377593360996,2.3955169611156264,1.693281361331154,2.238253473597218,2.074688796680498,1.6077634758498525,4.149377593360996]},{\"hovertemplate\":\"consequents=frozenset({'GeogBks'})<br>support=%{x}<br>confidence=%{y}<br>lift=%{z}<extra></extra>\",\"legendgroup\":\"frozenset({'GeogBks'})\",\"marker\":{\"color\":\"#FFA15A\",\"opacity\":0.7,\"symbol\":\"circle\"},\"mode\":\"markers\",\"name\":\"frozenset({'GeogBks'})\",\"scene\":\"scene\",\"showlegend\":true,\"type\":\"scatter3d\",\"x\":[0.1925,0.064,0.064,0.1205,0.1035,0.097,0.1275],\"y\":[0.4466357308584687,0.5638766519823788,0.5638766519823788,0.48686868686868684,0.6197604790419161,0.5987654320987654,0.529045643153527],\"z\":[1.6182454016611183,2.0430313477622417,2.0430313477622417,1.7640169814082856,2.2455089820359277,2.1694399713723382,1.9168320404113295]},{\"hovertemplate\":\"consequents=frozenset({'ItalCook'})<br>support=%{x}<br>confidence=%{y}<br>lift=%{z}<extra></extra>\",\"legendgroup\":\"frozenset({'ItalCook'})\",\"marker\":{\"color\":\"#19d3f3\",\"opacity\":0.7,\"symbol\":\"circle\"},\"mode\":\"markers\",\"name\":\"frozenset({'ItalCook'})\",\"scene\":\"scene\",\"showlegend\":true,\"type\":\"scatter3d\",\"x\":[0.0565,0.1135,0.059,0.0565,0.059],\"y\":[0.2344398340248963,0.26334106728538287,0.3641975308641975,0.3383233532934132,0.23838383838383836],\"z\":[2.065549198457236,2.3201856148491884,3.2087888181867616,2.9808224959772085,2.100298135540426]},{\"hovertemplate\":\"consequents=frozenset({'Florence'})<br>support=%{x}<br>confidence=%{y}<br>lift=%{z}<extra></extra>\",\"legendgroup\":\"frozenset({'Florence'})\",\"marker\":{\"color\":\"#FF6692\",\"opacity\":0.7,\"symbol\":\"circle\"},\"mode\":\"markers\",\"name\":\"frozenset({'Florence'})\",\"scene\":\"scene\",\"showlegend\":true,\"type\":\"scatter3d\",\"x\":[0.0425,0.0485,0.0475],\"y\":[0.1539855072463768,0.2012448132780083,0.11020881670533643],\"z\":[1.419221264943565,1.854790905788095,1.0157494627219947]},{\"hovertemplate\":\"consequents=frozenset({'YouthBks'})<br>support=%{x}<br>confidence=%{y}<br>lift=%{z}<extra></extra>\",\"legendgroup\":\"frozenset({'YouthBks'})\",\"marker\":{\"color\":\"#B6E880\",\"opacity\":0.7,\"symbol\":\"circle\"},\"mode\":\"markers\",\"name\":\"frozenset({'YouthBks'})\",\"scene\":\"scene\",\"showlegend\":true,\"type\":\"scatter3d\",\"x\":[0.162],\"y\":[0.37587006960556846],\"z\":[1.5186669479012866]},{\"hovertemplate\":\"consequents=frozenset({'CookBks'})<br>support=%{x}<br>confidence=%{y}<br>lift=%{z}<extra></extra>\",\"legendgroup\":\"frozenset({'CookBks'})\",\"marker\":{\"color\":\"#FF97FF\",\"opacity\":0.7,\"symbol\":\"circle\"},\"mode\":\"markers\",\"name\":\"frozenset({'CookBks'})\",\"scene\":\"scene\",\"showlegend\":true,\"type\":\"scatter3d\",\"x\":[0.0405,0.041,0.0465,0.044],\"y\":[0.8181818181818181,0.845360824742268,0.8454545454545455,0.8543689320388349],\"z\":[1.8983336848766081,1.9613940249240558,1.9616114743724953,1.9822945058905683]}],                        {\"legend\":{\"title\":{\"text\":\"consequents\"},\"tracegroupgap\":0},\"margin\":{\"t\":60},\"scene\":{\"domain\":{\"x\":[0.0,1.0],\"y\":[0.0,1.0]},\"xaxis\":{\"title\":{\"text\":\"support\"}},\"yaxis\":{\"title\":{\"text\":\"confidence\"}},\"zaxis\":{\"title\":{\"text\":\"lift\"}}},\"template\":{\"data\":{\"bar\":[{\"error_x\":{\"color\":\"#2a3f5f\"},\"error_y\":{\"color\":\"#2a3f5f\"},\"marker\":{\"line\":{\"color\":\"#E5ECF6\",\"width\":0.5},\"pattern\":{\"fillmode\":\"overlay\",\"size\":10,\"solidity\":0.2}},\"type\":\"bar\"}],\"barpolar\":[{\"marker\":{\"line\":{\"color\":\"#E5ECF6\",\"width\":0.5},\"pattern\":{\"fillmode\":\"overlay\",\"size\":10,\"solidity\":0.2}},\"type\":\"barpolar\"}],\"carpet\":[{\"aaxis\":{\"endlinecolor\":\"#2a3f5f\",\"gridcolor\":\"white\",\"linecolor\":\"white\",\"minorgridcolor\":\"white\",\"startlinecolor\":\"#2a3f5f\"},\"baxis\":{\"endlinecolor\":\"#2a3f5f\",\"gridcolor\":\"white\",\"linecolor\":\"white\",\"minorgridcolor\":\"white\",\"startlinecolor\":\"#2a3f5f\"},\"type\":\"carpet\"}],\"choropleth\":[{\"colorbar\":{\"outlinewidth\":0,\"ticks\":\"\"},\"type\":\"choropleth\"}],\"contour\":[{\"colorbar\":{\"outlinewidth\":0,\"ticks\":\"\"},\"colorscale\":[[0.0,\"#0d0887\"],[0.1111111111111111,\"#46039f\"],[0.2222222222222222,\"#7201a8\"],[0.3333333333333333,\"#9c179e\"],[0.4444444444444444,\"#bd3786\"],[0.5555555555555556,\"#d8576b\"],[0.6666666666666666,\"#ed7953\"],[0.7777777777777778,\"#fb9f3a\"],[0.8888888888888888,\"#fdca26\"],[1.0,\"#f0f921\"]],\"type\":\"contour\"}],\"contourcarpet\":[{\"colorbar\":{\"outlinewidth\":0,\"ticks\":\"\"},\"type\":\"contourcarpet\"}],\"heatmap\":[{\"colorbar\":{\"outlinewidth\":0,\"ticks\":\"\"},\"colorscale\":[[0.0,\"#0d0887\"],[0.1111111111111111,\"#46039f\"],[0.2222222222222222,\"#7201a8\"],[0.3333333333333333,\"#9c179e\"],[0.4444444444444444,\"#bd3786\"],[0.5555555555555556,\"#d8576b\"],[0.6666666666666666,\"#ed7953\"],[0.7777777777777778,\"#fb9f3a\"],[0.8888888888888888,\"#fdca26\"],[1.0,\"#f0f921\"]],\"type\":\"heatmap\"}],\"heatmapgl\":[{\"colorbar\":{\"outlinewidth\":0,\"ticks\":\"\"},\"colorscale\":[[0.0,\"#0d0887\"],[0.1111111111111111,\"#46039f\"],[0.2222222222222222,\"#7201a8\"],[0.3333333333333333,\"#9c179e\"],[0.4444444444444444,\"#bd3786\"],[0.5555555555555556,\"#d8576b\"],[0.6666666666666666,\"#ed7953\"],[0.7777777777777778,\"#fb9f3a\"],[0.8888888888888888,\"#fdca26\"],[1.0,\"#f0f921\"]],\"type\":\"heatmapgl\"}],\"histogram\":[{\"marker\":{\"pattern\":{\"fillmode\":\"overlay\",\"size\":10,\"solidity\":0.2}},\"type\":\"histogram\"}],\"histogram2d\":[{\"colorbar\":{\"outlinewidth\":0,\"ticks\":\"\"},\"colorscale\":[[0.0,\"#0d0887\"],[0.1111111111111111,\"#46039f\"],[0.2222222222222222,\"#7201a8\"],[0.3333333333333333,\"#9c179e\"],[0.4444444444444444,\"#bd3786\"],[0.5555555555555556,\"#d8576b\"],[0.6666666666666666,\"#ed7953\"],[0.7777777777777778,\"#fb9f3a\"],[0.8888888888888888,\"#fdca26\"],[1.0,\"#f0f921\"]],\"type\":\"histogram2d\"}],\"histogram2dcontour\":[{\"colorbar\":{\"outlinewidth\":0,\"ticks\":\"\"},\"colorscale\":[[0.0,\"#0d0887\"],[0.1111111111111111,\"#46039f\"],[0.2222222222222222,\"#7201a8\"],[0.3333333333333333,\"#9c179e\"],[0.4444444444444444,\"#bd3786\"],[0.5555555555555556,\"#d8576b\"],[0.6666666666666666,\"#ed7953\"],[0.7777777777777778,\"#fb9f3a\"],[0.8888888888888888,\"#fdca26\"],[1.0,\"#f0f921\"]],\"type\":\"histogram2dcontour\"}],\"mesh3d\":[{\"colorbar\":{\"outlinewidth\":0,\"ticks\":\"\"},\"type\":\"mesh3d\"}],\"parcoords\":[{\"line\":{\"colorbar\":{\"outlinewidth\":0,\"ticks\":\"\"}},\"type\":\"parcoords\"}],\"pie\":[{\"automargin\":true,\"type\":\"pie\"}],\"scatter\":[{\"marker\":{\"colorbar\":{\"outlinewidth\":0,\"ticks\":\"\"}},\"type\":\"scatter\"}],\"scatter3d\":[{\"line\":{\"colorbar\":{\"outlinewidth\":0,\"ticks\":\"\"}},\"marker\":{\"colorbar\":{\"outlinewidth\":0,\"ticks\":\"\"}},\"type\":\"scatter3d\"}],\"scattercarpet\":[{\"marker\":{\"colorbar\":{\"outlinewidth\":0,\"ticks\":\"\"}},\"type\":\"scattercarpet\"}],\"scattergeo\":[{\"marker\":{\"colorbar\":{\"outlinewidth\":0,\"ticks\":\"\"}},\"type\":\"scattergeo\"}],\"scattergl\":[{\"marker\":{\"colorbar\":{\"outlinewidth\":0,\"ticks\":\"\"}},\"type\":\"scattergl\"}],\"scattermapbox\":[{\"marker\":{\"colorbar\":{\"outlinewidth\":0,\"ticks\":\"\"}},\"type\":\"scattermapbox\"}],\"scatterpolar\":[{\"marker\":{\"colorbar\":{\"outlinewidth\":0,\"ticks\":\"\"}},\"type\":\"scatterpolar\"}],\"scatterpolargl\":[{\"marker\":{\"colorbar\":{\"outlinewidth\":0,\"ticks\":\"\"}},\"type\":\"scatterpolargl\"}],\"scatterternary\":[{\"marker\":{\"colorbar\":{\"outlinewidth\":0,\"ticks\":\"\"}},\"type\":\"scatterternary\"}],\"surface\":[{\"colorbar\":{\"outlinewidth\":0,\"ticks\":\"\"},\"colorscale\":[[0.0,\"#0d0887\"],[0.1111111111111111,\"#46039f\"],[0.2222222222222222,\"#7201a8\"],[0.3333333333333333,\"#9c179e\"],[0.4444444444444444,\"#bd3786\"],[0.5555555555555556,\"#d8576b\"],[0.6666666666666666,\"#ed7953\"],[0.7777777777777778,\"#fb9f3a\"],[0.8888888888888888,\"#fdca26\"],[1.0,\"#f0f921\"]],\"type\":\"surface\"}],\"table\":[{\"cells\":{\"fill\":{\"color\":\"#EBF0F8\"},\"line\":{\"color\":\"white\"}},\"header\":{\"fill\":{\"color\":\"#C8D4E3\"},\"line\":{\"color\":\"white\"}},\"type\":\"table\"}]},\"layout\":{\"annotationdefaults\":{\"arrowcolor\":\"#2a3f5f\",\"arrowhead\":0,\"arrowwidth\":1},\"autotypenumbers\":\"strict\",\"coloraxis\":{\"colorbar\":{\"outlinewidth\":0,\"ticks\":\"\"}},\"colorscale\":{\"diverging\":[[0,\"#8e0152\"],[0.1,\"#c51b7d\"],[0.2,\"#de77ae\"],[0.3,\"#f1b6da\"],[0.4,\"#fde0ef\"],[0.5,\"#f7f7f7\"],[0.6,\"#e6f5d0\"],[0.7,\"#b8e186\"],[0.8,\"#7fbc41\"],[0.9,\"#4d9221\"],[1,\"#276419\"]],\"sequential\":[[0.0,\"#0d0887\"],[0.1111111111111111,\"#46039f\"],[0.2222222222222222,\"#7201a8\"],[0.3333333333333333,\"#9c179e\"],[0.4444444444444444,\"#bd3786\"],[0.5555555555555556,\"#d8576b\"],[0.6666666666666666,\"#ed7953\"],[0.7777777777777778,\"#fb9f3a\"],[0.8888888888888888,\"#fdca26\"],[1.0,\"#f0f921\"]],\"sequentialminus\":[[0.0,\"#0d0887\"],[0.1111111111111111,\"#46039f\"],[0.2222222222222222,\"#7201a8\"],[0.3333333333333333,\"#9c179e\"],[0.4444444444444444,\"#bd3786\"],[0.5555555555555556,\"#d8576b\"],[0.6666666666666666,\"#ed7953\"],[0.7777777777777778,\"#fb9f3a\"],[0.8888888888888888,\"#fdca26\"],[1.0,\"#f0f921\"]]},\"colorway\":[\"#636efa\",\"#EF553B\",\"#00cc96\",\"#ab63fa\",\"#FFA15A\",\"#19d3f3\",\"#FF6692\",\"#B6E880\",\"#FF97FF\",\"#FECB52\"],\"font\":{\"color\":\"#2a3f5f\"},\"geo\":{\"bgcolor\":\"white\",\"lakecolor\":\"white\",\"landcolor\":\"#E5ECF6\",\"showlakes\":true,\"showland\":true,\"subunitcolor\":\"white\"},\"hoverlabel\":{\"align\":\"left\"},\"hovermode\":\"closest\",\"mapbox\":{\"style\":\"light\"},\"paper_bgcolor\":\"white\",\"plot_bgcolor\":\"#E5ECF6\",\"polar\":{\"angularaxis\":{\"gridcolor\":\"white\",\"linecolor\":\"white\",\"ticks\":\"\"},\"bgcolor\":\"#E5ECF6\",\"radialaxis\":{\"gridcolor\":\"white\",\"linecolor\":\"white\",\"ticks\":\"\"}},\"scene\":{\"xaxis\":{\"backgroundcolor\":\"#E5ECF6\",\"gridcolor\":\"white\",\"gridwidth\":2,\"linecolor\":\"white\",\"showbackground\":true,\"ticks\":\"\",\"zerolinecolor\":\"white\"},\"yaxis\":{\"backgroundcolor\":\"#E5ECF6\",\"gridcolor\":\"white\",\"gridwidth\":2,\"linecolor\":\"white\",\"showbackground\":true,\"ticks\":\"\",\"zerolinecolor\":\"white\"},\"zaxis\":{\"backgroundcolor\":\"#E5ECF6\",\"gridcolor\":\"white\",\"gridwidth\":2,\"linecolor\":\"white\",\"showbackground\":true,\"ticks\":\"\",\"zerolinecolor\":\"white\"}},\"shapedefaults\":{\"line\":{\"color\":\"#2a3f5f\"}},\"ternary\":{\"aaxis\":{\"gridcolor\":\"white\",\"linecolor\":\"white\",\"ticks\":\"\"},\"baxis\":{\"gridcolor\":\"white\",\"linecolor\":\"white\",\"ticks\":\"\"},\"bgcolor\":\"#E5ECF6\",\"caxis\":{\"gridcolor\":\"white\",\"linecolor\":\"white\",\"ticks\":\"\"}},\"title\":{\"x\":0.05},\"xaxis\":{\"automargin\":true,\"gridcolor\":\"white\",\"linecolor\":\"white\",\"ticks\":\"\",\"title\":{\"standoff\":15},\"zerolinecolor\":\"white\",\"zerolinewidth\":2},\"yaxis\":{\"automargin\":true,\"gridcolor\":\"white\",\"linecolor\":\"white\",\"ticks\":\"\",\"title\":{\"standoff\":15},\"zerolinecolor\":\"white\",\"zerolinewidth\":2}}}},                        {\"responsive\": true}                    ).then(function(){\n",
       "                            \n",
       "var gd = document.getElementById('a24d49c8-62b6-44ce-a066-e3a5200a66a0');\n",
       "var x = new MutationObserver(function (mutations, observer) {{\n",
       "        var display = window.getComputedStyle(gd).display;\n",
       "        if (!display || display === 'none') {{\n",
       "            console.log([gd, 'removed!']);\n",
       "            Plotly.purge(gd);\n",
       "            observer.disconnect();\n",
       "        }}\n",
       "}});\n",
       "\n",
       "// Listen for the removal of the full notebook cells\n",
       "var notebookContainer = gd.closest('#notebook-container');\n",
       "if (notebookContainer) {{\n",
       "    x.observe(notebookContainer, {childList: true});\n",
       "}}\n",
       "\n",
       "// Listen for the clearing of the current output cell\n",
       "var outputEl = gd.closest('.output');\n",
       "if (outputEl) {{\n",
       "    x.observe(outputEl, {childList: true});\n",
       "}}\n",
       "\n",
       "                        })                };                });            </script>        </div>"
      ]
     },
     "metadata": {},
     "output_type": "display_data"
    }
   ],
   "source": [
    "#interactive 3d plot visualizing lift,support and confidence.\n",
    "import plotly.express as px\n",
    "fig = px.scatter_3d(rules_without_redundancies, x='support', y='confidence', z='lift',\n",
    "                    color='consequents', opacity=0.7)\n",
    "fig.show()"
   ]
  },
  {
   "cell_type": "code",
   "execution_count": 48,
   "metadata": {},
   "outputs": [
    {
     "data": {
      "text/html": [
       "<div>\n",
       "<style scoped>\n",
       "    .dataframe tbody tr th:only-of-type {\n",
       "        vertical-align: middle;\n",
       "    }\n",
       "\n",
       "    .dataframe tbody tr th {\n",
       "        vertical-align: top;\n",
       "    }\n",
       "\n",
       "    .dataframe thead th {\n",
       "        text-align: right;\n",
       "    }\n",
       "</style>\n",
       "<table border=\"1\" class=\"dataframe\">\n",
       "  <thead>\n",
       "    <tr style=\"text-align: right;\">\n",
       "      <th></th>\n",
       "      <th>support</th>\n",
       "      <th>itemsets</th>\n",
       "    </tr>\n",
       "  </thead>\n",
       "  <tbody>\n",
       "    <tr>\n",
       "      <th>0</th>\n",
       "      <td>0.4230</td>\n",
       "      <td>(ChildBks)</td>\n",
       "    </tr>\n",
       "    <tr>\n",
       "      <th>1</th>\n",
       "      <td>0.2475</td>\n",
       "      <td>(YouthBks)</td>\n",
       "    </tr>\n",
       "    <tr>\n",
       "      <th>2</th>\n",
       "      <td>0.4310</td>\n",
       "      <td>(CookBks)</td>\n",
       "    </tr>\n",
       "    <tr>\n",
       "      <th>3</th>\n",
       "      <td>0.2820</td>\n",
       "      <td>(DoItYBks)</td>\n",
       "    </tr>\n",
       "    <tr>\n",
       "      <th>4</th>\n",
       "      <td>0.2145</td>\n",
       "      <td>(RefBks)</td>\n",
       "    </tr>\n",
       "    <tr>\n",
       "      <th>...</th>\n",
       "      <td>...</td>\n",
       "      <td>...</td>\n",
       "    </tr>\n",
       "    <tr>\n",
       "      <th>214</th>\n",
       "      <td>0.0130</td>\n",
       "      <td>(ItalCook, GeogBks, Florence)</td>\n",
       "    </tr>\n",
       "    <tr>\n",
       "      <th>215</th>\n",
       "      <td>0.0115</td>\n",
       "      <td>(ItalArt, ItalAtlas, GeogBks)</td>\n",
       "    </tr>\n",
       "    <tr>\n",
       "      <th>216</th>\n",
       "      <td>0.0090</td>\n",
       "      <td>(ItalArt, GeogBks, Florence)</td>\n",
       "    </tr>\n",
       "    <tr>\n",
       "      <th>217</th>\n",
       "      <td>0.0125</td>\n",
       "      <td>(ItalArt, ItalCook, ItalAtlas)</td>\n",
       "    </tr>\n",
       "    <tr>\n",
       "      <th>218</th>\n",
       "      <td>0.0095</td>\n",
       "      <td>(ItalArt, ItalCook, Florence)</td>\n",
       "    </tr>\n",
       "  </tbody>\n",
       "</table>\n",
       "<p>219 rows × 2 columns</p>\n",
       "</div>"
      ],
      "text/plain": [
       "     support                        itemsets\n",
       "0     0.4230                      (ChildBks)\n",
       "1     0.2475                      (YouthBks)\n",
       "2     0.4310                       (CookBks)\n",
       "3     0.2820                      (DoItYBks)\n",
       "4     0.2145                        (RefBks)\n",
       "..       ...                             ...\n",
       "214   0.0130   (ItalCook, GeogBks, Florence)\n",
       "215   0.0115   (ItalArt, ItalAtlas, GeogBks)\n",
       "216   0.0090    (ItalArt, GeogBks, Florence)\n",
       "217   0.0125  (ItalArt, ItalCook, ItalAtlas)\n",
       "218   0.0095   (ItalArt, ItalCook, Florence)\n",
       "\n",
       "[219 rows x 2 columns]"
      ]
     },
     "execution_count": 48,
     "metadata": {},
     "output_type": "execute_result"
    }
   ],
   "source": [
    "#changing min support values to 0.007 maximum items set to 3 this time.\n",
    "frequent_items=apriori(data,min_support=0.007,max_len=3,use_colnames=True)\n",
    "frequent_items"
   ]
  },
  {
   "cell_type": "code",
   "execution_count": 49,
   "metadata": {},
   "outputs": [
    {
     "data": {
      "text/html": [
       "<div>\n",
       "<style scoped>\n",
       "    .dataframe tbody tr th:only-of-type {\n",
       "        vertical-align: middle;\n",
       "    }\n",
       "\n",
       "    .dataframe tbody tr th {\n",
       "        vertical-align: top;\n",
       "    }\n",
       "\n",
       "    .dataframe thead th {\n",
       "        text-align: right;\n",
       "    }\n",
       "</style>\n",
       "<table border=\"1\" class=\"dataframe\">\n",
       "  <thead>\n",
       "    <tr style=\"text-align: right;\">\n",
       "      <th></th>\n",
       "      <th>antecedents</th>\n",
       "      <th>consequents</th>\n",
       "      <th>antecedent support</th>\n",
       "      <th>consequent support</th>\n",
       "      <th>support</th>\n",
       "      <th>confidence</th>\n",
       "      <th>lift</th>\n",
       "      <th>leverage</th>\n",
       "      <th>conviction</th>\n",
       "    </tr>\n",
       "  </thead>\n",
       "  <tbody>\n",
       "    <tr>\n",
       "      <th>0</th>\n",
       "      <td>(YouthBks)</td>\n",
       "      <td>(ChildBks)</td>\n",
       "      <td>0.2475</td>\n",
       "      <td>0.4230</td>\n",
       "      <td>0.1650</td>\n",
       "      <td>0.666667</td>\n",
       "      <td>1.576044</td>\n",
       "      <td>0.060308</td>\n",
       "      <td>1.731000</td>\n",
       "    </tr>\n",
       "    <tr>\n",
       "      <th>1</th>\n",
       "      <td>(ChildBks)</td>\n",
       "      <td>(YouthBks)</td>\n",
       "      <td>0.4230</td>\n",
       "      <td>0.2475</td>\n",
       "      <td>0.1650</td>\n",
       "      <td>0.390071</td>\n",
       "      <td>1.576044</td>\n",
       "      <td>0.060308</td>\n",
       "      <td>1.233750</td>\n",
       "    </tr>\n",
       "    <tr>\n",
       "      <th>2</th>\n",
       "      <td>(CookBks)</td>\n",
       "      <td>(ChildBks)</td>\n",
       "      <td>0.4310</td>\n",
       "      <td>0.4230</td>\n",
       "      <td>0.2560</td>\n",
       "      <td>0.593968</td>\n",
       "      <td>1.404179</td>\n",
       "      <td>0.073687</td>\n",
       "      <td>1.421069</td>\n",
       "    </tr>\n",
       "    <tr>\n",
       "      <th>3</th>\n",
       "      <td>(ChildBks)</td>\n",
       "      <td>(CookBks)</td>\n",
       "      <td>0.4230</td>\n",
       "      <td>0.4310</td>\n",
       "      <td>0.2560</td>\n",
       "      <td>0.605201</td>\n",
       "      <td>1.404179</td>\n",
       "      <td>0.073687</td>\n",
       "      <td>1.441240</td>\n",
       "    </tr>\n",
       "    <tr>\n",
       "      <th>4</th>\n",
       "      <td>(ChildBks)</td>\n",
       "      <td>(DoItYBks)</td>\n",
       "      <td>0.4230</td>\n",
       "      <td>0.2820</td>\n",
       "      <td>0.1840</td>\n",
       "      <td>0.434988</td>\n",
       "      <td>1.542511</td>\n",
       "      <td>0.064714</td>\n",
       "      <td>1.270770</td>\n",
       "    </tr>\n",
       "    <tr>\n",
       "      <th>...</th>\n",
       "      <td>...</td>\n",
       "      <td>...</td>\n",
       "      <td>...</td>\n",
       "      <td>...</td>\n",
       "      <td>...</td>\n",
       "      <td>...</td>\n",
       "      <td>...</td>\n",
       "      <td>...</td>\n",
       "      <td>...</td>\n",
       "    </tr>\n",
       "    <tr>\n",
       "      <th>1023</th>\n",
       "      <td>(ItalArt, Florence)</td>\n",
       "      <td>(ItalCook)</td>\n",
       "      <td>0.0125</td>\n",
       "      <td>0.1135</td>\n",
       "      <td>0.0095</td>\n",
       "      <td>0.760000</td>\n",
       "      <td>6.696035</td>\n",
       "      <td>0.008081</td>\n",
       "      <td>3.693750</td>\n",
       "    </tr>\n",
       "    <tr>\n",
       "      <th>1024</th>\n",
       "      <td>(ItalCook, Florence)</td>\n",
       "      <td>(ItalArt)</td>\n",
       "      <td>0.0175</td>\n",
       "      <td>0.0485</td>\n",
       "      <td>0.0095</td>\n",
       "      <td>0.542857</td>\n",
       "      <td>11.192931</td>\n",
       "      <td>0.008651</td>\n",
       "      <td>2.081406</td>\n",
       "    </tr>\n",
       "    <tr>\n",
       "      <th>1025</th>\n",
       "      <td>(ItalArt)</td>\n",
       "      <td>(ItalCook, Florence)</td>\n",
       "      <td>0.0485</td>\n",
       "      <td>0.0175</td>\n",
       "      <td>0.0095</td>\n",
       "      <td>0.195876</td>\n",
       "      <td>11.192931</td>\n",
       "      <td>0.008651</td>\n",
       "      <td>1.221827</td>\n",
       "    </tr>\n",
       "    <tr>\n",
       "      <th>1026</th>\n",
       "      <td>(ItalCook)</td>\n",
       "      <td>(ItalArt, Florence)</td>\n",
       "      <td>0.1135</td>\n",
       "      <td>0.0125</td>\n",
       "      <td>0.0095</td>\n",
       "      <td>0.083700</td>\n",
       "      <td>6.696035</td>\n",
       "      <td>0.008081</td>\n",
       "      <td>1.077704</td>\n",
       "    </tr>\n",
       "    <tr>\n",
       "      <th>1027</th>\n",
       "      <td>(Florence)</td>\n",
       "      <td>(ItalArt, ItalCook)</td>\n",
       "      <td>0.1085</td>\n",
       "      <td>0.0375</td>\n",
       "      <td>0.0095</td>\n",
       "      <td>0.087558</td>\n",
       "      <td>2.334869</td>\n",
       "      <td>0.005431</td>\n",
       "      <td>1.054861</td>\n",
       "    </tr>\n",
       "  </tbody>\n",
       "</table>\n",
       "<p>1028 rows × 9 columns</p>\n",
       "</div>"
      ],
      "text/plain": [
       "               antecedents           consequents  antecedent support  \\\n",
       "0               (YouthBks)            (ChildBks)              0.2475   \n",
       "1               (ChildBks)            (YouthBks)              0.4230   \n",
       "2                (CookBks)            (ChildBks)              0.4310   \n",
       "3               (ChildBks)             (CookBks)              0.4230   \n",
       "4               (ChildBks)            (DoItYBks)              0.4230   \n",
       "...                    ...                   ...                 ...   \n",
       "1023   (ItalArt, Florence)            (ItalCook)              0.0125   \n",
       "1024  (ItalCook, Florence)             (ItalArt)              0.0175   \n",
       "1025             (ItalArt)  (ItalCook, Florence)              0.0485   \n",
       "1026            (ItalCook)   (ItalArt, Florence)              0.1135   \n",
       "1027            (Florence)   (ItalArt, ItalCook)              0.1085   \n",
       "\n",
       "      consequent support  support  confidence       lift  leverage  conviction  \n",
       "0                 0.4230   0.1650    0.666667   1.576044  0.060308    1.731000  \n",
       "1                 0.2475   0.1650    0.390071   1.576044  0.060308    1.233750  \n",
       "2                 0.4230   0.2560    0.593968   1.404179  0.073687    1.421069  \n",
       "3                 0.4310   0.2560    0.605201   1.404179  0.073687    1.441240  \n",
       "4                 0.2820   0.1840    0.434988   1.542511  0.064714    1.270770  \n",
       "...                  ...      ...         ...        ...       ...         ...  \n",
       "1023              0.1135   0.0095    0.760000   6.696035  0.008081    3.693750  \n",
       "1024              0.0485   0.0095    0.542857  11.192931  0.008651    2.081406  \n",
       "1025              0.0175   0.0095    0.195876  11.192931  0.008651    1.221827  \n",
       "1026              0.0125   0.0095    0.083700   6.696035  0.008081    1.077704  \n",
       "1027              0.0375   0.0095    0.087558   2.334869  0.005431    1.054861  \n",
       "\n",
       "[1028 rows x 9 columns]"
      ]
     },
     "execution_count": 49,
     "metadata": {},
     "output_type": "execute_result"
    }
   ],
   "source": [
    "#defining Association rules again\n",
    "rules=association_rules(frequent_items,min_threshold=1,metric='lift')\n",
    "rules"
   ]
  },
  {
   "cell_type": "code",
   "execution_count": 50,
   "metadata": {},
   "outputs": [
    {
     "data": {
      "text/html": [
       "<div>\n",
       "<style scoped>\n",
       "    .dataframe tbody tr th:only-of-type {\n",
       "        vertical-align: middle;\n",
       "    }\n",
       "\n",
       "    .dataframe tbody tr th {\n",
       "        vertical-align: top;\n",
       "    }\n",
       "\n",
       "    .dataframe thead th {\n",
       "        text-align: right;\n",
       "    }\n",
       "</style>\n",
       "<table border=\"1\" class=\"dataframe\">\n",
       "  <thead>\n",
       "    <tr style=\"text-align: right;\">\n",
       "      <th></th>\n",
       "      <th>antecedents</th>\n",
       "      <th>consequents</th>\n",
       "      <th>antecedent support</th>\n",
       "      <th>consequent support</th>\n",
       "      <th>support</th>\n",
       "      <th>confidence</th>\n",
       "      <th>lift</th>\n",
       "      <th>leverage</th>\n",
       "      <th>conviction</th>\n",
       "    </tr>\n",
       "  </thead>\n",
       "  <tbody>\n",
       "    <tr>\n",
       "      <th>927</th>\n",
       "      <td>(ItalArt, RefBks)</td>\n",
       "      <td>(ItalAtlas)</td>\n",
       "      <td>0.0200</td>\n",
       "      <td>0.0370</td>\n",
       "      <td>0.0165</td>\n",
       "      <td>0.825000</td>\n",
       "      <td>22.297297</td>\n",
       "      <td>0.015760</td>\n",
       "      <td>5.502857</td>\n",
       "    </tr>\n",
       "    <tr>\n",
       "      <th>930</th>\n",
       "      <td>(ItalAtlas)</td>\n",
       "      <td>(ItalArt, RefBks)</td>\n",
       "      <td>0.0370</td>\n",
       "      <td>0.0200</td>\n",
       "      <td>0.0165</td>\n",
       "      <td>0.445946</td>\n",
       "      <td>22.297297</td>\n",
       "      <td>0.015760</td>\n",
       "      <td>1.768780</td>\n",
       "    </tr>\n",
       "    <tr>\n",
       "      <th>977</th>\n",
       "      <td>(ItalArt)</td>\n",
       "      <td>(ArtBks, ItalAtlas)</td>\n",
       "      <td>0.0485</td>\n",
       "      <td>0.0180</td>\n",
       "      <td>0.0165</td>\n",
       "      <td>0.340206</td>\n",
       "      <td>18.900344</td>\n",
       "      <td>0.015627</td>\n",
       "      <td>1.488344</td>\n",
       "    </tr>\n",
       "    <tr>\n",
       "      <th>976</th>\n",
       "      <td>(ArtBks, ItalAtlas)</td>\n",
       "      <td>(ItalArt)</td>\n",
       "      <td>0.0180</td>\n",
       "      <td>0.0485</td>\n",
       "      <td>0.0165</td>\n",
       "      <td>0.916667</td>\n",
       "      <td>18.900344</td>\n",
       "      <td>0.015627</td>\n",
       "      <td>11.418000</td>\n",
       "    </tr>\n",
       "    <tr>\n",
       "      <th>964</th>\n",
       "      <td>(ArtBks, ItalCook)</td>\n",
       "      <td>(ItalArt)</td>\n",
       "      <td>0.0565</td>\n",
       "      <td>0.0485</td>\n",
       "      <td>0.0375</td>\n",
       "      <td>0.663717</td>\n",
       "      <td>13.684883</td>\n",
       "      <td>0.034760</td>\n",
       "      <td>2.829461</td>\n",
       "    </tr>\n",
       "    <tr>\n",
       "      <th>...</th>\n",
       "      <td>...</td>\n",
       "      <td>...</td>\n",
       "      <td>...</td>\n",
       "      <td>...</td>\n",
       "      <td>...</td>\n",
       "      <td>...</td>\n",
       "      <td>...</td>\n",
       "      <td>...</td>\n",
       "      <td>...</td>\n",
       "    </tr>\n",
       "    <tr>\n",
       "      <th>18</th>\n",
       "      <td>(Florence)</td>\n",
       "      <td>(ChildBks)</td>\n",
       "      <td>0.1085</td>\n",
       "      <td>0.4230</td>\n",
       "      <td>0.0485</td>\n",
       "      <td>0.447005</td>\n",
       "      <td>1.056748</td>\n",
       "      <td>0.002605</td>\n",
       "      <td>1.043408</td>\n",
       "    </tr>\n",
       "    <tr>\n",
       "      <th>65</th>\n",
       "      <td>(DoItYBks)</td>\n",
       "      <td>(Florence)</td>\n",
       "      <td>0.2820</td>\n",
       "      <td>0.1085</td>\n",
       "      <td>0.0315</td>\n",
       "      <td>0.111702</td>\n",
       "      <td>1.029513</td>\n",
       "      <td>0.000903</td>\n",
       "      <td>1.003605</td>\n",
       "    </tr>\n",
       "    <tr>\n",
       "      <th>64</th>\n",
       "      <td>(Florence)</td>\n",
       "      <td>(DoItYBks)</td>\n",
       "      <td>0.1085</td>\n",
       "      <td>0.2820</td>\n",
       "      <td>0.0315</td>\n",
       "      <td>0.290323</td>\n",
       "      <td>1.029513</td>\n",
       "      <td>0.000903</td>\n",
       "      <td>1.011727</td>\n",
       "    </tr>\n",
       "    <tr>\n",
       "      <th>51</th>\n",
       "      <td>(Florence)</td>\n",
       "      <td>(CookBks)</td>\n",
       "      <td>0.1085</td>\n",
       "      <td>0.4310</td>\n",
       "      <td>0.0475</td>\n",
       "      <td>0.437788</td>\n",
       "      <td>1.015749</td>\n",
       "      <td>0.000737</td>\n",
       "      <td>1.012074</td>\n",
       "    </tr>\n",
       "    <tr>\n",
       "      <th>50</th>\n",
       "      <td>(CookBks)</td>\n",
       "      <td>(Florence)</td>\n",
       "      <td>0.4310</td>\n",
       "      <td>0.1085</td>\n",
       "      <td>0.0475</td>\n",
       "      <td>0.110209</td>\n",
       "      <td>1.015749</td>\n",
       "      <td>0.000737</td>\n",
       "      <td>1.001920</td>\n",
       "    </tr>\n",
       "  </tbody>\n",
       "</table>\n",
       "<p>1028 rows × 9 columns</p>\n",
       "</div>"
      ],
      "text/plain": [
       "             antecedents          consequents  antecedent support  \\\n",
       "927    (ItalArt, RefBks)          (ItalAtlas)              0.0200   \n",
       "930          (ItalAtlas)    (ItalArt, RefBks)              0.0370   \n",
       "977            (ItalArt)  (ArtBks, ItalAtlas)              0.0485   \n",
       "976  (ArtBks, ItalAtlas)            (ItalArt)              0.0180   \n",
       "964   (ArtBks, ItalCook)            (ItalArt)              0.0565   \n",
       "..                   ...                  ...                 ...   \n",
       "18            (Florence)           (ChildBks)              0.1085   \n",
       "65            (DoItYBks)           (Florence)              0.2820   \n",
       "64            (Florence)           (DoItYBks)              0.1085   \n",
       "51            (Florence)            (CookBks)              0.1085   \n",
       "50             (CookBks)           (Florence)              0.4310   \n",
       "\n",
       "     consequent support  support  confidence       lift  leverage  conviction  \n",
       "927              0.0370   0.0165    0.825000  22.297297  0.015760    5.502857  \n",
       "930              0.0200   0.0165    0.445946  22.297297  0.015760    1.768780  \n",
       "977              0.0180   0.0165    0.340206  18.900344  0.015627    1.488344  \n",
       "976              0.0485   0.0165    0.916667  18.900344  0.015627   11.418000  \n",
       "964              0.0485   0.0375    0.663717  13.684883  0.034760    2.829461  \n",
       "..                  ...      ...         ...        ...       ...         ...  \n",
       "18               0.4230   0.0485    0.447005   1.056748  0.002605    1.043408  \n",
       "65               0.1085   0.0315    0.111702   1.029513  0.000903    1.003605  \n",
       "64               0.2820   0.0315    0.290323   1.029513  0.000903    1.011727  \n",
       "51               0.4310   0.0475    0.437788   1.015749  0.000737    1.012074  \n",
       "50               0.1085   0.0475    0.110209   1.015749  0.000737    1.001920  \n",
       "\n",
       "[1028 rows x 9 columns]"
      ]
     },
     "execution_count": 50,
     "metadata": {},
     "output_type": "execute_result"
    }
   ],
   "source": [
    "#Sorting rules based on lift.\n",
    "rules.sort_values('lift',ascending=False)"
   ]
  },
  {
   "cell_type": "code",
   "execution_count": 51,
   "metadata": {},
   "outputs": [],
   "source": [
    "##To eliminate the redundancy in rules\n",
    "def to_list(i):\n",
    "    return sorted(i)\n",
    "\n",
    "data1=rules.antecedents.apply(to_list)+rules.consequents.apply(to_list)\n",
    "data1=data1.apply(sorted)\n",
    "return_rules=list(data1)\n",
    "unique_rules=[list(m) for m in set(tuple(i) for i in return_rules)]\n",
    "\n",
    "index_rules=[]\n",
    "for i in unique_rules:\n",
    "    index_rules.append(return_rules.index(i))"
   ]
  },
  {
   "cell_type": "code",
   "execution_count": 52,
   "metadata": {},
   "outputs": [],
   "source": [
    "##Getting the rules without any redundancies\n",
    "rules_without_redundancies=rules.iloc[index_rules,:]"
   ]
  },
  {
   "cell_type": "code",
   "execution_count": 53,
   "metadata": {},
   "outputs": [
    {
     "data": {
      "text/html": [
       "<div>\n",
       "<style scoped>\n",
       "    .dataframe tbody tr th:only-of-type {\n",
       "        vertical-align: middle;\n",
       "    }\n",
       "\n",
       "    .dataframe tbody tr th {\n",
       "        vertical-align: top;\n",
       "    }\n",
       "\n",
       "    .dataframe thead th {\n",
       "        text-align: right;\n",
       "    }\n",
       "</style>\n",
       "<table border=\"1\" class=\"dataframe\">\n",
       "  <thead>\n",
       "    <tr style=\"text-align: right;\">\n",
       "      <th></th>\n",
       "      <th>antecedents</th>\n",
       "      <th>consequents</th>\n",
       "      <th>antecedent support</th>\n",
       "      <th>consequent support</th>\n",
       "      <th>support</th>\n",
       "      <th>confidence</th>\n",
       "      <th>lift</th>\n",
       "      <th>leverage</th>\n",
       "      <th>conviction</th>\n",
       "    </tr>\n",
       "  </thead>\n",
       "  <tbody>\n",
       "    <tr>\n",
       "      <th>566</th>\n",
       "      <td>(ItalArt, YouthBks)</td>\n",
       "      <td>(ItalAtlas)</td>\n",
       "      <td>0.0230</td>\n",
       "      <td>0.0370</td>\n",
       "      <td>0.0085</td>\n",
       "      <td>0.369565</td>\n",
       "      <td>9.988249</td>\n",
       "      <td>0.007649</td>\n",
       "      <td>1.527517</td>\n",
       "    </tr>\n",
       "    <tr>\n",
       "      <th>974</th>\n",
       "      <td>(ItalArt, ArtBks)</td>\n",
       "      <td>(ItalAtlas)</td>\n",
       "      <td>0.0485</td>\n",
       "      <td>0.0370</td>\n",
       "      <td>0.0165</td>\n",
       "      <td>0.340206</td>\n",
       "      <td>9.194762</td>\n",
       "      <td>0.014706</td>\n",
       "      <td>1.459547</td>\n",
       "    </tr>\n",
       "    <tr>\n",
       "      <th>102</th>\n",
       "      <td>(ItalArt)</td>\n",
       "      <td>(ItalAtlas)</td>\n",
       "      <td>0.0485</td>\n",
       "      <td>0.0370</td>\n",
       "      <td>0.0165</td>\n",
       "      <td>0.340206</td>\n",
       "      <td>9.194762</td>\n",
       "      <td>0.014706</td>\n",
       "      <td>1.459547</td>\n",
       "    </tr>\n",
       "    <tr>\n",
       "      <th>1016</th>\n",
       "      <td>(ItalArt, ItalCook)</td>\n",
       "      <td>(ItalAtlas)</td>\n",
       "      <td>0.0375</td>\n",
       "      <td>0.0370</td>\n",
       "      <td>0.0125</td>\n",
       "      <td>0.333333</td>\n",
       "      <td>9.009009</td>\n",
       "      <td>0.011113</td>\n",
       "      <td>1.444500</td>\n",
       "    </tr>\n",
       "    <tr>\n",
       "      <th>722</th>\n",
       "      <td>(ItalArt, CookBks)</td>\n",
       "      <td>(ItalAtlas)</td>\n",
       "      <td>0.0410</td>\n",
       "      <td>0.0370</td>\n",
       "      <td>0.0130</td>\n",
       "      <td>0.317073</td>\n",
       "      <td>8.569545</td>\n",
       "      <td>0.011483</td>\n",
       "      <td>1.410107</td>\n",
       "    </tr>\n",
       "    <tr>\n",
       "      <th>...</th>\n",
       "      <td>...</td>\n",
       "      <td>...</td>\n",
       "      <td>...</td>\n",
       "      <td>...</td>\n",
       "      <td>...</td>\n",
       "      <td>...</td>\n",
       "      <td>...</td>\n",
       "      <td>...</td>\n",
       "      <td>...</td>\n",
       "    </tr>\n",
       "    <tr>\n",
       "      <th>542</th>\n",
       "      <td>(YouthBks, GeogBks)</td>\n",
       "      <td>(Florence)</td>\n",
       "      <td>0.1205</td>\n",
       "      <td>0.1085</td>\n",
       "      <td>0.0165</td>\n",
       "      <td>0.136929</td>\n",
       "      <td>1.262023</td>\n",
       "      <td>0.003426</td>\n",
       "      <td>1.032940</td>\n",
       "    </tr>\n",
       "    <tr>\n",
       "      <th>410</th>\n",
       "      <td>(CookBks, YouthBks)</td>\n",
       "      <td>(Florence)</td>\n",
       "      <td>0.1620</td>\n",
       "      <td>0.1085</td>\n",
       "      <td>0.0200</td>\n",
       "      <td>0.123457</td>\n",
       "      <td>1.137851</td>\n",
       "      <td>0.002423</td>\n",
       "      <td>1.017063</td>\n",
       "    </tr>\n",
       "    <tr>\n",
       "      <th>18</th>\n",
       "      <td>(Florence)</td>\n",
       "      <td>(ChildBks)</td>\n",
       "      <td>0.1085</td>\n",
       "      <td>0.4230</td>\n",
       "      <td>0.0485</td>\n",
       "      <td>0.447005</td>\n",
       "      <td>1.056748</td>\n",
       "      <td>0.002605</td>\n",
       "      <td>1.043408</td>\n",
       "    </tr>\n",
       "    <tr>\n",
       "      <th>64</th>\n",
       "      <td>(Florence)</td>\n",
       "      <td>(DoItYBks)</td>\n",
       "      <td>0.1085</td>\n",
       "      <td>0.2820</td>\n",
       "      <td>0.0315</td>\n",
       "      <td>0.290323</td>\n",
       "      <td>1.029513</td>\n",
       "      <td>0.000903</td>\n",
       "      <td>1.011727</td>\n",
       "    </tr>\n",
       "    <tr>\n",
       "      <th>50</th>\n",
       "      <td>(CookBks)</td>\n",
       "      <td>(Florence)</td>\n",
       "      <td>0.4310</td>\n",
       "      <td>0.1085</td>\n",
       "      <td>0.0475</td>\n",
       "      <td>0.110209</td>\n",
       "      <td>1.015749</td>\n",
       "      <td>0.000737</td>\n",
       "      <td>1.001920</td>\n",
       "    </tr>\n",
       "  </tbody>\n",
       "</table>\n",
       "<p>207 rows × 9 columns</p>\n",
       "</div>"
      ],
      "text/plain": [
       "              antecedents  consequents  antecedent support  \\\n",
       "566   (ItalArt, YouthBks)  (ItalAtlas)              0.0230   \n",
       "974     (ItalArt, ArtBks)  (ItalAtlas)              0.0485   \n",
       "102             (ItalArt)  (ItalAtlas)              0.0485   \n",
       "1016  (ItalArt, ItalCook)  (ItalAtlas)              0.0375   \n",
       "722    (ItalArt, CookBks)  (ItalAtlas)              0.0410   \n",
       "...                   ...          ...                 ...   \n",
       "542   (YouthBks, GeogBks)   (Florence)              0.1205   \n",
       "410   (CookBks, YouthBks)   (Florence)              0.1620   \n",
       "18             (Florence)   (ChildBks)              0.1085   \n",
       "64             (Florence)   (DoItYBks)              0.1085   \n",
       "50              (CookBks)   (Florence)              0.4310   \n",
       "\n",
       "      consequent support  support  confidence      lift  leverage  conviction  \n",
       "566               0.0370   0.0085    0.369565  9.988249  0.007649    1.527517  \n",
       "974               0.0370   0.0165    0.340206  9.194762  0.014706    1.459547  \n",
       "102               0.0370   0.0165    0.340206  9.194762  0.014706    1.459547  \n",
       "1016              0.0370   0.0125    0.333333  9.009009  0.011113    1.444500  \n",
       "722               0.0370   0.0130    0.317073  8.569545  0.011483    1.410107  \n",
       "...                  ...      ...         ...       ...       ...         ...  \n",
       "542               0.1085   0.0165    0.136929  1.262023  0.003426    1.032940  \n",
       "410               0.1085   0.0200    0.123457  1.137851  0.002423    1.017063  \n",
       "18                0.4230   0.0485    0.447005  1.056748  0.002605    1.043408  \n",
       "64                0.2820   0.0315    0.290323  1.029513  0.000903    1.011727  \n",
       "50                0.1085   0.0475    0.110209  1.015749  0.000737    1.001920  \n",
       "\n",
       "[207 rows x 9 columns]"
      ]
     },
     "execution_count": 53,
     "metadata": {},
     "output_type": "execute_result"
    }
   ],
   "source": [
    "#Stored list of values of rules without duplicates\n",
    "rules_without_redundancies.sort_values('lift',ascending=False)"
   ]
  },
  {
   "cell_type": "code",
   "execution_count": 55,
   "metadata": {},
   "outputs": [
    {
     "data": {
      "application/vnd.plotly.v1+json": {
       "config": {
        "plotlyServerURL": "https://plot.ly"
       },
       "data": [
        {
         "hovertemplate": "consequents=frozenset({'RefBks'})<br>support=%{x}<br>confidence=%{y}<br>lift=%{z}<extra></extra>",
         "legendgroup": "frozenset({'RefBks'})",
         "marker": {
          "color": "#636efa",
          "opacity": 0.7,
          "symbol": "circle"
         },
         "mode": "markers",
         "name": "frozenset({'RefBks'})",
         "scene": "scene",
         "showlegend": true,
         "type": "scatter3d",
         "x": [
          0.0125,
          0.02,
          0.037,
          0.02,
          0.023,
          0.1105,
          0.057,
          0.089,
          0.0235,
          0.011,
          0.029,
          0.0215,
          0.016,
          0.0135,
          0.1525,
          0.0205,
          0.0195,
          0.018,
          0.031,
          0.0775,
          0.0205,
          0.0265,
          0.0565,
          0.0465,
          0.0165,
          0.0145,
          0.0285,
          0.0075,
          0.07,
          0.0465,
          0.0965,
          0.0165,
          0.049,
          0.02,
          0.0895,
          0.0175
         ],
         "y": [
          0.4901960784313726,
          0.41237113402061853,
          1,
          0.41237113402061853,
          1,
          0.40036231884057966,
          0.47302904564315357,
          0.4623376623376623,
          0.415929203539823,
          0.47826086956521735,
          0.453125,
          0.4432989690721649,
          0.4266666666666667,
          0.4576271186440678,
          0.3538283062645012,
          1,
          0.4588235294117647,
          1,
          0.2857142857142857,
          0.478395061728395,
          0.43157894736842106,
          0.4491525423728814,
          0.44313725490196076,
          0.4096916299559471,
          0.4024390243902439,
          0.46031746031746035,
          1,
          0.4285714285714285,
          0.4191616766467066,
          0.4096916299559471,
          0.3898989898989899,
          1,
          0.48514851485148514,
          0.41237113402061853,
          0.37136929460580914,
          1
         ],
         "z": [
          2.285296402943462,
          1.9224761492802729,
          4.662004662004662,
          1.9224761492802729,
          4.662004662004662,
          1.8664909969257792,
          2.205263616051998,
          2.1554203372385192,
          1.9390638859665408,
          2.229654403567447,
          2.1124708624708624,
          2.066661860476293,
          1.9891219891219893,
          2.1334597605784045,
          1.649549213354318,
          4.662004662004662,
          2.1390374331550803,
          4.662004662004662,
          1.332001332001332,
          2.2302800080577856,
          2.0120230646546435,
          2.0939512464936194,
          2.0659079482608895,
          1.9099842888389142,
          1.876172607879925,
          2.146002146002146,
          4.662004662004662,
          1.9980019980019976,
          1.954133690660637,
          1.9099842888389142,
          1.8177109086199996,
          4.662004662004662,
          2.2617646380022616,
          1.9224761492802729,
          1.7313253827776651,
          4.662004662004662
         ]
        },
        {
         "hovertemplate": "consequents=frozenset({'DoItYBks'})<br>support=%{x}<br>confidence=%{y}<br>lift=%{z}<extra></extra>",
         "legendgroup": "frozenset({'DoItYBks'})",
         "marker": {
          "color": "#EF553B",
          "opacity": 0.7,
          "symbol": "circle"
         },
         "mode": "markers",
         "name": "frozenset({'DoItYBks'})",
         "scene": "scene",
         "showlegend": true,
         "type": "scatter3d",
         "x": [
          0.017,
          0.011,
          0.025,
          0.0165,
          0.0125,
          0.0225,
          0.0095,
          0.015,
          0.0535,
          0.009,
          0.019,
          0.0585,
          0.0345,
          0.015,
          0.0315,
          0.068,
          0.0235,
          0.146,
          0.095,
          0.1045,
          0.03,
          0.0195,
          0.0365,
          0.1875,
          0.1325,
          0.025,
          0.01,
          0.1085,
          0.06,
          0.0095,
          0.031,
          0.0245,
          0.058,
          0.09,
          0.046,
          0.184,
          0.009,
          0.1015,
          0.073,
          0.095,
          0.027,
          0.0135,
          0.019,
          0.1055,
          0.0585,
          0.1235,
          0.022,
          0.0075,
          0.0845,
          0.0585,
          0.1155,
          0.095,
          0.03
         ],
         "y": [
          0.5964912280701754,
          0.5499999999999999,
          0.6666666666666667,
          0.5593220338983051,
          0.5434782608695653,
          0.46391752577319584,
          0.5757575757575757,
          0.6521739130434783,
          0.5977653631284916,
          0.5142857142857142,
          0.5135135135135135,
          0.5294117647058824,
          0.5390625,
          0.5263157894736842,
          0.2903225806451613,
          0.5643153526970955,
          0.49473684210526314,
          0.5703125,
          0.5846153846153846,
          0.5358974358974359,
          0.6185567010309277,
          0.4588235294117647,
          0.6460176991150441,
          0.43503480278422274,
          0.4800724637681159,
          0.5376344086021506,
          0.5555555555555556,
          0.5636363636363636,
          0.594059405940594,
          0.46341463414634143,
          0.5254237288135594,
          0.5051546391752577,
          0.6010362694300518,
          0.594059405940594,
          0.5411764705882353,
          0.43498817966903075,
          0.5142857142857142,
          0.6077844311377245,
          0.5725490196078431,
          0.5757575757575757,
          0.6585365853658536,
          0.5294117647058824,
          0.5135135135135135,
          0.49184149184149184,
          0.5154185022026432,
          0.512448132780083,
          0.6111111111111112,
          0.6,
          0.5540983606557378,
          0.5154185022026432,
          0.4666666666666667,
          0.5864197530864197,
          0.6185567010309277
         ],
         "z": [
          2.115217120816225,
          1.950354609929078,
          2.364066193853428,
          1.9834114677244865,
          1.9272278754239907,
          1.6450976091248082,
          2.041693531055233,
          2.3126734505087883,
          2.1197353302428783,
          1.8237082066869301,
          1.8209699060762892,
          1.877346683354193,
          1.9115691489361704,
          1.866368047779022,
          1.0295126973232671,
          2.0011182719755163,
          1.7543859649122808,
          2.0223847517730498,
          2.0731042007637757,
          1.900345517366794,
          2.193463478833077,
          1.6270337922403004,
          2.2908429046632772,
          1.5426766056178114,
          1.7023846232911912,
          1.9065049950430875,
          1.9700551615445234,
          1.9987105093488073,
          2.106593638087213,
          1.6433143054834805,
          1.8632047121048205,
          1.79132850771368,
          2.1313342887590494,
          2.106593638087213,
          1.9190654985398414,
          1.542511275422095,
          1.8237082066869301,
          2.155263940204697,
          2.0303156723682383,
          2.041693531055233,
          2.33523611831863,
          1.877346683354193,
          1.8209699060762892,
          1.7441187653953614,
          1.827725185115756,
          1.8171919602130606,
          2.167060677698976,
          2.127659574468085,
          1.9648878037437514,
          1.827725185115756,
          1.6548463356973997,
          2.079502670519219,
          2.193463478833077
         ]
        },
        {
         "hovertemplate": "consequents=frozenset({'ItalAtlas'})<br>support=%{x}<br>confidence=%{y}<br>lift=%{z}<extra></extra>",
         "legendgroup": "frozenset({'ItalAtlas'})",
         "marker": {
          "color": "#00cc96",
          "opacity": 0.7,
          "symbol": "circle"
         },
         "mode": "markers",
         "name": "frozenset({'ItalAtlas'})",
         "scene": "scene",
         "showlegend": true,
         "type": "scatter3d",
         "x": [
          0.013,
          0.0125,
          0.014,
          0.0085,
          0.023,
          0.018,
          0.0175,
          0.0165,
          0.0165,
          0.023,
          0.0125,
          0.0285
         ],
         "y": [
          0.31707317073170727,
          0.33333333333333337,
          0.08383233532934131,
          0.3695652173913044,
          0.2026431718061674,
          0.07468879668049792,
          0.07070707070707072,
          0.3402061855670103,
          0.3402061855670103,
          0.2026431718061674,
          0.07716049382716049,
          0.06612529002320186
         ],
         "z": [
          8.569545154911008,
          9.009009009009011,
          2.2657387926849006,
          9.988249118683903,
          5.476842481247767,
          2.018616126499944,
          1.9110019110019114,
          9.19476177208136,
          9.19476177208136,
          5.476842481247767,
          2.0854187520854186,
          1.7871700006270774
         ]
        },
        {
         "hovertemplate": "consequents=frozenset({'ChildBks'})<br>support=%{x}<br>confidence=%{y}<br>lift=%{z}<extra></extra>",
         "legendgroup": "frozenset({'ChildBks'})",
         "marker": {
          "color": "#ab63fa",
          "opacity": 0.7,
          "symbol": "circle"
         },
         "mode": "markers",
         "name": "frozenset({'ChildBks'})",
         "scene": "scene",
         "showlegend": true,
         "type": "scatter3d",
         "x": [
          0.0305,
          0.085,
          0.023,
          0.02,
          0.0285,
          0.165,
          0.1265,
          0.015,
          0.0485,
          0.094,
          0.0525,
          0.03,
          0.099,
          0.036,
          0.0105,
          0.1625,
          0.1225,
          0.085,
          0.076,
          0.0455,
          0.195,
          0.083,
          0.129,
          0.0805,
          0.014,
          0.0175,
          0.017,
          0.018,
          0.0175,
          0.0415,
          0.0225,
          0.0155,
          0.046,
          0.0335,
          0.0335,
          0.1515,
          0.0285,
          0.256,
          0.0285,
          0.0145,
          0.036,
          0.1495,
          0.102
         ],
         "y": [
          0.7176470588235293,
          0.748898678414097,
          0.7796610169491526,
          0.8695652173913044,
          0.7702702702702703,
          0.6666666666666667,
          0.7574850299401197,
          0.857142857142857,
          0.4470046082949309,
          0.8506787330316742,
          0.8203125,
          0.7317073170731707,
          0.8215767634854773,
          0.7422680412371133,
          0.84,
          0.6742738589211619,
          0.8032786885245902,
          0.748898678414097,
          0.8491620111731844,
          0.8053097345132743,
          0.7065217391304347,
          0.8601036269430052,
          0.7962962962962963,
          0.797029702970297,
          0.7999999999999999,
          0.853658536585366,
          0.6666666666666667,
          0.8999999999999999,
          0.7608695652173914,
          0.89247311827957,
          0.7894736842105262,
          0.8611111111111112,
          0.7796610169491526,
          0.7052631578947369,
          0.6907216494845361,
          0.7062937062937062,
          0.76,
          0.5939675174013921,
          0.7702702702702703,
          0.8787878787878788,
          0.7422680412371133,
          0.7766233766233765,
          0.7999999999999999
         ],
         "z": [
          1.6965651508830482,
          1.7704460482602766,
          1.8431702528348761,
          2.05570973378559,
          1.8209699060762892,
          1.5760441292356189,
          1.7907447516314887,
          2.0263424518743665,
          1.0567484829667397,
          2.0110608345902463,
          1.93927304964539,
          1.729804532087874,
          1.9422618522115302,
          1.7547707830664618,
          1.9858156028368794,
          1.5940280352746143,
          1.8990039917839012,
          1.7704460482602766,
          2.007475203719112,
          1.903805518943911,
          1.6702641587007914,
          2.033341907666679,
          1.8824971543647666,
          1.884230976289118,
          1.8912529550827422,
          2.018105287435853,
          1.5760441292356189,
          2.127659574468085,
          1.798746017062391,
          2.1098655278476834,
          1.8663680477790219,
          2.035723666929341,
          1.8431702528348761,
          1.6672887893492598,
          1.6329117009090688,
          1.669725073980393,
          1.7966903073286054,
          1.4041785281356787,
          1.8209699060762892,
          2.077512715810588,
          1.7547707830664618,
          1.835989070031623,
          1.8912529550827422
         ]
        },
        {
         "hovertemplate": "consequents=frozenset({'Florence'})<br>support=%{x}<br>confidence=%{y}<br>lift=%{z}<extra></extra>",
         "legendgroup": "frozenset({'Florence'})",
         "marker": {
          "color": "#FFA15A",
          "opacity": 0.7,
          "symbol": "circle"
         },
         "mode": "markers",
         "name": "frozenset({'Florence'})",
         "scene": "scene",
         "showlegend": true,
         "type": "scatter3d",
         "x": [
          0.0125,
          0.0425,
          0.0315,
          0.031,
          0.0485,
          0.0095,
          0.009,
          0.03,
          0.013,
          0.0105,
          0.0175,
          0.0165,
          0.0175,
          0.02,
          0.0125,
          0.0475
         ],
         "y": [
          0.2577319587628866,
          0.1539855072463768,
          0.18862275449101795,
          0.16103896103896104,
          0.2012448132780083,
          0.25333333333333335,
          0.3050847457627119,
          0.23529411764705882,
          0.203125,
          0.25609756097560976,
          0.15418502202643172,
          0.13692946058091288,
          0.15418502202643172,
          0.12345679012345678,
          0.2577319587628866,
          0.11020881670533643
         ],
         "z": [
          2.3754097581832867,
          1.419221264943565,
          1.7384585667374925,
          1.484230055658627,
          1.854790905788095,
          2.3348694316436256,
          2.8118409747715383,
          2.168609379235565,
          1.8721198156682028,
          2.3603461841070024,
          1.4210601108426888,
          1.2620226781650956,
          1.4210601108426888,
          1.1378506002161917,
          2.3754097581832867,
          1.0157494627219947
         ]
        },
        {
         "hovertemplate": "consequents=frozenset({'ArtBks'})<br>support=%{x}<br>confidence=%{y}<br>lift=%{z}<extra></extra>",
         "legendgroup": "frozenset({'ArtBks'})",
         "marker": {
          "color": "#19d3f3",
          "opacity": 0.7,
          "symbol": "circle"
         },
         "mode": "markers",
         "name": "frozenset({'ArtBks'})",
         "scene": "scene",
         "showlegend": true,
         "type": "scatter3d",
         "x": [
          0.0485,
          0.019,
          0.101,
          0.023,
          0.0305,
          0.009,
          0.065,
          0.081,
          0.167,
          0.041
         ],
         "y": [
          1,
          0.7450980392156863,
          0.4080808080808081,
          1,
          0.516949152542373,
          0.5142857142857142,
          0.5394190871369295,
          0.5,
          0.3874709976798144,
          1
         ],
         "z": [
          4.149377593360996,
          3.0916931087787813,
          1.693281361331154,
          4.149377593360996,
          2.145017230466278,
          2.133965619442798,
          2.238253473597218,
          2.074688796680498,
          1.6077634758498525,
          4.149377593360996
         ]
        },
        {
         "hovertemplate": "consequents=frozenset({'GeogBks'})<br>support=%{x}<br>confidence=%{y}<br>lift=%{z}<extra></extra>",
         "legendgroup": "frozenset({'GeogBks'})",
         "marker": {
          "color": "#FF6692",
          "opacity": 0.7,
          "symbol": "circle"
         },
         "mode": "markers",
         "name": "frozenset({'GeogBks'})",
         "scene": "scene",
         "showlegend": true,
         "type": "scatter3d",
         "x": [
          0.1925,
          0.025,
          0.064,
          0.064,
          0.1205,
          0.1035,
          0.016,
          0.097,
          0.024,
          0.0295,
          0.015,
          0.1275,
          0.0145,
          0.01,
          0.0205,
          0.0295,
          0.0115,
          0.0115
         ],
         "y": [
          0.4466357308584687,
          0.6097560975609756,
          0.5638766519823788,
          0.5638766519823788,
          0.48686868686868684,
          0.6197604790419161,
          0.5614035087719298,
          0.5987654320987654,
          0.64,
          0.6082474226804123,
          0.6521739130434783,
          0.529045643153527,
          0.6304347826086957,
          0.5714285714285714,
          0.5540540540540541,
          0.6082474226804123,
          0.6969696969696969,
          0.638888888888889
         ],
         "z": [
          1.6182454016611183,
          2.209261223047013,
          2.0430313477622417,
          2.0430313477622417,
          1.7640169814082856,
          2.2455089820359277,
          2.034070683956267,
          2.1694399713723382,
          2.3188405797101446,
          2.2037950097116386,
          2.3629489603024574,
          1.9168320404113295,
          2.284183994959042,
          2.0703933747412004,
          2.007442224833529,
          2.2037950097116386,
          2.5252525252525246,
          2.314814814814815
         ]
        },
        {
         "hovertemplate": "consequents=frozenset({'ItalCook'})<br>support=%{x}<br>confidence=%{y}<br>lift=%{z}<extra></extra>",
         "legendgroup": "frozenset({'ItalCook'})",
         "marker": {
          "color": "#B6E880",
          "opacity": 0.7,
          "symbol": "circle"
         },
         "mode": "markers",
         "name": "frozenset({'ItalCook'})",
         "scene": "scene",
         "showlegend": true,
         "type": "scatter3d",
         "x": [
          0.012,
          0.0565,
          0.0375,
          0.0375,
          0.012,
          0.0345,
          0.1135,
          0.013,
          0.0375,
          0.059,
          0.019,
          0.0565,
          0.0075,
          0.059,
          0.036
         ],
         "y": [
          0.24742268041237114,
          0.2344398340248963,
          0.7731958762886597,
          0.7731958762886597,
          0.6857142857142856,
          0.28630705394190875,
          0.26334106728538287,
          0.7222222222222222,
          0.9146341463414633,
          0.3641975308641975,
          0.8260869565217391,
          0.3383233532934132,
          0.29411764705882354,
          0.23838383838383836,
          0.2823529411764706
         ],
         "z": [
          2.1799355102411555,
          2.065549198457236,
          6.8122984695036095,
          6.8122984695036095,
          6.041535556954058,
          2.5225291096203413,
          2.3201856148491884,
          6.363191385217816,
          8.058450628559148,
          3.2087888181867616,
          7.278299176402988,
          2.9808224959772085,
          2.591344908007256,
          2.100298135540426,
          2.4876911116869653
         ]
        },
        {
         "hovertemplate": "consequents=frozenset({'YouthBks'})<br>support=%{x}<br>confidence=%{y}<br>lift=%{z}<extra></extra>",
         "legendgroup": "frozenset({'YouthBks'})",
         "marker": {
          "color": "#FF97FF",
          "opacity": 0.7,
          "symbol": "circle"
         },
         "mode": "markers",
         "name": "frozenset({'YouthBks'})",
         "scene": "scene",
         "showlegend": true,
         "type": "scatter3d",
         "x": [
          0.023,
          0.162
         ],
         "y": [
          0.4742268041237113,
          0.37587006960556846
         ],
         "z": [
          1.9160678954493386,
          1.5186669479012866
         ]
        },
        {
         "hovertemplate": "consequents=frozenset({'CookBks'})<br>support=%{x}<br>confidence=%{y}<br>lift=%{z}<extra></extra>",
         "legendgroup": "frozenset({'CookBks'})",
         "marker": {
          "color": "#FECB52",
          "opacity": 0.7,
          "symbol": "circle"
         },
         "mode": "markers",
         "name": "frozenset({'CookBks'})",
         "scene": "scene",
         "showlegend": true,
         "type": "scatter3d",
         "x": [
          0.041
         ],
         "y": [
          0.845360824742268
         ],
         "z": [
          1.9613940249240558
         ]
        },
        {
         "hovertemplate": "consequents=frozenset({'ItalArt'})<br>support=%{x}<br>confidence=%{y}<br>lift=%{z}<extra></extra>",
         "legendgroup": "frozenset({'ItalArt'})",
         "marker": {
          "color": "#636efa",
          "opacity": 0.7,
          "symbol": "circle"
         },
         "mode": "markers",
         "name": "frozenset({'ItalArt'})",
         "scene": "scene",
         "showlegend": true,
         "type": "scatter3d",
         "x": [
          0.0195
         ],
         "y": [
          0.12037037037037036
         ],
         "z": [
          2.4818633066055744
         ]
        }
       ],
       "layout": {
        "legend": {
         "title": {
          "text": "consequents"
         },
         "tracegroupgap": 0
        },
        "margin": {
         "t": 60
        },
        "scene": {
         "domain": {
          "x": [
           0,
           1
          ],
          "y": [
           0,
           1
          ]
         },
         "xaxis": {
          "title": {
           "text": "support"
          }
         },
         "yaxis": {
          "title": {
           "text": "confidence"
          }
         },
         "zaxis": {
          "title": {
           "text": "lift"
          }
         }
        },
        "template": {
         "data": {
          "bar": [
           {
            "error_x": {
             "color": "#2a3f5f"
            },
            "error_y": {
             "color": "#2a3f5f"
            },
            "marker": {
             "line": {
              "color": "#E5ECF6",
              "width": 0.5
             },
             "pattern": {
              "fillmode": "overlay",
              "size": 10,
              "solidity": 0.2
             }
            },
            "type": "bar"
           }
          ],
          "barpolar": [
           {
            "marker": {
             "line": {
              "color": "#E5ECF6",
              "width": 0.5
             },
             "pattern": {
              "fillmode": "overlay",
              "size": 10,
              "solidity": 0.2
             }
            },
            "type": "barpolar"
           }
          ],
          "carpet": [
           {
            "aaxis": {
             "endlinecolor": "#2a3f5f",
             "gridcolor": "white",
             "linecolor": "white",
             "minorgridcolor": "white",
             "startlinecolor": "#2a3f5f"
            },
            "baxis": {
             "endlinecolor": "#2a3f5f",
             "gridcolor": "white",
             "linecolor": "white",
             "minorgridcolor": "white",
             "startlinecolor": "#2a3f5f"
            },
            "type": "carpet"
           }
          ],
          "choropleth": [
           {
            "colorbar": {
             "outlinewidth": 0,
             "ticks": ""
            },
            "type": "choropleth"
           }
          ],
          "contour": [
           {
            "colorbar": {
             "outlinewidth": 0,
             "ticks": ""
            },
            "colorscale": [
             [
              0,
              "#0d0887"
             ],
             [
              0.1111111111111111,
              "#46039f"
             ],
             [
              0.2222222222222222,
              "#7201a8"
             ],
             [
              0.3333333333333333,
              "#9c179e"
             ],
             [
              0.4444444444444444,
              "#bd3786"
             ],
             [
              0.5555555555555556,
              "#d8576b"
             ],
             [
              0.6666666666666666,
              "#ed7953"
             ],
             [
              0.7777777777777778,
              "#fb9f3a"
             ],
             [
              0.8888888888888888,
              "#fdca26"
             ],
             [
              1,
              "#f0f921"
             ]
            ],
            "type": "contour"
           }
          ],
          "contourcarpet": [
           {
            "colorbar": {
             "outlinewidth": 0,
             "ticks": ""
            },
            "type": "contourcarpet"
           }
          ],
          "heatmap": [
           {
            "colorbar": {
             "outlinewidth": 0,
             "ticks": ""
            },
            "colorscale": [
             [
              0,
              "#0d0887"
             ],
             [
              0.1111111111111111,
              "#46039f"
             ],
             [
              0.2222222222222222,
              "#7201a8"
             ],
             [
              0.3333333333333333,
              "#9c179e"
             ],
             [
              0.4444444444444444,
              "#bd3786"
             ],
             [
              0.5555555555555556,
              "#d8576b"
             ],
             [
              0.6666666666666666,
              "#ed7953"
             ],
             [
              0.7777777777777778,
              "#fb9f3a"
             ],
             [
              0.8888888888888888,
              "#fdca26"
             ],
             [
              1,
              "#f0f921"
             ]
            ],
            "type": "heatmap"
           }
          ],
          "heatmapgl": [
           {
            "colorbar": {
             "outlinewidth": 0,
             "ticks": ""
            },
            "colorscale": [
             [
              0,
              "#0d0887"
             ],
             [
              0.1111111111111111,
              "#46039f"
             ],
             [
              0.2222222222222222,
              "#7201a8"
             ],
             [
              0.3333333333333333,
              "#9c179e"
             ],
             [
              0.4444444444444444,
              "#bd3786"
             ],
             [
              0.5555555555555556,
              "#d8576b"
             ],
             [
              0.6666666666666666,
              "#ed7953"
             ],
             [
              0.7777777777777778,
              "#fb9f3a"
             ],
             [
              0.8888888888888888,
              "#fdca26"
             ],
             [
              1,
              "#f0f921"
             ]
            ],
            "type": "heatmapgl"
           }
          ],
          "histogram": [
           {
            "marker": {
             "pattern": {
              "fillmode": "overlay",
              "size": 10,
              "solidity": 0.2
             }
            },
            "type": "histogram"
           }
          ],
          "histogram2d": [
           {
            "colorbar": {
             "outlinewidth": 0,
             "ticks": ""
            },
            "colorscale": [
             [
              0,
              "#0d0887"
             ],
             [
              0.1111111111111111,
              "#46039f"
             ],
             [
              0.2222222222222222,
              "#7201a8"
             ],
             [
              0.3333333333333333,
              "#9c179e"
             ],
             [
              0.4444444444444444,
              "#bd3786"
             ],
             [
              0.5555555555555556,
              "#d8576b"
             ],
             [
              0.6666666666666666,
              "#ed7953"
             ],
             [
              0.7777777777777778,
              "#fb9f3a"
             ],
             [
              0.8888888888888888,
              "#fdca26"
             ],
             [
              1,
              "#f0f921"
             ]
            ],
            "type": "histogram2d"
           }
          ],
          "histogram2dcontour": [
           {
            "colorbar": {
             "outlinewidth": 0,
             "ticks": ""
            },
            "colorscale": [
             [
              0,
              "#0d0887"
             ],
             [
              0.1111111111111111,
              "#46039f"
             ],
             [
              0.2222222222222222,
              "#7201a8"
             ],
             [
              0.3333333333333333,
              "#9c179e"
             ],
             [
              0.4444444444444444,
              "#bd3786"
             ],
             [
              0.5555555555555556,
              "#d8576b"
             ],
             [
              0.6666666666666666,
              "#ed7953"
             ],
             [
              0.7777777777777778,
              "#fb9f3a"
             ],
             [
              0.8888888888888888,
              "#fdca26"
             ],
             [
              1,
              "#f0f921"
             ]
            ],
            "type": "histogram2dcontour"
           }
          ],
          "mesh3d": [
           {
            "colorbar": {
             "outlinewidth": 0,
             "ticks": ""
            },
            "type": "mesh3d"
           }
          ],
          "parcoords": [
           {
            "line": {
             "colorbar": {
              "outlinewidth": 0,
              "ticks": ""
             }
            },
            "type": "parcoords"
           }
          ],
          "pie": [
           {
            "automargin": true,
            "type": "pie"
           }
          ],
          "scatter": [
           {
            "marker": {
             "colorbar": {
              "outlinewidth": 0,
              "ticks": ""
             }
            },
            "type": "scatter"
           }
          ],
          "scatter3d": [
           {
            "line": {
             "colorbar": {
              "outlinewidth": 0,
              "ticks": ""
             }
            },
            "marker": {
             "colorbar": {
              "outlinewidth": 0,
              "ticks": ""
             }
            },
            "type": "scatter3d"
           }
          ],
          "scattercarpet": [
           {
            "marker": {
             "colorbar": {
              "outlinewidth": 0,
              "ticks": ""
             }
            },
            "type": "scattercarpet"
           }
          ],
          "scattergeo": [
           {
            "marker": {
             "colorbar": {
              "outlinewidth": 0,
              "ticks": ""
             }
            },
            "type": "scattergeo"
           }
          ],
          "scattergl": [
           {
            "marker": {
             "colorbar": {
              "outlinewidth": 0,
              "ticks": ""
             }
            },
            "type": "scattergl"
           }
          ],
          "scattermapbox": [
           {
            "marker": {
             "colorbar": {
              "outlinewidth": 0,
              "ticks": ""
             }
            },
            "type": "scattermapbox"
           }
          ],
          "scatterpolar": [
           {
            "marker": {
             "colorbar": {
              "outlinewidth": 0,
              "ticks": ""
             }
            },
            "type": "scatterpolar"
           }
          ],
          "scatterpolargl": [
           {
            "marker": {
             "colorbar": {
              "outlinewidth": 0,
              "ticks": ""
             }
            },
            "type": "scatterpolargl"
           }
          ],
          "scatterternary": [
           {
            "marker": {
             "colorbar": {
              "outlinewidth": 0,
              "ticks": ""
             }
            },
            "type": "scatterternary"
           }
          ],
          "surface": [
           {
            "colorbar": {
             "outlinewidth": 0,
             "ticks": ""
            },
            "colorscale": [
             [
              0,
              "#0d0887"
             ],
             [
              0.1111111111111111,
              "#46039f"
             ],
             [
              0.2222222222222222,
              "#7201a8"
             ],
             [
              0.3333333333333333,
              "#9c179e"
             ],
             [
              0.4444444444444444,
              "#bd3786"
             ],
             [
              0.5555555555555556,
              "#d8576b"
             ],
             [
              0.6666666666666666,
              "#ed7953"
             ],
             [
              0.7777777777777778,
              "#fb9f3a"
             ],
             [
              0.8888888888888888,
              "#fdca26"
             ],
             [
              1,
              "#f0f921"
             ]
            ],
            "type": "surface"
           }
          ],
          "table": [
           {
            "cells": {
             "fill": {
              "color": "#EBF0F8"
             },
             "line": {
              "color": "white"
             }
            },
            "header": {
             "fill": {
              "color": "#C8D4E3"
             },
             "line": {
              "color": "white"
             }
            },
            "type": "table"
           }
          ]
         },
         "layout": {
          "annotationdefaults": {
           "arrowcolor": "#2a3f5f",
           "arrowhead": 0,
           "arrowwidth": 1
          },
          "autotypenumbers": "strict",
          "coloraxis": {
           "colorbar": {
            "outlinewidth": 0,
            "ticks": ""
           }
          },
          "colorscale": {
           "diverging": [
            [
             0,
             "#8e0152"
            ],
            [
             0.1,
             "#c51b7d"
            ],
            [
             0.2,
             "#de77ae"
            ],
            [
             0.3,
             "#f1b6da"
            ],
            [
             0.4,
             "#fde0ef"
            ],
            [
             0.5,
             "#f7f7f7"
            ],
            [
             0.6,
             "#e6f5d0"
            ],
            [
             0.7,
             "#b8e186"
            ],
            [
             0.8,
             "#7fbc41"
            ],
            [
             0.9,
             "#4d9221"
            ],
            [
             1,
             "#276419"
            ]
           ],
           "sequential": [
            [
             0,
             "#0d0887"
            ],
            [
             0.1111111111111111,
             "#46039f"
            ],
            [
             0.2222222222222222,
             "#7201a8"
            ],
            [
             0.3333333333333333,
             "#9c179e"
            ],
            [
             0.4444444444444444,
             "#bd3786"
            ],
            [
             0.5555555555555556,
             "#d8576b"
            ],
            [
             0.6666666666666666,
             "#ed7953"
            ],
            [
             0.7777777777777778,
             "#fb9f3a"
            ],
            [
             0.8888888888888888,
             "#fdca26"
            ],
            [
             1,
             "#f0f921"
            ]
           ],
           "sequentialminus": [
            [
             0,
             "#0d0887"
            ],
            [
             0.1111111111111111,
             "#46039f"
            ],
            [
             0.2222222222222222,
             "#7201a8"
            ],
            [
             0.3333333333333333,
             "#9c179e"
            ],
            [
             0.4444444444444444,
             "#bd3786"
            ],
            [
             0.5555555555555556,
             "#d8576b"
            ],
            [
             0.6666666666666666,
             "#ed7953"
            ],
            [
             0.7777777777777778,
             "#fb9f3a"
            ],
            [
             0.8888888888888888,
             "#fdca26"
            ],
            [
             1,
             "#f0f921"
            ]
           ]
          },
          "colorway": [
           "#636efa",
           "#EF553B",
           "#00cc96",
           "#ab63fa",
           "#FFA15A",
           "#19d3f3",
           "#FF6692",
           "#B6E880",
           "#FF97FF",
           "#FECB52"
          ],
          "font": {
           "color": "#2a3f5f"
          },
          "geo": {
           "bgcolor": "white",
           "lakecolor": "white",
           "landcolor": "#E5ECF6",
           "showlakes": true,
           "showland": true,
           "subunitcolor": "white"
          },
          "hoverlabel": {
           "align": "left"
          },
          "hovermode": "closest",
          "mapbox": {
           "style": "light"
          },
          "paper_bgcolor": "white",
          "plot_bgcolor": "#E5ECF6",
          "polar": {
           "angularaxis": {
            "gridcolor": "white",
            "linecolor": "white",
            "ticks": ""
           },
           "bgcolor": "#E5ECF6",
           "radialaxis": {
            "gridcolor": "white",
            "linecolor": "white",
            "ticks": ""
           }
          },
          "scene": {
           "xaxis": {
            "backgroundcolor": "#E5ECF6",
            "gridcolor": "white",
            "gridwidth": 2,
            "linecolor": "white",
            "showbackground": true,
            "ticks": "",
            "zerolinecolor": "white"
           },
           "yaxis": {
            "backgroundcolor": "#E5ECF6",
            "gridcolor": "white",
            "gridwidth": 2,
            "linecolor": "white",
            "showbackground": true,
            "ticks": "",
            "zerolinecolor": "white"
           },
           "zaxis": {
            "backgroundcolor": "#E5ECF6",
            "gridcolor": "white",
            "gridwidth": 2,
            "linecolor": "white",
            "showbackground": true,
            "ticks": "",
            "zerolinecolor": "white"
           }
          },
          "shapedefaults": {
           "line": {
            "color": "#2a3f5f"
           }
          },
          "ternary": {
           "aaxis": {
            "gridcolor": "white",
            "linecolor": "white",
            "ticks": ""
           },
           "baxis": {
            "gridcolor": "white",
            "linecolor": "white",
            "ticks": ""
           },
           "bgcolor": "#E5ECF6",
           "caxis": {
            "gridcolor": "white",
            "linecolor": "white",
            "ticks": ""
           }
          },
          "title": {
           "x": 0.05
          },
          "xaxis": {
           "automargin": true,
           "gridcolor": "white",
           "linecolor": "white",
           "ticks": "",
           "title": {
            "standoff": 15
           },
           "zerolinecolor": "white",
           "zerolinewidth": 2
          },
          "yaxis": {
           "automargin": true,
           "gridcolor": "white",
           "linecolor": "white",
           "ticks": "",
           "title": {
            "standoff": 15
           },
           "zerolinecolor": "white",
           "zerolinewidth": 2
          }
         }
        }
       }
      },
      "text/html": [
       "<div>                            <div id=\"64b132d9-eeb3-48a8-b6d4-1570fbdf702e\" class=\"plotly-graph-div\" style=\"height:525px; width:100%;\"></div>            <script type=\"text/javascript\">                require([\"plotly\"], function(Plotly) {                    window.PLOTLYENV=window.PLOTLYENV || {};                                    if (document.getElementById(\"64b132d9-eeb3-48a8-b6d4-1570fbdf702e\")) {                    Plotly.newPlot(                        \"64b132d9-eeb3-48a8-b6d4-1570fbdf702e\",                        [{\"hovertemplate\":\"consequents=frozenset({'RefBks'})<br>support=%{x}<br>confidence=%{y}<br>lift=%{z}<extra></extra>\",\"legendgroup\":\"frozenset({'RefBks'})\",\"marker\":{\"color\":\"#636efa\",\"opacity\":0.7,\"symbol\":\"circle\"},\"mode\":\"markers\",\"name\":\"frozenset({'RefBks'})\",\"scene\":\"scene\",\"showlegend\":true,\"type\":\"scatter3d\",\"x\":[0.0125,0.02,0.037,0.02,0.023,0.1105,0.057,0.089,0.0235,0.011,0.029,0.0215,0.016,0.0135,0.1525,0.0205,0.0195,0.018,0.031,0.0775,0.0205,0.0265,0.0565,0.0465,0.0165,0.0145,0.0285,0.0075,0.07,0.0465,0.0965,0.0165,0.049,0.02,0.0895,0.0175],\"y\":[0.4901960784313726,0.41237113402061853,1.0,0.41237113402061853,1.0,0.40036231884057966,0.47302904564315357,0.4623376623376623,0.415929203539823,0.47826086956521735,0.453125,0.4432989690721649,0.4266666666666667,0.4576271186440678,0.3538283062645012,1.0,0.4588235294117647,1.0,0.2857142857142857,0.478395061728395,0.43157894736842106,0.4491525423728814,0.44313725490196076,0.4096916299559471,0.4024390243902439,0.46031746031746035,1.0,0.4285714285714285,0.4191616766467066,0.4096916299559471,0.3898989898989899,1.0,0.48514851485148514,0.41237113402061853,0.37136929460580914,1.0],\"z\":[2.285296402943462,1.9224761492802729,4.662004662004662,1.9224761492802729,4.662004662004662,1.8664909969257792,2.205263616051998,2.1554203372385192,1.9390638859665408,2.229654403567447,2.1124708624708624,2.066661860476293,1.9891219891219893,2.1334597605784045,1.649549213354318,4.662004662004662,2.1390374331550803,4.662004662004662,1.332001332001332,2.2302800080577856,2.0120230646546435,2.0939512464936194,2.0659079482608895,1.9099842888389142,1.876172607879925,2.146002146002146,4.662004662004662,1.9980019980019976,1.954133690660637,1.9099842888389142,1.8177109086199996,4.662004662004662,2.2617646380022616,1.9224761492802729,1.7313253827776651,4.662004662004662]},{\"hovertemplate\":\"consequents=frozenset({'DoItYBks'})<br>support=%{x}<br>confidence=%{y}<br>lift=%{z}<extra></extra>\",\"legendgroup\":\"frozenset({'DoItYBks'})\",\"marker\":{\"color\":\"#EF553B\",\"opacity\":0.7,\"symbol\":\"circle\"},\"mode\":\"markers\",\"name\":\"frozenset({'DoItYBks'})\",\"scene\":\"scene\",\"showlegend\":true,\"type\":\"scatter3d\",\"x\":[0.017,0.011,0.025,0.0165,0.0125,0.0225,0.0095,0.015,0.0535,0.009,0.019,0.0585,0.0345,0.015,0.0315,0.068,0.0235,0.146,0.095,0.1045,0.03,0.0195,0.0365,0.1875,0.1325,0.025,0.01,0.1085,0.06,0.0095,0.031,0.0245,0.058,0.09,0.046,0.184,0.009,0.1015,0.073,0.095,0.027,0.0135,0.019,0.1055,0.0585,0.1235,0.022,0.0075,0.0845,0.0585,0.1155,0.095,0.03],\"y\":[0.5964912280701754,0.5499999999999999,0.6666666666666667,0.5593220338983051,0.5434782608695653,0.46391752577319584,0.5757575757575757,0.6521739130434783,0.5977653631284916,0.5142857142857142,0.5135135135135135,0.5294117647058824,0.5390625,0.5263157894736842,0.2903225806451613,0.5643153526970955,0.49473684210526314,0.5703125,0.5846153846153846,0.5358974358974359,0.6185567010309277,0.4588235294117647,0.6460176991150441,0.43503480278422274,0.4800724637681159,0.5376344086021506,0.5555555555555556,0.5636363636363636,0.594059405940594,0.46341463414634143,0.5254237288135594,0.5051546391752577,0.6010362694300518,0.594059405940594,0.5411764705882353,0.43498817966903075,0.5142857142857142,0.6077844311377245,0.5725490196078431,0.5757575757575757,0.6585365853658536,0.5294117647058824,0.5135135135135135,0.49184149184149184,0.5154185022026432,0.512448132780083,0.6111111111111112,0.6,0.5540983606557378,0.5154185022026432,0.4666666666666667,0.5864197530864197,0.6185567010309277],\"z\":[2.115217120816225,1.950354609929078,2.364066193853428,1.9834114677244865,1.9272278754239907,1.6450976091248082,2.041693531055233,2.3126734505087883,2.1197353302428783,1.8237082066869301,1.8209699060762892,1.877346683354193,1.9115691489361704,1.866368047779022,1.0295126973232671,2.0011182719755163,1.7543859649122808,2.0223847517730498,2.0731042007637757,1.900345517366794,2.193463478833077,1.6270337922403004,2.2908429046632772,1.5426766056178114,1.7023846232911912,1.9065049950430875,1.9700551615445234,1.9987105093488073,2.106593638087213,1.6433143054834805,1.8632047121048205,1.79132850771368,2.1313342887590494,2.106593638087213,1.9190654985398414,1.542511275422095,1.8237082066869301,2.155263940204697,2.0303156723682383,2.041693531055233,2.33523611831863,1.877346683354193,1.8209699060762892,1.7441187653953614,1.827725185115756,1.8171919602130606,2.167060677698976,2.127659574468085,1.9648878037437514,1.827725185115756,1.6548463356973997,2.079502670519219,2.193463478833077]},{\"hovertemplate\":\"consequents=frozenset({'ItalAtlas'})<br>support=%{x}<br>confidence=%{y}<br>lift=%{z}<extra></extra>\",\"legendgroup\":\"frozenset({'ItalAtlas'})\",\"marker\":{\"color\":\"#00cc96\",\"opacity\":0.7,\"symbol\":\"circle\"},\"mode\":\"markers\",\"name\":\"frozenset({'ItalAtlas'})\",\"scene\":\"scene\",\"showlegend\":true,\"type\":\"scatter3d\",\"x\":[0.013,0.0125,0.014,0.0085,0.023,0.018,0.0175,0.0165,0.0165,0.023,0.0125,0.0285],\"y\":[0.31707317073170727,0.33333333333333337,0.08383233532934131,0.3695652173913044,0.2026431718061674,0.07468879668049792,0.07070707070707072,0.3402061855670103,0.3402061855670103,0.2026431718061674,0.07716049382716049,0.06612529002320186],\"z\":[8.569545154911008,9.009009009009011,2.2657387926849006,9.988249118683903,5.476842481247767,2.018616126499944,1.9110019110019114,9.19476177208136,9.19476177208136,5.476842481247767,2.0854187520854186,1.7871700006270774]},{\"hovertemplate\":\"consequents=frozenset({'ChildBks'})<br>support=%{x}<br>confidence=%{y}<br>lift=%{z}<extra></extra>\",\"legendgroup\":\"frozenset({'ChildBks'})\",\"marker\":{\"color\":\"#ab63fa\",\"opacity\":0.7,\"symbol\":\"circle\"},\"mode\":\"markers\",\"name\":\"frozenset({'ChildBks'})\",\"scene\":\"scene\",\"showlegend\":true,\"type\":\"scatter3d\",\"x\":[0.0305,0.085,0.023,0.02,0.0285,0.165,0.1265,0.015,0.0485,0.094,0.0525,0.03,0.099,0.036,0.0105,0.1625,0.1225,0.085,0.076,0.0455,0.195,0.083,0.129,0.0805,0.014,0.0175,0.017,0.018,0.0175,0.0415,0.0225,0.0155,0.046,0.0335,0.0335,0.1515,0.0285,0.256,0.0285,0.0145,0.036,0.1495,0.102],\"y\":[0.7176470588235293,0.748898678414097,0.7796610169491526,0.8695652173913044,0.7702702702702703,0.6666666666666667,0.7574850299401197,0.857142857142857,0.4470046082949309,0.8506787330316742,0.8203125,0.7317073170731707,0.8215767634854773,0.7422680412371133,0.84,0.6742738589211619,0.8032786885245902,0.748898678414097,0.8491620111731844,0.8053097345132743,0.7065217391304347,0.8601036269430052,0.7962962962962963,0.797029702970297,0.7999999999999999,0.853658536585366,0.6666666666666667,0.8999999999999999,0.7608695652173914,0.89247311827957,0.7894736842105262,0.8611111111111112,0.7796610169491526,0.7052631578947369,0.6907216494845361,0.7062937062937062,0.76,0.5939675174013921,0.7702702702702703,0.8787878787878788,0.7422680412371133,0.7766233766233765,0.7999999999999999],\"z\":[1.6965651508830482,1.7704460482602766,1.8431702528348761,2.05570973378559,1.8209699060762892,1.5760441292356189,1.7907447516314887,2.0263424518743665,1.0567484829667397,2.0110608345902463,1.93927304964539,1.729804532087874,1.9422618522115302,1.7547707830664618,1.9858156028368794,1.5940280352746143,1.8990039917839012,1.7704460482602766,2.007475203719112,1.903805518943911,1.6702641587007914,2.033341907666679,1.8824971543647666,1.884230976289118,1.8912529550827422,2.018105287435853,1.5760441292356189,2.127659574468085,1.798746017062391,2.1098655278476834,1.8663680477790219,2.035723666929341,1.8431702528348761,1.6672887893492598,1.6329117009090688,1.669725073980393,1.7966903073286054,1.4041785281356787,1.8209699060762892,2.077512715810588,1.7547707830664618,1.835989070031623,1.8912529550827422]},{\"hovertemplate\":\"consequents=frozenset({'Florence'})<br>support=%{x}<br>confidence=%{y}<br>lift=%{z}<extra></extra>\",\"legendgroup\":\"frozenset({'Florence'})\",\"marker\":{\"color\":\"#FFA15A\",\"opacity\":0.7,\"symbol\":\"circle\"},\"mode\":\"markers\",\"name\":\"frozenset({'Florence'})\",\"scene\":\"scene\",\"showlegend\":true,\"type\":\"scatter3d\",\"x\":[0.0125,0.0425,0.0315,0.031,0.0485,0.0095,0.009,0.03,0.013,0.0105,0.0175,0.0165,0.0175,0.02,0.0125,0.0475],\"y\":[0.2577319587628866,0.1539855072463768,0.18862275449101795,0.16103896103896104,0.2012448132780083,0.25333333333333335,0.3050847457627119,0.23529411764705882,0.203125,0.25609756097560976,0.15418502202643172,0.13692946058091288,0.15418502202643172,0.12345679012345678,0.2577319587628866,0.11020881670533643],\"z\":[2.3754097581832867,1.419221264943565,1.7384585667374925,1.484230055658627,1.854790905788095,2.3348694316436256,2.8118409747715383,2.168609379235565,1.8721198156682028,2.3603461841070024,1.4210601108426888,1.2620226781650956,1.4210601108426888,1.1378506002161917,2.3754097581832867,1.0157494627219947]},{\"hovertemplate\":\"consequents=frozenset({'ArtBks'})<br>support=%{x}<br>confidence=%{y}<br>lift=%{z}<extra></extra>\",\"legendgroup\":\"frozenset({'ArtBks'})\",\"marker\":{\"color\":\"#19d3f3\",\"opacity\":0.7,\"symbol\":\"circle\"},\"mode\":\"markers\",\"name\":\"frozenset({'ArtBks'})\",\"scene\":\"scene\",\"showlegend\":true,\"type\":\"scatter3d\",\"x\":[0.0485,0.019,0.101,0.023,0.0305,0.009,0.065,0.081,0.167,0.041],\"y\":[1.0,0.7450980392156863,0.4080808080808081,1.0,0.516949152542373,0.5142857142857142,0.5394190871369295,0.5,0.3874709976798144,1.0],\"z\":[4.149377593360996,3.0916931087787813,1.693281361331154,4.149377593360996,2.145017230466278,2.133965619442798,2.238253473597218,2.074688796680498,1.6077634758498525,4.149377593360996]},{\"hovertemplate\":\"consequents=frozenset({'GeogBks'})<br>support=%{x}<br>confidence=%{y}<br>lift=%{z}<extra></extra>\",\"legendgroup\":\"frozenset({'GeogBks'})\",\"marker\":{\"color\":\"#FF6692\",\"opacity\":0.7,\"symbol\":\"circle\"},\"mode\":\"markers\",\"name\":\"frozenset({'GeogBks'})\",\"scene\":\"scene\",\"showlegend\":true,\"type\":\"scatter3d\",\"x\":[0.1925,0.025,0.064,0.064,0.1205,0.1035,0.016,0.097,0.024,0.0295,0.015,0.1275,0.0145,0.01,0.0205,0.0295,0.0115,0.0115],\"y\":[0.4466357308584687,0.6097560975609756,0.5638766519823788,0.5638766519823788,0.48686868686868684,0.6197604790419161,0.5614035087719298,0.5987654320987654,0.64,0.6082474226804123,0.6521739130434783,0.529045643153527,0.6304347826086957,0.5714285714285714,0.5540540540540541,0.6082474226804123,0.6969696969696969,0.638888888888889],\"z\":[1.6182454016611183,2.209261223047013,2.0430313477622417,2.0430313477622417,1.7640169814082856,2.2455089820359277,2.034070683956267,2.1694399713723382,2.3188405797101446,2.2037950097116386,2.3629489603024574,1.9168320404113295,2.284183994959042,2.0703933747412004,2.007442224833529,2.2037950097116386,2.5252525252525246,2.314814814814815]},{\"hovertemplate\":\"consequents=frozenset({'ItalCook'})<br>support=%{x}<br>confidence=%{y}<br>lift=%{z}<extra></extra>\",\"legendgroup\":\"frozenset({'ItalCook'})\",\"marker\":{\"color\":\"#B6E880\",\"opacity\":0.7,\"symbol\":\"circle\"},\"mode\":\"markers\",\"name\":\"frozenset({'ItalCook'})\",\"scene\":\"scene\",\"showlegend\":true,\"type\":\"scatter3d\",\"x\":[0.012,0.0565,0.0375,0.0375,0.012,0.0345,0.1135,0.013,0.0375,0.059,0.019,0.0565,0.0075,0.059,0.036],\"y\":[0.24742268041237114,0.2344398340248963,0.7731958762886597,0.7731958762886597,0.6857142857142856,0.28630705394190875,0.26334106728538287,0.7222222222222222,0.9146341463414633,0.3641975308641975,0.8260869565217391,0.3383233532934132,0.29411764705882354,0.23838383838383836,0.2823529411764706],\"z\":[2.1799355102411555,2.065549198457236,6.8122984695036095,6.8122984695036095,6.041535556954058,2.5225291096203413,2.3201856148491884,6.363191385217816,8.058450628559148,3.2087888181867616,7.278299176402988,2.9808224959772085,2.591344908007256,2.100298135540426,2.4876911116869653]},{\"hovertemplate\":\"consequents=frozenset({'YouthBks'})<br>support=%{x}<br>confidence=%{y}<br>lift=%{z}<extra></extra>\",\"legendgroup\":\"frozenset({'YouthBks'})\",\"marker\":{\"color\":\"#FF97FF\",\"opacity\":0.7,\"symbol\":\"circle\"},\"mode\":\"markers\",\"name\":\"frozenset({'YouthBks'})\",\"scene\":\"scene\",\"showlegend\":true,\"type\":\"scatter3d\",\"x\":[0.023,0.162],\"y\":[0.4742268041237113,0.37587006960556846],\"z\":[1.9160678954493386,1.5186669479012866]},{\"hovertemplate\":\"consequents=frozenset({'CookBks'})<br>support=%{x}<br>confidence=%{y}<br>lift=%{z}<extra></extra>\",\"legendgroup\":\"frozenset({'CookBks'})\",\"marker\":{\"color\":\"#FECB52\",\"opacity\":0.7,\"symbol\":\"circle\"},\"mode\":\"markers\",\"name\":\"frozenset({'CookBks'})\",\"scene\":\"scene\",\"showlegend\":true,\"type\":\"scatter3d\",\"x\":[0.041],\"y\":[0.845360824742268],\"z\":[1.9613940249240558]},{\"hovertemplate\":\"consequents=frozenset({'ItalArt'})<br>support=%{x}<br>confidence=%{y}<br>lift=%{z}<extra></extra>\",\"legendgroup\":\"frozenset({'ItalArt'})\",\"marker\":{\"color\":\"#636efa\",\"opacity\":0.7,\"symbol\":\"circle\"},\"mode\":\"markers\",\"name\":\"frozenset({'ItalArt'})\",\"scene\":\"scene\",\"showlegend\":true,\"type\":\"scatter3d\",\"x\":[0.0195],\"y\":[0.12037037037037036],\"z\":[2.4818633066055744]}],                        {\"legend\":{\"title\":{\"text\":\"consequents\"},\"tracegroupgap\":0},\"margin\":{\"t\":60},\"scene\":{\"domain\":{\"x\":[0.0,1.0],\"y\":[0.0,1.0]},\"xaxis\":{\"title\":{\"text\":\"support\"}},\"yaxis\":{\"title\":{\"text\":\"confidence\"}},\"zaxis\":{\"title\":{\"text\":\"lift\"}}},\"template\":{\"data\":{\"bar\":[{\"error_x\":{\"color\":\"#2a3f5f\"},\"error_y\":{\"color\":\"#2a3f5f\"},\"marker\":{\"line\":{\"color\":\"#E5ECF6\",\"width\":0.5},\"pattern\":{\"fillmode\":\"overlay\",\"size\":10,\"solidity\":0.2}},\"type\":\"bar\"}],\"barpolar\":[{\"marker\":{\"line\":{\"color\":\"#E5ECF6\",\"width\":0.5},\"pattern\":{\"fillmode\":\"overlay\",\"size\":10,\"solidity\":0.2}},\"type\":\"barpolar\"}],\"carpet\":[{\"aaxis\":{\"endlinecolor\":\"#2a3f5f\",\"gridcolor\":\"white\",\"linecolor\":\"white\",\"minorgridcolor\":\"white\",\"startlinecolor\":\"#2a3f5f\"},\"baxis\":{\"endlinecolor\":\"#2a3f5f\",\"gridcolor\":\"white\",\"linecolor\":\"white\",\"minorgridcolor\":\"white\",\"startlinecolor\":\"#2a3f5f\"},\"type\":\"carpet\"}],\"choropleth\":[{\"colorbar\":{\"outlinewidth\":0,\"ticks\":\"\"},\"type\":\"choropleth\"}],\"contour\":[{\"colorbar\":{\"outlinewidth\":0,\"ticks\":\"\"},\"colorscale\":[[0.0,\"#0d0887\"],[0.1111111111111111,\"#46039f\"],[0.2222222222222222,\"#7201a8\"],[0.3333333333333333,\"#9c179e\"],[0.4444444444444444,\"#bd3786\"],[0.5555555555555556,\"#d8576b\"],[0.6666666666666666,\"#ed7953\"],[0.7777777777777778,\"#fb9f3a\"],[0.8888888888888888,\"#fdca26\"],[1.0,\"#f0f921\"]],\"type\":\"contour\"}],\"contourcarpet\":[{\"colorbar\":{\"outlinewidth\":0,\"ticks\":\"\"},\"type\":\"contourcarpet\"}],\"heatmap\":[{\"colorbar\":{\"outlinewidth\":0,\"ticks\":\"\"},\"colorscale\":[[0.0,\"#0d0887\"],[0.1111111111111111,\"#46039f\"],[0.2222222222222222,\"#7201a8\"],[0.3333333333333333,\"#9c179e\"],[0.4444444444444444,\"#bd3786\"],[0.5555555555555556,\"#d8576b\"],[0.6666666666666666,\"#ed7953\"],[0.7777777777777778,\"#fb9f3a\"],[0.8888888888888888,\"#fdca26\"],[1.0,\"#f0f921\"]],\"type\":\"heatmap\"}],\"heatmapgl\":[{\"colorbar\":{\"outlinewidth\":0,\"ticks\":\"\"},\"colorscale\":[[0.0,\"#0d0887\"],[0.1111111111111111,\"#46039f\"],[0.2222222222222222,\"#7201a8\"],[0.3333333333333333,\"#9c179e\"],[0.4444444444444444,\"#bd3786\"],[0.5555555555555556,\"#d8576b\"],[0.6666666666666666,\"#ed7953\"],[0.7777777777777778,\"#fb9f3a\"],[0.8888888888888888,\"#fdca26\"],[1.0,\"#f0f921\"]],\"type\":\"heatmapgl\"}],\"histogram\":[{\"marker\":{\"pattern\":{\"fillmode\":\"overlay\",\"size\":10,\"solidity\":0.2}},\"type\":\"histogram\"}],\"histogram2d\":[{\"colorbar\":{\"outlinewidth\":0,\"ticks\":\"\"},\"colorscale\":[[0.0,\"#0d0887\"],[0.1111111111111111,\"#46039f\"],[0.2222222222222222,\"#7201a8\"],[0.3333333333333333,\"#9c179e\"],[0.4444444444444444,\"#bd3786\"],[0.5555555555555556,\"#d8576b\"],[0.6666666666666666,\"#ed7953\"],[0.7777777777777778,\"#fb9f3a\"],[0.8888888888888888,\"#fdca26\"],[1.0,\"#f0f921\"]],\"type\":\"histogram2d\"}],\"histogram2dcontour\":[{\"colorbar\":{\"outlinewidth\":0,\"ticks\":\"\"},\"colorscale\":[[0.0,\"#0d0887\"],[0.1111111111111111,\"#46039f\"],[0.2222222222222222,\"#7201a8\"],[0.3333333333333333,\"#9c179e\"],[0.4444444444444444,\"#bd3786\"],[0.5555555555555556,\"#d8576b\"],[0.6666666666666666,\"#ed7953\"],[0.7777777777777778,\"#fb9f3a\"],[0.8888888888888888,\"#fdca26\"],[1.0,\"#f0f921\"]],\"type\":\"histogram2dcontour\"}],\"mesh3d\":[{\"colorbar\":{\"outlinewidth\":0,\"ticks\":\"\"},\"type\":\"mesh3d\"}],\"parcoords\":[{\"line\":{\"colorbar\":{\"outlinewidth\":0,\"ticks\":\"\"}},\"type\":\"parcoords\"}],\"pie\":[{\"automargin\":true,\"type\":\"pie\"}],\"scatter\":[{\"marker\":{\"colorbar\":{\"outlinewidth\":0,\"ticks\":\"\"}},\"type\":\"scatter\"}],\"scatter3d\":[{\"line\":{\"colorbar\":{\"outlinewidth\":0,\"ticks\":\"\"}},\"marker\":{\"colorbar\":{\"outlinewidth\":0,\"ticks\":\"\"}},\"type\":\"scatter3d\"}],\"scattercarpet\":[{\"marker\":{\"colorbar\":{\"outlinewidth\":0,\"ticks\":\"\"}},\"type\":\"scattercarpet\"}],\"scattergeo\":[{\"marker\":{\"colorbar\":{\"outlinewidth\":0,\"ticks\":\"\"}},\"type\":\"scattergeo\"}],\"scattergl\":[{\"marker\":{\"colorbar\":{\"outlinewidth\":0,\"ticks\":\"\"}},\"type\":\"scattergl\"}],\"scattermapbox\":[{\"marker\":{\"colorbar\":{\"outlinewidth\":0,\"ticks\":\"\"}},\"type\":\"scattermapbox\"}],\"scatterpolar\":[{\"marker\":{\"colorbar\":{\"outlinewidth\":0,\"ticks\":\"\"}},\"type\":\"scatterpolar\"}],\"scatterpolargl\":[{\"marker\":{\"colorbar\":{\"outlinewidth\":0,\"ticks\":\"\"}},\"type\":\"scatterpolargl\"}],\"scatterternary\":[{\"marker\":{\"colorbar\":{\"outlinewidth\":0,\"ticks\":\"\"}},\"type\":\"scatterternary\"}],\"surface\":[{\"colorbar\":{\"outlinewidth\":0,\"ticks\":\"\"},\"colorscale\":[[0.0,\"#0d0887\"],[0.1111111111111111,\"#46039f\"],[0.2222222222222222,\"#7201a8\"],[0.3333333333333333,\"#9c179e\"],[0.4444444444444444,\"#bd3786\"],[0.5555555555555556,\"#d8576b\"],[0.6666666666666666,\"#ed7953\"],[0.7777777777777778,\"#fb9f3a\"],[0.8888888888888888,\"#fdca26\"],[1.0,\"#f0f921\"]],\"type\":\"surface\"}],\"table\":[{\"cells\":{\"fill\":{\"color\":\"#EBF0F8\"},\"line\":{\"color\":\"white\"}},\"header\":{\"fill\":{\"color\":\"#C8D4E3\"},\"line\":{\"color\":\"white\"}},\"type\":\"table\"}]},\"layout\":{\"annotationdefaults\":{\"arrowcolor\":\"#2a3f5f\",\"arrowhead\":0,\"arrowwidth\":1},\"autotypenumbers\":\"strict\",\"coloraxis\":{\"colorbar\":{\"outlinewidth\":0,\"ticks\":\"\"}},\"colorscale\":{\"diverging\":[[0,\"#8e0152\"],[0.1,\"#c51b7d\"],[0.2,\"#de77ae\"],[0.3,\"#f1b6da\"],[0.4,\"#fde0ef\"],[0.5,\"#f7f7f7\"],[0.6,\"#e6f5d0\"],[0.7,\"#b8e186\"],[0.8,\"#7fbc41\"],[0.9,\"#4d9221\"],[1,\"#276419\"]],\"sequential\":[[0.0,\"#0d0887\"],[0.1111111111111111,\"#46039f\"],[0.2222222222222222,\"#7201a8\"],[0.3333333333333333,\"#9c179e\"],[0.4444444444444444,\"#bd3786\"],[0.5555555555555556,\"#d8576b\"],[0.6666666666666666,\"#ed7953\"],[0.7777777777777778,\"#fb9f3a\"],[0.8888888888888888,\"#fdca26\"],[1.0,\"#f0f921\"]],\"sequentialminus\":[[0.0,\"#0d0887\"],[0.1111111111111111,\"#46039f\"],[0.2222222222222222,\"#7201a8\"],[0.3333333333333333,\"#9c179e\"],[0.4444444444444444,\"#bd3786\"],[0.5555555555555556,\"#d8576b\"],[0.6666666666666666,\"#ed7953\"],[0.7777777777777778,\"#fb9f3a\"],[0.8888888888888888,\"#fdca26\"],[1.0,\"#f0f921\"]]},\"colorway\":[\"#636efa\",\"#EF553B\",\"#00cc96\",\"#ab63fa\",\"#FFA15A\",\"#19d3f3\",\"#FF6692\",\"#B6E880\",\"#FF97FF\",\"#FECB52\"],\"font\":{\"color\":\"#2a3f5f\"},\"geo\":{\"bgcolor\":\"white\",\"lakecolor\":\"white\",\"landcolor\":\"#E5ECF6\",\"showlakes\":true,\"showland\":true,\"subunitcolor\":\"white\"},\"hoverlabel\":{\"align\":\"left\"},\"hovermode\":\"closest\",\"mapbox\":{\"style\":\"light\"},\"paper_bgcolor\":\"white\",\"plot_bgcolor\":\"#E5ECF6\",\"polar\":{\"angularaxis\":{\"gridcolor\":\"white\",\"linecolor\":\"white\",\"ticks\":\"\"},\"bgcolor\":\"#E5ECF6\",\"radialaxis\":{\"gridcolor\":\"white\",\"linecolor\":\"white\",\"ticks\":\"\"}},\"scene\":{\"xaxis\":{\"backgroundcolor\":\"#E5ECF6\",\"gridcolor\":\"white\",\"gridwidth\":2,\"linecolor\":\"white\",\"showbackground\":true,\"ticks\":\"\",\"zerolinecolor\":\"white\"},\"yaxis\":{\"backgroundcolor\":\"#E5ECF6\",\"gridcolor\":\"white\",\"gridwidth\":2,\"linecolor\":\"white\",\"showbackground\":true,\"ticks\":\"\",\"zerolinecolor\":\"white\"},\"zaxis\":{\"backgroundcolor\":\"#E5ECF6\",\"gridcolor\":\"white\",\"gridwidth\":2,\"linecolor\":\"white\",\"showbackground\":true,\"ticks\":\"\",\"zerolinecolor\":\"white\"}},\"shapedefaults\":{\"line\":{\"color\":\"#2a3f5f\"}},\"ternary\":{\"aaxis\":{\"gridcolor\":\"white\",\"linecolor\":\"white\",\"ticks\":\"\"},\"baxis\":{\"gridcolor\":\"white\",\"linecolor\":\"white\",\"ticks\":\"\"},\"bgcolor\":\"#E5ECF6\",\"caxis\":{\"gridcolor\":\"white\",\"linecolor\":\"white\",\"ticks\":\"\"}},\"title\":{\"x\":0.05},\"xaxis\":{\"automargin\":true,\"gridcolor\":\"white\",\"linecolor\":\"white\",\"ticks\":\"\",\"title\":{\"standoff\":15},\"zerolinecolor\":\"white\",\"zerolinewidth\":2},\"yaxis\":{\"automargin\":true,\"gridcolor\":\"white\",\"linecolor\":\"white\",\"ticks\":\"\",\"title\":{\"standoff\":15},\"zerolinecolor\":\"white\",\"zerolinewidth\":2}}}},                        {\"responsive\": true}                    ).then(function(){\n",
       "                            \n",
       "var gd = document.getElementById('64b132d9-eeb3-48a8-b6d4-1570fbdf702e');\n",
       "var x = new MutationObserver(function (mutations, observer) {{\n",
       "        var display = window.getComputedStyle(gd).display;\n",
       "        if (!display || display === 'none') {{\n",
       "            console.log([gd, 'removed!']);\n",
       "            Plotly.purge(gd);\n",
       "            observer.disconnect();\n",
       "        }}\n",
       "}});\n",
       "\n",
       "// Listen for the removal of the full notebook cells\n",
       "var notebookContainer = gd.closest('#notebook-container');\n",
       "if (notebookContainer) {{\n",
       "    x.observe(notebookContainer, {childList: true});\n",
       "}}\n",
       "\n",
       "// Listen for the clearing of the current output cell\n",
       "var outputEl = gd.closest('.output');\n",
       "if (outputEl) {{\n",
       "    x.observe(outputEl, {childList: true});\n",
       "}}\n",
       "\n",
       "                        })                };                });            </script>        </div>"
      ]
     },
     "metadata": {},
     "output_type": "display_data"
    }
   ],
   "source": [
    "#Interactive  3d plot visualizing lift, support and confidence.\n",
    "import plotly.express as px\n",
    "fig=px.scatter_3d(rules_without_redundancies,x='support',y='confidence',z='lift',\n",
    "                 color='consequents',opacity=0.7)\n",
    "fig.show()"
   ]
  },
  {
   "cell_type": "code",
   "execution_count": 56,
   "metadata": {},
   "outputs": [
    {
     "data": {
      "text/plain": [
       "Text(0.5, 0, 'lift')"
      ]
     },
     "execution_count": 56,
     "metadata": {},
     "output_type": "execute_result"
    },
    {
     "data": {
      "image/png": "[encoded data removed]",
      "text/plain": [
       "<Figure size 432x288 with 1 Axes>"
      ]
     },
     "metadata": {},
     "output_type": "display_data"
    }
   ],
   "source": [
    "### Plotting 3D for the rules generated\n",
    "fig2=plt.figure()\n",
    "axis2=fig2.add_subplot(111,projection='3d')\n",
    "axis2.scatter(rules_without_redundancies[\"support\"],rules_without_redundancies[\"confidence\"],rules_without_redundancies[\"lift\"])\n",
    "axis2.set_xlabel(\"Support\")\n",
    "axis2.set_ylabel(\"Confidence\")\n",
    "axis2.set_zlabel(\"lift\")"
   ]
  },
  {
   "cell_type": "code",
   "execution_count": null,
   "metadata": {},
   "outputs": [],
   "source": []
  }
 ],
 "metadata": {
  "kernelspec": {
   "display_name": "Python 3 (ipykernel)",
   "language": "python",
   "name": "python3"
  },
  "language_info": {
   "codemirror_mode": {
    "name": "ipython",
    "version": 3
   },
   "file_extension": ".py",
   "mimetype": "text/x-python",
   "name": "python",
   "nbconvert_exporter": "python",
   "pygments_lexer": "ipython3",
   "version": "3.9.7"
  }
 },
 "nbformat": 4,
 "nbformat_minor": 4
}
