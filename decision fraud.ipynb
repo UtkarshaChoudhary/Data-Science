{
 "cells": [
  {
   "cell_type": "code",
   "execution_count": 1,
   "metadata": {},
   "outputs": [],
   "source": [
    "import pandas as pd \n",
    "import matplotlib.pyplot as plt\n",
    "%matplotlib inline\n",
    "import warnings\n",
    "warnings.filterwarnings('ignore')\n",
    "from sklearn import datasets\n",
    "import numpy as np\n",
    "from sklearn.model_selection import train_test_split\n",
    "from sklearn import preprocessing\n",
    "from sklearn.tree import DecisionTreeClassifier\n",
    "from sklearn import tree\n",
    "from sklearn.metrics import classification_report"
   ]
  },
  {
   "cell_type": "code",
   "execution_count": 2,
   "metadata": {},
   "outputs": [
    {
     "data": {
      "text/html": [
       "<div>\n",
       "<style scoped>\n",
       "    .dataframe tbody tr th:only-of-type {\n",
       "        vertical-align: middle;\n",
       "    }\n",
       "\n",
       "    .dataframe tbody tr th {\n",
       "        vertical-align: top;\n",
       "    }\n",
       "\n",
       "    .dataframe thead th {\n",
       "        text-align: right;\n",
       "    }\n",
       "</style>\n",
       "<table border=\"1\" class=\"dataframe\">\n",
       "  <thead>\n",
       "    <tr style=\"text-align: right;\">\n",
       "      <th></th>\n",
       "      <th>Undergrad</th>\n",
       "      <th>Marital.Status</th>\n",
       "      <th>Taxable.Income</th>\n",
       "      <th>City.Population</th>\n",
       "      <th>Work.Experience</th>\n",
       "      <th>Urban</th>\n",
       "    </tr>\n",
       "  </thead>\n",
       "  <tbody>\n",
       "    <tr>\n",
       "      <th>0</th>\n",
       "      <td>NO</td>\n",
       "      <td>Single</td>\n",
       "      <td>68833</td>\n",
       "      <td>50047</td>\n",
       "      <td>10</td>\n",
       "      <td>YES</td>\n",
       "    </tr>\n",
       "    <tr>\n",
       "      <th>1</th>\n",
       "      <td>YES</td>\n",
       "      <td>Divorced</td>\n",
       "      <td>33700</td>\n",
       "      <td>134075</td>\n",
       "      <td>18</td>\n",
       "      <td>YES</td>\n",
       "    </tr>\n",
       "    <tr>\n",
       "      <th>2</th>\n",
       "      <td>NO</td>\n",
       "      <td>Married</td>\n",
       "      <td>36925</td>\n",
       "      <td>160205</td>\n",
       "      <td>30</td>\n",
       "      <td>YES</td>\n",
       "    </tr>\n",
       "    <tr>\n",
       "      <th>3</th>\n",
       "      <td>YES</td>\n",
       "      <td>Single</td>\n",
       "      <td>50190</td>\n",
       "      <td>193264</td>\n",
       "      <td>15</td>\n",
       "      <td>YES</td>\n",
       "    </tr>\n",
       "    <tr>\n",
       "      <th>4</th>\n",
       "      <td>NO</td>\n",
       "      <td>Married</td>\n",
       "      <td>81002</td>\n",
       "      <td>27533</td>\n",
       "      <td>28</td>\n",
       "      <td>NO</td>\n",
       "    </tr>\n",
       "  </tbody>\n",
       "</table>\n",
       "</div>"
      ],
      "text/plain": [
       "  Undergrad Marital.Status  Taxable.Income  City.Population  Work.Experience  \\\n",
       "0        NO         Single           68833            50047               10   \n",
       "1       YES       Divorced           33700           134075               18   \n",
       "2        NO        Married           36925           160205               30   \n",
       "3       YES         Single           50190           193264               15   \n",
       "4        NO        Married           81002            27533               28   \n",
       "\n",
       "  Urban  \n",
       "0   YES  \n",
       "1   YES  \n",
       "2   YES  \n",
       "3   YES  \n",
       "4    NO  "
      ]
     },
     "execution_count": 2,
     "metadata": {},
     "output_type": "execute_result"
    }
   ],
   "source": [
    "df=pd.read_csv(\"Fraudcheck.csv\")\n",
    "df.head()"
   ]
  },
  {
   "cell_type": "code",
   "execution_count": 3,
   "metadata": {},
   "outputs": [],
   "source": [
    "df=pd.get_dummies(df,columns=['Undergrad','Marital.Status','Urban'],drop_first=True)"
   ]
  },
  {
   "cell_type": "code",
   "execution_count": 4,
   "metadata": {},
   "outputs": [],
   "source": [
    "df[\"TaxInc\"]=pd.cut(df[\"Taxable.Income\"],bins=[10002,30000,99620],labels=[\"Risky\",\"Good\"])"
   ]
  },
  {
   "cell_type": "markdown",
   "metadata": {},
   "source": [
    "## Lets assume:taxable_income<=30000 as \"Risky=0\" and others are \"Good=1\""
   ]
  },
  {
   "cell_type": "code",
   "execution_count": 5,
   "metadata": {},
   "outputs": [],
   "source": [
    "df=pd.get_dummies(df,columns=[\"TaxInc\"],drop_first=True)"
   ]
  },
  {
   "cell_type": "code",
   "execution_count": 6,
   "metadata": {},
   "outputs": [
    {
     "data": {
      "text/html": [
       "<div>\n",
       "<style scoped>\n",
       "    .dataframe tbody tr th:only-of-type {\n",
       "        vertical-align: middle;\n",
       "    }\n",
       "\n",
       "    .dataframe tbody tr th {\n",
       "        vertical-align: top;\n",
       "    }\n",
       "\n",
       "    .dataframe thead th {\n",
       "        text-align: right;\n",
       "    }\n",
       "</style>\n",
       "<table border=\"1\" class=\"dataframe\">\n",
       "  <thead>\n",
       "    <tr style=\"text-align: right;\">\n",
       "      <th></th>\n",
       "      <th>Taxable.Income</th>\n",
       "      <th>City.Population</th>\n",
       "      <th>Work.Experience</th>\n",
       "      <th>Undergrad_YES</th>\n",
       "      <th>Marital.Status_Married</th>\n",
       "      <th>Marital.Status_Single</th>\n",
       "      <th>Urban_YES</th>\n",
       "      <th>TaxInc_Good</th>\n",
       "    </tr>\n",
       "  </thead>\n",
       "  <tbody>\n",
       "    <tr>\n",
       "      <th>590</th>\n",
       "      <td>43018</td>\n",
       "      <td>85195</td>\n",
       "      <td>14</td>\n",
       "      <td>0</td>\n",
       "      <td>1</td>\n",
       "      <td>0</td>\n",
       "      <td>1</td>\n",
       "      <td>1</td>\n",
       "    </tr>\n",
       "    <tr>\n",
       "      <th>591</th>\n",
       "      <td>27394</td>\n",
       "      <td>132859</td>\n",
       "      <td>18</td>\n",
       "      <td>1</td>\n",
       "      <td>0</td>\n",
       "      <td>1</td>\n",
       "      <td>1</td>\n",
       "      <td>0</td>\n",
       "    </tr>\n",
       "    <tr>\n",
       "      <th>592</th>\n",
       "      <td>68152</td>\n",
       "      <td>75143</td>\n",
       "      <td>16</td>\n",
       "      <td>1</td>\n",
       "      <td>0</td>\n",
       "      <td>1</td>\n",
       "      <td>0</td>\n",
       "      <td>1</td>\n",
       "    </tr>\n",
       "    <tr>\n",
       "      <th>593</th>\n",
       "      <td>84775</td>\n",
       "      <td>131963</td>\n",
       "      <td>10</td>\n",
       "      <td>0</td>\n",
       "      <td>0</td>\n",
       "      <td>0</td>\n",
       "      <td>1</td>\n",
       "      <td>1</td>\n",
       "    </tr>\n",
       "    <tr>\n",
       "      <th>594</th>\n",
       "      <td>47364</td>\n",
       "      <td>97526</td>\n",
       "      <td>9</td>\n",
       "      <td>0</td>\n",
       "      <td>1</td>\n",
       "      <td>0</td>\n",
       "      <td>1</td>\n",
       "      <td>1</td>\n",
       "    </tr>\n",
       "    <tr>\n",
       "      <th>595</th>\n",
       "      <td>76340</td>\n",
       "      <td>39492</td>\n",
       "      <td>7</td>\n",
       "      <td>1</td>\n",
       "      <td>0</td>\n",
       "      <td>0</td>\n",
       "      <td>1</td>\n",
       "      <td>1</td>\n",
       "    </tr>\n",
       "    <tr>\n",
       "      <th>596</th>\n",
       "      <td>69967</td>\n",
       "      <td>55369</td>\n",
       "      <td>2</td>\n",
       "      <td>1</td>\n",
       "      <td>0</td>\n",
       "      <td>0</td>\n",
       "      <td>1</td>\n",
       "      <td>1</td>\n",
       "    </tr>\n",
       "    <tr>\n",
       "      <th>597</th>\n",
       "      <td>47334</td>\n",
       "      <td>154058</td>\n",
       "      <td>0</td>\n",
       "      <td>0</td>\n",
       "      <td>0</td>\n",
       "      <td>0</td>\n",
       "      <td>1</td>\n",
       "      <td>1</td>\n",
       "    </tr>\n",
       "    <tr>\n",
       "      <th>598</th>\n",
       "      <td>98592</td>\n",
       "      <td>180083</td>\n",
       "      <td>17</td>\n",
       "      <td>1</td>\n",
       "      <td>1</td>\n",
       "      <td>0</td>\n",
       "      <td>0</td>\n",
       "      <td>1</td>\n",
       "    </tr>\n",
       "    <tr>\n",
       "      <th>599</th>\n",
       "      <td>96519</td>\n",
       "      <td>158137</td>\n",
       "      <td>16</td>\n",
       "      <td>0</td>\n",
       "      <td>0</td>\n",
       "      <td>0</td>\n",
       "      <td>0</td>\n",
       "      <td>1</td>\n",
       "    </tr>\n",
       "  </tbody>\n",
       "</table>\n",
       "</div>"
      ],
      "text/plain": [
       "     Taxable.Income  City.Population  Work.Experience  Undergrad_YES  \\\n",
       "590           43018            85195               14              0   \n",
       "591           27394           132859               18              1   \n",
       "592           68152            75143               16              1   \n",
       "593           84775           131963               10              0   \n",
       "594           47364            97526                9              0   \n",
       "595           76340            39492                7              1   \n",
       "596           69967            55369                2              1   \n",
       "597           47334           154058                0              0   \n",
       "598           98592           180083               17              1   \n",
       "599           96519           158137               16              0   \n",
       "\n",
       "     Marital.Status_Married  Marital.Status_Single  Urban_YES  TaxInc_Good  \n",
       "590                       1                      0          1            1  \n",
       "591                       0                      1          1            0  \n",
       "592                       0                      1          0            1  \n",
       "593                       0                      0          1            1  \n",
       "594                       1                      0          1            1  \n",
       "595                       0                      0          1            1  \n",
       "596                       0                      0          1            1  \n",
       "597                       0                      0          1            1  \n",
       "598                       1                      0          0            1  \n",
       "599                       0                      0          0            1  "
      ]
     },
     "execution_count": 6,
     "metadata": {},
     "output_type": "execute_result"
    }
   ],
   "source": [
    "df.tail(10)"
   ]
  },
  {
   "cell_type": "code",
   "execution_count": 7,
   "metadata": {},
   "outputs": [],
   "source": [
    "x=df.iloc[:,0:8]\n",
    "y=df[\"TaxInc_Good\"]"
   ]
  },
  {
   "cell_type": "code",
   "execution_count": 8,
   "metadata": {},
   "outputs": [
    {
     "data": {
      "text/html": [
       "<div>\n",
       "<style scoped>\n",
       "    .dataframe tbody tr th:only-of-type {\n",
       "        vertical-align: middle;\n",
       "    }\n",
       "\n",
       "    .dataframe tbody tr th {\n",
       "        vertical-align: top;\n",
       "    }\n",
       "\n",
       "    .dataframe thead th {\n",
       "        text-align: right;\n",
       "    }\n",
       "</style>\n",
       "<table border=\"1\" class=\"dataframe\">\n",
       "  <thead>\n",
       "    <tr style=\"text-align: right;\">\n",
       "      <th></th>\n",
       "      <th>Taxable.Income</th>\n",
       "      <th>City.Population</th>\n",
       "      <th>Work.Experience</th>\n",
       "      <th>Undergrad_YES</th>\n",
       "      <th>Marital.Status_Married</th>\n",
       "      <th>Marital.Status_Single</th>\n",
       "      <th>Urban_YES</th>\n",
       "      <th>TaxInc_Good</th>\n",
       "    </tr>\n",
       "  </thead>\n",
       "  <tbody>\n",
       "    <tr>\n",
       "      <th>0</th>\n",
       "      <td>68833</td>\n",
       "      <td>50047</td>\n",
       "      <td>10</td>\n",
       "      <td>0</td>\n",
       "      <td>0</td>\n",
       "      <td>1</td>\n",
       "      <td>1</td>\n",
       "      <td>1</td>\n",
       "    </tr>\n",
       "    <tr>\n",
       "      <th>1</th>\n",
       "      <td>33700</td>\n",
       "      <td>134075</td>\n",
       "      <td>18</td>\n",
       "      <td>1</td>\n",
       "      <td>0</td>\n",
       "      <td>0</td>\n",
       "      <td>1</td>\n",
       "      <td>1</td>\n",
       "    </tr>\n",
       "    <tr>\n",
       "      <th>2</th>\n",
       "      <td>36925</td>\n",
       "      <td>160205</td>\n",
       "      <td>30</td>\n",
       "      <td>0</td>\n",
       "      <td>1</td>\n",
       "      <td>0</td>\n",
       "      <td>1</td>\n",
       "      <td>1</td>\n",
       "    </tr>\n",
       "    <tr>\n",
       "      <th>3</th>\n",
       "      <td>50190</td>\n",
       "      <td>193264</td>\n",
       "      <td>15</td>\n",
       "      <td>1</td>\n",
       "      <td>0</td>\n",
       "      <td>1</td>\n",
       "      <td>1</td>\n",
       "      <td>1</td>\n",
       "    </tr>\n",
       "    <tr>\n",
       "      <th>4</th>\n",
       "      <td>81002</td>\n",
       "      <td>27533</td>\n",
       "      <td>28</td>\n",
       "      <td>0</td>\n",
       "      <td>1</td>\n",
       "      <td>0</td>\n",
       "      <td>0</td>\n",
       "      <td>1</td>\n",
       "    </tr>\n",
       "    <tr>\n",
       "      <th>...</th>\n",
       "      <td>...</td>\n",
       "      <td>...</td>\n",
       "      <td>...</td>\n",
       "      <td>...</td>\n",
       "      <td>...</td>\n",
       "      <td>...</td>\n",
       "      <td>...</td>\n",
       "      <td>...</td>\n",
       "    </tr>\n",
       "    <tr>\n",
       "      <th>595</th>\n",
       "      <td>76340</td>\n",
       "      <td>39492</td>\n",
       "      <td>7</td>\n",
       "      <td>1</td>\n",
       "      <td>0</td>\n",
       "      <td>0</td>\n",
       "      <td>1</td>\n",
       "      <td>1</td>\n",
       "    </tr>\n",
       "    <tr>\n",
       "      <th>596</th>\n",
       "      <td>69967</td>\n",
       "      <td>55369</td>\n",
       "      <td>2</td>\n",
       "      <td>1</td>\n",
       "      <td>0</td>\n",
       "      <td>0</td>\n",
       "      <td>1</td>\n",
       "      <td>1</td>\n",
       "    </tr>\n",
       "    <tr>\n",
       "      <th>597</th>\n",
       "      <td>47334</td>\n",
       "      <td>154058</td>\n",
       "      <td>0</td>\n",
       "      <td>0</td>\n",
       "      <td>0</td>\n",
       "      <td>0</td>\n",
       "      <td>1</td>\n",
       "      <td>1</td>\n",
       "    </tr>\n",
       "    <tr>\n",
       "      <th>598</th>\n",
       "      <td>98592</td>\n",
       "      <td>180083</td>\n",
       "      <td>17</td>\n",
       "      <td>1</td>\n",
       "      <td>1</td>\n",
       "      <td>0</td>\n",
       "      <td>0</td>\n",
       "      <td>1</td>\n",
       "    </tr>\n",
       "    <tr>\n",
       "      <th>599</th>\n",
       "      <td>96519</td>\n",
       "      <td>158137</td>\n",
       "      <td>16</td>\n",
       "      <td>0</td>\n",
       "      <td>0</td>\n",
       "      <td>0</td>\n",
       "      <td>0</td>\n",
       "      <td>1</td>\n",
       "    </tr>\n",
       "  </tbody>\n",
       "</table>\n",
       "<p>600 rows × 8 columns</p>\n",
       "</div>"
      ],
      "text/plain": [
       "     Taxable.Income  City.Population  Work.Experience  Undergrad_YES  \\\n",
       "0             68833            50047               10              0   \n",
       "1             33700           134075               18              1   \n",
       "2             36925           160205               30              0   \n",
       "3             50190           193264               15              1   \n",
       "4             81002            27533               28              0   \n",
       "..              ...              ...              ...            ...   \n",
       "595           76340            39492                7              1   \n",
       "596           69967            55369                2              1   \n",
       "597           47334           154058                0              0   \n",
       "598           98592           180083               17              1   \n",
       "599           96519           158137               16              0   \n",
       "\n",
       "     Marital.Status_Married  Marital.Status_Single  Urban_YES  TaxInc_Good  \n",
       "0                         0                      1          1            1  \n",
       "1                         0                      0          1            1  \n",
       "2                         1                      0          1            1  \n",
       "3                         0                      1          1            1  \n",
       "4                         1                      0          0            1  \n",
       "..                      ...                    ...        ...          ...  \n",
       "595                       0                      0          1            1  \n",
       "596                       0                      0          1            1  \n",
       "597                       0                      0          1            1  \n",
       "598                       1                      0          0            1  \n",
       "599                       0                      0          0            1  \n",
       "\n",
       "[600 rows x 8 columns]"
      ]
     },
     "execution_count": 8,
     "metadata": {},
     "output_type": "execute_result"
    }
   ],
   "source": [
    "x"
   ]
  },
  {
   "cell_type": "code",
   "execution_count": 9,
   "metadata": {},
   "outputs": [
    {
     "data": {
      "text/plain": [
       "0      1\n",
       "1      1\n",
       "2      1\n",
       "3      1\n",
       "4      1\n",
       "      ..\n",
       "595    1\n",
       "596    1\n",
       "597    1\n",
       "598    1\n",
       "599    1\n",
       "Name: TaxInc_Good, Length: 600, dtype: uint8"
      ]
     },
     "execution_count": 9,
     "metadata": {},
     "output_type": "execute_result"
    }
   ],
   "source": [
    "y"
   ]
  },
  {
   "cell_type": "code",
   "execution_count": 10,
   "metadata": {},
   "outputs": [
    {
     "data": {
      "text/plain": [
       "array([1, 0], dtype=uint8)"
      ]
     },
     "execution_count": 10,
     "metadata": {},
     "output_type": "execute_result"
    }
   ],
   "source": [
    "df['TaxInc_Good'].unique()"
   ]
  },
  {
   "cell_type": "code",
   "execution_count": 11,
   "metadata": {},
   "outputs": [
    {
     "data": {
      "text/plain": [
       "1    476\n",
       "0    124\n",
       "Name: TaxInc_Good, dtype: int64"
      ]
     },
     "execution_count": 11,
     "metadata": {},
     "output_type": "execute_result"
    }
   ],
   "source": [
    "df['TaxInc_Good'].value_counts()"
   ]
  },
  {
   "cell_type": "code",
   "execution_count": 12,
   "metadata": {},
   "outputs": [],
   "source": [
    "colnames=list(df.columns)"
   ]
  },
  {
   "cell_type": "code",
   "execution_count": 13,
   "metadata": {},
   "outputs": [
    {
     "data": {
      "text/plain": [
       "['Taxable.Income',\n",
       " 'City.Population',\n",
       " 'Work.Experience',\n",
       " 'Undergrad_YES',\n",
       " 'Marital.Status_Married',\n",
       " 'Marital.Status_Single',\n",
       " 'Urban_YES',\n",
       " 'TaxInc_Good']"
      ]
     },
     "execution_count": 13,
     "metadata": {},
     "output_type": "execute_result"
    }
   ],
   "source": [
    "colnames"
   ]
  },
  {
   "cell_type": "code",
   "execution_count": 14,
   "metadata": {},
   "outputs": [],
   "source": [
    "#Splitting data into trainig and testing data set\n",
    "x_train,x_test,y_train,y_test=train_test_split(x,y,test_size=0.2,random_state=40)"
   ]
  },
  {
   "cell_type": "markdown",
   "metadata": {},
   "source": [
    "# Building Decision Tree Classifier using Entropy Criteria"
   ]
  },
  {
   "cell_type": "code",
   "execution_count": 15,
   "metadata": {},
   "outputs": [],
   "source": [
    "model=DecisionTreeClassifier(criterion='entropy',max_depth=5)"
   ]
  },
  {
   "cell_type": "code",
   "execution_count": 16,
   "metadata": {},
   "outputs": [
    {
     "data": {
      "text/plain": [
       "DecisionTreeClassifier(criterion='entropy', max_depth=5)"
      ]
     },
     "execution_count": 16,
     "metadata": {},
     "output_type": "execute_result"
    }
   ],
   "source": [
    "model.fit(x_train,y_train)"
   ]
  },
  {
   "cell_type": "code",
   "execution_count": 17,
   "metadata": {},
   "outputs": [
    {
     "data": {
      "image/png": "[encoded data removed]",
      "text/plain": [
       "<Figure size 432x288 with 1 Axes>"
      ]
     },
     "metadata": {
      "needs_background": "light"
     },
     "output_type": "display_data"
    }
   ],
   "source": [
    "#Plot the decision tree\n",
    "tree.plot_tree(model);"
   ]
  },
  {
   "cell_type": "code",
   "execution_count": 18,
   "metadata": {},
   "outputs": [
    {
     "data": {
      "image/png": "[encoded data removed]",
      "text/plain": [
       "<Figure size 400x400 with 1 Axes>"
      ]
     },
     "metadata": {
      "needs_background": "light"
     },
     "output_type": "display_data"
    }
   ],
   "source": [
    "fn=['Taxable.Income','City.Population','Work.Experience','Undergrad_YES','Marital.Status_Married','Marital.Status_Single','Urben=YES','TaxInc_Good']\n",
    "cn=['Setosa','Versicolor','Virginica']\n",
    "fig,axes=plt.subplots(nrows=1,ncols=1,figsize=(4,4),dpi=100)\n",
    "tree.plot_tree(model,\n",
    "              feature_names=fn,\n",
    "              class_names=cn,\n",
    "              filled=True);"
   ]
  },
  {
   "cell_type": "code",
   "execution_count": 19,
   "metadata": {},
   "outputs": [
    {
     "data": {
      "text/plain": [
       "1    92\n",
       "0    28\n",
       "dtype: int64"
      ]
     },
     "execution_count": 19,
     "metadata": {},
     "output_type": "execute_result"
    }
   ],
   "source": [
    "#Predicting on test Dataset\n",
    "preds=model.predict(x_test)\n",
    "pd.Series(preds).value_counts()"
   ]
  },
  {
   "cell_type": "code",
   "execution_count": 20,
   "metadata": {},
   "outputs": [
    {
     "data": {
      "text/plain": [
       "array([1, 1, 1, 1, 0, 0, 1, 0, 0, 1, 1, 0, 0, 1, 0, 0, 1, 1, 1, 1, 1, 0,\n",
       "       1, 1, 1, 1, 1, 1, 1, 1, 1, 1, 1, 1, 1, 1, 1, 1, 1, 1, 1, 0, 1, 1,\n",
       "       1, 1, 1, 1, 0, 1, 1, 1, 1, 1, 1, 1, 1, 1, 1, 1, 1, 1, 0, 0, 1, 1,\n",
       "       1, 1, 1, 1, 1, 0, 1, 0, 1, 1, 1, 1, 0, 1, 1, 1, 0, 0, 0, 1, 1, 1,\n",
       "       1, 0, 0, 1, 1, 1, 0, 0, 1, 1, 1, 0, 1, 1, 0, 1, 1, 1, 1, 1, 0, 0,\n",
       "       1, 1, 0, 1, 1, 1, 1, 1, 1, 1], dtype=uint8)"
      ]
     },
     "execution_count": 20,
     "metadata": {},
     "output_type": "execute_result"
    }
   ],
   "source": [
    "preds"
   ]
  },
  {
   "cell_type": "code",
   "execution_count": 21,
   "metadata": {},
   "outputs": [
    {
     "data": {
      "text/html": [
       "<div>\n",
       "<style scoped>\n",
       "    .dataframe tbody tr th:only-of-type {\n",
       "        vertical-align: middle;\n",
       "    }\n",
       "\n",
       "    .dataframe tbody tr th {\n",
       "        vertical-align: top;\n",
       "    }\n",
       "\n",
       "    .dataframe thead th {\n",
       "        text-align: right;\n",
       "    }\n",
       "</style>\n",
       "<table border=\"1\" class=\"dataframe\">\n",
       "  <thead>\n",
       "    <tr style=\"text-align: right;\">\n",
       "      <th>col_0</th>\n",
       "      <th>0</th>\n",
       "      <th>1</th>\n",
       "    </tr>\n",
       "    <tr>\n",
       "      <th>TaxInc_Good</th>\n",
       "      <th></th>\n",
       "      <th></th>\n",
       "    </tr>\n",
       "  </thead>\n",
       "  <tbody>\n",
       "    <tr>\n",
       "      <th>0</th>\n",
       "      <td>28</td>\n",
       "      <td>0</td>\n",
       "    </tr>\n",
       "    <tr>\n",
       "      <th>1</th>\n",
       "      <td>0</td>\n",
       "      <td>92</td>\n",
       "    </tr>\n",
       "  </tbody>\n",
       "</table>\n",
       "</div>"
      ],
      "text/plain": [
       "col_0         0   1\n",
       "TaxInc_Good        \n",
       "0            28   0\n",
       "1             0  92"
      ]
     },
     "execution_count": 21,
     "metadata": {},
     "output_type": "execute_result"
    }
   ],
   "source": [
    "#Getting the 2 way table to understand the correct and wrong predictions\n",
    "pd.crosstab(y_test,preds)"
   ]
  },
  {
   "cell_type": "code",
   "execution_count": 22,
   "metadata": {},
   "outputs": [
    {
     "data": {
      "text/plain": [
       "1.0"
      ]
     },
     "execution_count": 22,
     "metadata": {},
     "output_type": "execute_result"
    }
   ],
   "source": [
    "#Accuracy\n",
    "np.mean(preds==y_test)"
   ]
  },
  {
   "cell_type": "code",
   "execution_count": 23,
   "metadata": {},
   "outputs": [],
   "source": [
    "#Building Decision Tree Classifier (CART) using Gini Criteria\n",
    "from sklearn.tree import DecisionTreeClassifier\n",
    "model_gini=DecisionTreeClassifier(criterion='gini',max_depth=3)"
   ]
  },
  {
   "cell_type": "code",
   "execution_count": 24,
   "metadata": {},
   "outputs": [
    {
     "data": {
      "text/plain": [
       "DecisionTreeClassifier(max_depth=3)"
      ]
     },
     "execution_count": 24,
     "metadata": {},
     "output_type": "execute_result"
    }
   ],
   "source": [
    "model_gini.fit(x_train,y_train)"
   ]
  },
  {
   "cell_type": "code",
   "execution_count": 25,
   "metadata": {},
   "outputs": [
    {
     "data": {
      "text/plain": [
       "1.0"
      ]
     },
     "execution_count": 25,
     "metadata": {},
     "output_type": "execute_result"
    }
   ],
   "source": [
    "#Prediction and compucting accuracy\n",
    "pred=model.predict(x_test)\n",
    "np.mean(pred==y_test)"
   ]
  },
  {
   "cell_type": "markdown",
   "metadata": {},
   "source": [
    "# Hyperparameter tunning"
   ]
  },
  {
   "cell_type": "code",
   "execution_count": 26,
   "metadata": {},
   "outputs": [
    {
     "data": {
      "text/plain": [
       "array([1.00000000e+00, 1.62377674e-01, 2.63665090e-02, 4.28133240e-03,\n",
       "       6.95192796e-04, 1.12883789e-04, 1.83298071e-05, 2.97635144e-06,\n",
       "       4.83293024e-07, 7.84759970e-08, 1.27427499e-08, 2.06913808e-09,\n",
       "       3.35981829e-10, 5.45559478e-11, 8.85866790e-12, 1.43844989e-12,\n",
       "       2.33572147e-13, 3.79269019e-14, 6.15848211e-15, 1.00000000e-15])"
      ]
     },
     "execution_count": 26,
     "metadata": {},
     "output_type": "execute_result"
    }
   ],
   "source": [
    "np.logspace(0,-15,num=20)"
   ]
  },
  {
   "cell_type": "code",
   "execution_count": 27,
   "metadata": {},
   "outputs": [],
   "source": [
    "from sklearn.model_selection import RepeatedStratifiedKFold\n",
    "from sklearn.model_selection import train_test_split,GridSearchCV\n",
    "from sklearn.naive_bayes import GaussianNB\n",
    "Gmodel=GaussianNB()"
   ]
  },
  {
   "cell_type": "code",
   "execution_count": 28,
   "metadata": {},
   "outputs": [
    {
     "data": {
      "text/plain": [
       "RepeatedStratifiedKFold(n_repeats=8, n_splits=5, random_state=999)"
      ]
     },
     "execution_count": 28,
     "metadata": {},
     "output_type": "execute_result"
    }
   ],
   "source": [
    "cv_method=RepeatedStratifiedKFold(n_splits=5,n_repeats=8,random_state=999)\n",
    "cv_method"
   ]
  },
  {
   "cell_type": "code",
   "execution_count": 29,
   "metadata": {},
   "outputs": [
    {
     "data": {
      "text/plain": [
       "{'var_smoothing': array([1.00000000e+00, 7.05480231e-01, 4.97702356e-01, 3.51119173e-01,\n",
       "        2.47707636e-01, 1.74752840e-01, 1.23284674e-01, 8.69749003e-02,\n",
       "        6.13590727e-02, 4.32876128e-02, 3.05385551e-02, 2.15443469e-02,\n",
       "        1.51991108e-02, 1.07226722e-02, 7.56463328e-03, 5.33669923e-03,\n",
       "        3.76493581e-03, 2.65608778e-03, 1.87381742e-03, 1.32194115e-03,\n",
       "        9.32603347e-04, 6.57933225e-04, 4.64158883e-04, 3.27454916e-04,\n",
       "        2.31012970e-04, 1.62975083e-04, 1.14975700e-04, 8.11130831e-05,\n",
       "        5.72236766e-05, 4.03701726e-05, 2.84803587e-05, 2.00923300e-05,\n",
       "        1.41747416e-05, 1.00000000e-05, 7.05480231e-06, 4.97702356e-06,\n",
       "        3.51119173e-06, 2.47707636e-06, 1.74752840e-06, 1.23284674e-06,\n",
       "        8.69749003e-07, 6.13590727e-07, 4.32876128e-07, 3.05385551e-07,\n",
       "        2.15443469e-07, 1.51991108e-07, 1.07226722e-07, 7.56463328e-08,\n",
       "        5.33669923e-08, 3.76493581e-08, 2.65608778e-08, 1.87381742e-08,\n",
       "        1.32194115e-08, 9.32603347e-09, 6.57933225e-09, 4.64158883e-09,\n",
       "        3.27454916e-09, 2.31012970e-09, 1.62975083e-09, 1.14975700e-09,\n",
       "        8.11130831e-10, 5.72236766e-10, 4.03701726e-10, 2.84803587e-10,\n",
       "        2.00923300e-10, 1.41747416e-10, 1.00000000e-10, 7.05480231e-11,\n",
       "        4.97702356e-11, 3.51119173e-11, 2.47707636e-11, 1.74752840e-11,\n",
       "        1.23284674e-11, 8.69749003e-12, 6.13590727e-12, 4.32876128e-12,\n",
       "        3.05385551e-12, 2.15443469e-12, 1.51991108e-12, 1.07226722e-12,\n",
       "        7.56463328e-13, 5.33669923e-13, 3.76493581e-13, 2.65608778e-13,\n",
       "        1.87381742e-13, 1.32194115e-13, 9.32603347e-14, 6.57933225e-14,\n",
       "        4.64158883e-14, 3.27454916e-14, 2.31012970e-14, 1.62975083e-14,\n",
       "        1.14975700e-14, 8.11130831e-15, 5.72236766e-15, 4.03701726e-15,\n",
       "        2.84803587e-15, 2.00923300e-15, 1.41747416e-15, 1.00000000e-15])}"
      ]
     },
     "execution_count": 29,
     "metadata": {},
     "output_type": "execute_result"
    }
   ],
   "source": [
    "from sklearn.preprocessing import PowerTransformer\n",
    "params_NB={'var_smoothing':np.logspace(0,-15,num=100)}\n",
    "params_NB"
   ]
  },
  {
   "cell_type": "code",
   "execution_count": 30,
   "metadata": {},
   "outputs": [
    {
     "data": {
      "text/plain": [
       "GridSearchCV(cv=RepeatedStratifiedKFold(n_repeats=8, n_splits=5, random_state=999),\n",
       "             estimator=GaussianNB(),\n",
       "             param_grid={'var_smoothing': array([1.00000000e+00, 7.05480231e-01, 4.97702356e-01, 3.51119173e-01,\n",
       "       2.47707636e-01, 1.74752840e-01, 1.23284674e-01, 8.69749003e-02,\n",
       "       6.13590727e-02, 4.32876128e-02, 3.05385551e-02, 2.15443469e-02,\n",
       "       1.51991108e-02, 1.07226722e-02, 7...\n",
       "       3.05385551e-12, 2.15443469e-12, 1.51991108e-12, 1.07226722e-12,\n",
       "       7.56463328e-13, 5.33669923e-13, 3.76493581e-13, 2.65608778e-13,\n",
       "       1.87381742e-13, 1.32194115e-13, 9.32603347e-14, 6.57933225e-14,\n",
       "       4.64158883e-14, 3.27454916e-14, 2.31012970e-14, 1.62975083e-14,\n",
       "       1.14975700e-14, 8.11130831e-15, 5.72236766e-15, 4.03701726e-15,\n",
       "       2.84803587e-15, 2.00923300e-15, 1.41747416e-15, 1.00000000e-15])},\n",
       "             scoring='accuracy', verbose=1)"
      ]
     },
     "execution_count": 30,
     "metadata": {},
     "output_type": "execute_result"
    }
   ],
   "source": [
    "gs_NB=GridSearchCV(estimator=Gmodel,param_grid=params_NB,cv=cv_method,verbose=1,scoring='accuracy')\n",
    "gs_NB"
   ]
  },
  {
   "cell_type": "code",
   "execution_count": 31,
   "metadata": {},
   "outputs": [
    {
     "data": {
      "text/plain": [
       "array([[ 0.34532949, -1.70397525, -1.93835515,  0.95118973, -0.70710678,\n",
       "         1.38810276, -1.03390789,  0.55167728],\n",
       "       [ 0.36872697, -1.60186807,  1.05635014, -1.05131497, -0.70710678,\n",
       "        -0.72040776, -1.03390789,  0.55167728],\n",
       "       [ 0.94233016, -0.49073814,  1.47501421,  0.95118973, -0.70710678,\n",
       "         1.38810276, -1.03390789,  0.55167728],\n",
       "       [ 1.31093868,  1.15003547, -0.65716753, -1.05131497,  1.41421356,\n",
       "        -0.72040776, -1.03390789,  0.55167728],\n",
       "       [-1.26395864,  0.24158603, -1.18059247,  0.95118973, -0.70710678,\n",
       "         1.38810276, -1.03390789, -1.81265393],\n",
       "       [-1.1562668 , -1.52104039,  1.47501421,  0.95118973, -0.70710678,\n",
       "        -0.72040776, -1.03390789, -1.81265393],\n",
       "       [ 1.4248762 , -1.28200068,  1.47501421, -1.05131497,  1.41421356,\n",
       "        -0.72040776, -1.03390789,  0.55167728],\n",
       "       [-1.64411999,  0.47022119, -0.17049987, -1.05131497,  1.41421356,\n",
       "        -0.72040776,  0.96720415, -1.81265393],\n",
       "       [-1.50724553, -1.23997792, -0.28949562,  0.95118973, -0.70710678,\n",
       "         1.38810276,  0.96720415, -1.81265393],\n",
       "       [ 0.62638095, -1.10637298, -0.65716753,  0.95118973, -0.70710678,\n",
       "        -0.72040776, -1.03390789,  0.55167728],\n",
       "       [-0.02491954,  0.57965728, -0.53265986,  0.95118973, -0.70710678,\n",
       "         1.38810276,  0.96720415,  0.55167728],\n",
       "       [-1.17692423, -1.58294852,  0.40346424, -1.05131497, -0.70710678,\n",
       "         1.38810276,  0.96720415, -1.81265393],\n",
       "       [-0.92607672,  1.53109856, -0.65716753, -1.05131497, -0.70710678,\n",
       "        -0.72040776, -1.03390789, -1.81265393],\n",
       "       [ 1.46458711, -1.06567451, -0.41016387, -1.05131497, -0.70710678,\n",
       "         1.38810276, -1.03390789,  0.55167728],\n",
       "       [-1.04275087,  0.52990986,  0.29115793,  0.95118973, -0.70710678,\n",
       "         1.38810276,  0.96720415, -1.81265393],\n",
       "       [-1.86356971,  0.77476562, -0.17049987, -1.05131497, -0.70710678,\n",
       "        -0.72040776,  0.96720415, -1.81265393],\n",
       "       [ 0.33462488,  1.00275974,  0.17769117,  0.95118973, -0.70710678,\n",
       "         1.38810276,  0.96720415,  0.55167728],\n",
       "       [-0.25514211,  1.47771549,  0.40346424, -1.05131497, -0.70710678,\n",
       "         1.38810276, -1.03390789,  0.55167728],\n",
       "       [ 1.39733908,  0.05967864,  0.73407618, -1.05131497, -0.70710678,\n",
       "         1.38810276, -1.03390789,  0.55167728],\n",
       "       [ 0.00834034, -1.36502606, -0.65716753,  0.95118973,  1.41421356,\n",
       "        -0.72040776, -1.03390789,  0.55167728],\n",
       "       [ 1.23633571,  0.12306985, -1.31979169, -1.05131497, -0.70710678,\n",
       "         1.38810276,  0.96720415,  0.55167728],\n",
       "       [-1.44712255, -0.90141853,  0.51467916,  0.95118973, -0.70710678,\n",
       "         1.38810276,  0.96720415, -1.81265393],\n",
       "       [-0.2738023 , -0.94947752,  0.17769117,  0.95118973, -0.70710678,\n",
       "         1.38810276, -1.03390789,  0.55167728],\n",
       "       [ 0.61044031,  0.0974102 ,  1.47501421, -1.05131497, -0.70710678,\n",
       "        -0.72040776, -1.03390789,  0.55167728],\n",
       "       [-0.81316801,  0.47040493,  0.73407618,  0.95118973, -0.70710678,\n",
       "        -0.72040776, -1.03390789,  0.55167728],\n",
       "       [-0.33469734,  0.01699247, -0.65716753, -1.05131497, -0.70710678,\n",
       "        -0.72040776, -1.03390789,  0.55167728],\n",
       "       [ 1.34221634, -1.55298402,  1.37142852, -1.05131497,  1.41421356,\n",
       "        -0.72040776, -1.03390789,  0.55167728],\n",
       "       [ 1.10959731, -0.1723722 ,  1.26714301,  0.95118973,  1.41421356,\n",
       "        -0.72040776,  0.96720415,  0.55167728],\n",
       "       [ 1.39611044, -1.09759797,  1.05635014,  0.95118973, -0.70710678,\n",
       "        -0.72040776,  0.96720415,  0.55167728],\n",
       "       [-0.84770643, -0.81086111,  1.1621277 ,  0.95118973, -0.70710678,\n",
       "         1.38810276,  0.96720415,  0.55167728],\n",
       "       [-0.03317036,  0.85738725,  0.94977516,  0.95118973, -0.70710678,\n",
       "        -0.72040776,  0.96720415,  0.55167728],\n",
       "       [-0.85062697, -1.63355123, -0.65716753,  0.95118973,  1.41421356,\n",
       "        -0.72040776, -1.03390789,  0.55167728],\n",
       "       [ 0.3922522 ,  0.76815025, -0.78390802,  0.95118973, -0.70710678,\n",
       "        -0.72040776,  0.96720415,  0.55167728],\n",
       "       [ 0.08012429,  0.31262956, -0.41016387, -1.05131497,  1.41421356,\n",
       "        -0.72040776, -1.03390789,  0.55167728],\n",
       "       [-0.48936719,  1.1711522 ,  1.57792789,  0.95118973, -0.70710678,\n",
       "         1.38810276, -1.03390789,  0.55167728],\n",
       "       [ 0.84834797, -0.49744254, -1.18059247,  0.95118973, -0.70710678,\n",
       "         1.38810276,  0.96720415,  0.55167728],\n",
       "       [ 1.52324423, -1.62191777, -0.28949562, -1.05131497,  1.41421356,\n",
       "        -0.72040776,  0.96720415,  0.55167728],\n",
       "       [ 0.63674017, -0.67062053, -1.0452359 , -1.05131497, -0.70710678,\n",
       "         1.38810276,  0.96720415,  0.55167728],\n",
       "       [ 0.58421291,  1.23043468, -1.46361855, -1.05131497,  1.41421356,\n",
       "        -0.72040776,  0.96720415,  0.55167728],\n",
       "       [ 0.09663348,  1.09827736, -0.05304403,  0.95118973, -0.70710678,\n",
       "        -0.72040776, -1.03390789,  0.55167728],\n",
       "       [ 1.32702542, -1.72390212, -0.53265986, -1.05131497,  1.41421356,\n",
       "        -0.72040776, -1.03390789,  0.55167728],\n",
       "       [-1.86295396, -1.47769115,  0.94977516, -1.05131497,  1.41421356,\n",
       "        -0.72040776,  0.96720415, -1.81265393],\n",
       "       [ 0.91152181, -0.45685684, -0.53265986,  0.95118973, -0.70710678,\n",
       "         1.38810276,  0.96720415,  0.55167728],\n",
       "       [ 0.65876281,  1.28083278, -0.65716753, -1.05131497, -0.70710678,\n",
       "        -0.72040776,  0.96720415,  0.55167728],\n",
       "       [ 0.92962482,  1.30263379, -1.0452359 , -1.05131497, -0.70710678,\n",
       "         1.38810276,  0.96720415,  0.55167728],\n",
       "       [ 0.92881175,  0.90684952,  1.47501421,  0.95118973, -0.70710678,\n",
       "         1.38810276,  0.96720415,  0.55167728],\n",
       "       [ 1.37802932,  1.33917008,  1.57792789,  0.95118973,  1.41421356,\n",
       "        -0.72040776,  0.96720415,  0.55167728],\n",
       "       [ 0.57517572, -1.10570089, -0.65716753, -1.05131497, -0.70710678,\n",
       "         1.38810276,  0.96720415,  0.55167728],\n",
       "       [-0.98224146,  0.60711518, -0.65716753, -1.05131497, -0.70710678,\n",
       "        -0.72040776, -1.03390789, -1.81265393],\n",
       "       [-0.56197124,  1.43460222,  0.17769117,  0.95118973,  1.41421356,\n",
       "        -0.72040776,  0.96720415,  0.55167728],\n",
       "       [-0.84673337,  0.37018911, -1.93835515,  0.95118973, -0.70710678,\n",
       "        -0.72040776,  0.96720415,  0.55167728],\n",
       "       [ 0.62499181,  1.08991639, -0.17049987,  0.95118973,  1.41421356,\n",
       "        -0.72040776, -1.03390789,  0.55167728],\n",
       "       [ 1.42897783,  0.4562207 , -0.17049987,  0.95118973, -0.70710678,\n",
       "        -0.72040776, -1.03390789,  0.55167728],\n",
       "       [-0.55318246,  0.40609386, -0.28949562,  0.95118973,  1.41421356,\n",
       "        -0.72040776,  0.96720415,  0.55167728],\n",
       "       [ 0.14188618,  0.26559148, -1.46361855,  0.95118973, -0.70710678,\n",
       "        -0.72040776, -1.03390789,  0.55167728],\n",
       "       [ 0.62726173, -1.69903036, -2.12448113,  0.95118973, -0.70710678,\n",
       "         1.38810276,  0.96720415,  0.55167728],\n",
       "       [ 0.36615872, -0.57695054, -1.31979169, -1.05131497,  1.41421356,\n",
       "        -0.72040776, -1.03390789,  0.55167728],\n",
       "       [-0.85838072,  0.28441948,  1.1621277 ,  0.95118973,  1.41421356,\n",
       "        -0.72040776, -1.03390789,  0.55167728],\n",
       "       [ 1.00445247,  1.24701253,  0.40346424,  0.95118973, -0.70710678,\n",
       "        -0.72040776,  0.96720415,  0.55167728],\n",
       "       [ 1.36049625,  1.20478791,  0.62486456,  0.95118973, -0.70710678,\n",
       "         1.38810276, -1.03390789,  0.55167728],\n",
       "       [ 0.21291582,  0.76424681,  0.0629864 ,  0.95118973, -0.70710678,\n",
       "         1.38810276,  0.96720415,  0.55167728],\n",
       "       [ 0.41069808, -0.92494734, -0.28949562, -1.05131497,  1.41421356,\n",
       "        -0.72040776,  0.96720415,  0.55167728],\n",
       "       [-1.51125535,  1.43619942,  0.62486456, -1.05131497, -0.70710678,\n",
       "         1.38810276,  0.96720415, -1.81265393],\n",
       "       [-1.22920321, -1.19585844,  1.26714301, -1.05131497,  1.41421356,\n",
       "        -0.72040776, -1.03390789, -1.81265393],\n",
       "       [ 1.30261989, -0.55764799, -0.53265986, -1.05131497,  1.41421356,\n",
       "        -0.72040776,  0.96720415,  0.55167728],\n",
       "       [ 0.42968581, -0.17749162, -2.12448113, -1.05131497,  1.41421356,\n",
       "        -0.72040776,  0.96720415,  0.55167728],\n",
       "       [ 1.14141885,  1.27823995, -0.28949562,  0.95118973, -0.70710678,\n",
       "         1.38810276,  0.96720415,  0.55167728],\n",
       "       [-0.19985512,  1.03900606, -0.28949562,  0.95118973,  1.41421356,\n",
       "        -0.72040776, -1.03390789,  0.55167728],\n",
       "       [-0.08591547, -1.45477305,  1.47501421, -1.05131497,  1.41421356,\n",
       "        -0.72040776,  0.96720415,  0.55167728],\n",
       "       [ 1.55017968,  1.34838947,  1.05635014,  0.95118973, -0.70710678,\n",
       "         1.38810276,  0.96720415,  0.55167728],\n",
       "       [-0.14160043,  0.0826369 ,  0.51467916,  0.95118973, -0.70710678,\n",
       "        -0.72040776,  0.96720415,  0.55167728],\n",
       "       [-0.92733933,  0.5466929 ,  0.62486456, -1.05131497, -0.70710678,\n",
       "         1.38810276,  0.96720415, -1.81265393],\n",
       "       [ 0.41628829, -1.53764651,  1.57792789, -1.05131497, -0.70710678,\n",
       "         1.38810276, -1.03390789,  0.55167728],\n",
       "       [-1.97687677, -0.78317599,  0.40346424, -1.05131497,  1.41421356,\n",
       "        -0.72040776,  0.96720415, -1.81265393],\n",
       "       [-0.85009581, -1.26292017,  0.62486456, -1.05131497, -0.70710678,\n",
       "        -0.72040776,  0.96720415,  0.55167728],\n",
       "       [-0.85558771,  0.37744167,  0.51467916,  0.95118973, -0.70710678,\n",
       "         1.38810276,  0.96720415,  0.55167728],\n",
       "       [ 1.44735028,  0.25226013, -1.18059247,  0.95118973,  1.41421356,\n",
       "        -0.72040776,  0.96720415,  0.55167728],\n",
       "       [ 0.15782972, -0.5807297 , -0.78390802,  0.95118973, -0.70710678,\n",
       "         1.38810276,  0.96720415,  0.55167728],\n",
       "       [-0.94419715, -1.47594917,  0.51467916, -1.05131497, -0.70710678,\n",
       "        -0.72040776, -1.03390789, -1.81265393],\n",
       "       [ 0.06150191,  0.09603961, -1.77038484, -1.05131497,  1.41421356,\n",
       "        -0.72040776, -1.03390789,  0.55167728],\n",
       "       [ 0.93684116,  0.98730465,  1.37142852, -1.05131497,  1.41421356,\n",
       "        -0.72040776, -1.03390789,  0.55167728],\n",
       "       [ 0.25311044,  1.39401693,  0.73407618,  0.95118973, -0.70710678,\n",
       "        -0.72040776,  0.96720415,  0.55167728],\n",
       "       [-1.3356851 ,  0.55915469,  1.57792789, -1.05131497, -0.70710678,\n",
       "         1.38810276,  0.96720415, -1.81265393],\n",
       "       [-1.60332604, -1.49417273, -0.41016387, -1.05131497,  1.41421356,\n",
       "        -0.72040776, -1.03390789, -1.81265393],\n",
       "       [-1.28950322, -0.78495315,  0.17769117, -1.05131497, -0.70710678,\n",
       "         1.38810276, -1.03390789, -1.81265393],\n",
       "       [ 1.54420104, -0.51384859,  1.1621277 , -1.05131497, -0.70710678,\n",
       "        -0.72040776, -1.03390789,  0.55167728],\n",
       "       [ 1.03130257,  0.33580912, -0.17049987, -1.05131497, -0.70710678,\n",
       "        -0.72040776,  0.96720415,  0.55167728],\n",
       "       [ 0.29618401,  0.05414858, -0.53265986,  0.95118973, -0.70710678,\n",
       "        -0.72040776, -1.03390789,  0.55167728],\n",
       "       [ 1.46967542,  1.3745267 ,  1.1621277 , -1.05131497, -0.70710678,\n",
       "        -0.72040776, -1.03390789,  0.55167728],\n",
       "       [-1.65740846,  0.60885609, -1.61321554,  0.95118973,  1.41421356,\n",
       "        -0.72040776,  0.96720415, -1.81265393],\n",
       "       [-0.99190188,  1.01139564, -0.53265986, -1.05131497, -0.70710678,\n",
       "        -0.72040776, -1.03390789, -1.81265393],\n",
       "       [-0.37297559, -0.32948839, -0.17049987, -1.05131497,  1.41421356,\n",
       "        -0.72040776,  0.96720415,  0.55167728],\n",
       "       [ 0.5992605 ,  0.32019035,  0.62486456, -1.05131497, -0.70710678,\n",
       "        -0.72040776, -1.03390789,  0.55167728],\n",
       "       [-0.17028587, -0.63735052,  1.05635014, -1.05131497,  1.41421356,\n",
       "        -0.72040776, -1.03390789,  0.55167728],\n",
       "       [-0.9667703 ,  1.31545061, -0.53265986, -1.05131497, -0.70710678,\n",
       "         1.38810276, -1.03390789, -1.81265393],\n",
       "       [-1.14502758, -0.38308586,  1.47501421, -1.05131497, -0.70710678,\n",
       "         1.38810276,  0.96720415, -1.81265393],\n",
       "       [ 0.5704991 ,  0.63470749,  1.47501421,  0.95118973, -0.70710678,\n",
       "        -0.72040776, -1.03390789,  0.55167728],\n",
       "       [ 0.69143582, -0.15407321, -2.12448113,  0.95118973,  1.41421356,\n",
       "        -0.72040776,  0.96720415,  0.55167728],\n",
       "       [-0.75802172, -0.20459129, -0.28949562,  0.95118973,  1.41421356,\n",
       "        -0.72040776,  0.96720415,  0.55167728],\n",
       "       [-1.47853759, -1.13298107, -0.91315167,  0.95118973, -0.70710678,\n",
       "        -0.72040776, -1.03390789, -1.81265393],\n",
       "       [ 0.06729763, -0.07984502,  0.29115793,  0.95118973, -0.70710678,\n",
       "         1.38810276,  0.96720415,  0.55167728],\n",
       "       [-0.43214697, -1.65428797, -0.53265986,  0.95118973,  1.41421356,\n",
       "        -0.72040776,  0.96720415,  0.55167728],\n",
       "       [-1.81967047,  1.31287205, -1.93835515,  0.95118973, -0.70710678,\n",
       "        -0.72040776,  0.96720415, -1.81265393],\n",
       "       [-0.04966963, -0.27663295, -0.28949562, -1.05131497, -0.70710678,\n",
       "        -0.72040776, -1.03390789,  0.55167728],\n",
       "       [ 0.29949092,  0.99251656,  1.05635014,  0.95118973, -0.70710678,\n",
       "         1.38810276,  0.96720415,  0.55167728],\n",
       "       [-0.7168469 , -0.64795909,  1.05635014, -1.05131497,  1.41421356,\n",
       "        -0.72040776,  0.96720415,  0.55167728],\n",
       "       [-0.50242392,  0.77531786, -0.28949562,  0.95118973,  1.41421356,\n",
       "        -0.72040776, -1.03390789,  0.55167728],\n",
       "       [ 0.14593056,  1.46375612,  0.84236444,  0.95118973,  1.41421356,\n",
       "        -0.72040776,  0.96720415,  0.55167728],\n",
       "       [-1.8095502 ,  0.14305703,  0.73407618,  0.95118973, -0.70710678,\n",
       "         1.38810276, -1.03390789, -1.81265393],\n",
       "       [-1.08478881, -0.38217823, -0.41016387, -1.05131497, -0.70710678,\n",
       "        -0.72040776, -1.03390789, -1.81265393],\n",
       "       [-0.21805355, -0.69176178, -0.41016387, -1.05131497, -0.70710678,\n",
       "        -0.72040776, -1.03390789,  0.55167728],\n",
       "       [-0.59917187,  1.51769918,  1.05635014,  0.95118973,  1.41421356,\n",
       "        -0.72040776, -1.03390789,  0.55167728],\n",
       "       [-1.305125  ,  1.51380393, -1.0452359 , -1.05131497, -0.70710678,\n",
       "         1.38810276, -1.03390789, -1.81265393],\n",
       "       [ 1.22462068,  0.56817844, -0.28949562,  0.95118973, -0.70710678,\n",
       "         1.38810276, -1.03390789,  0.55167728],\n",
       "       [ 0.61376706, -0.97605854, -1.77038484,  0.95118973, -0.70710678,\n",
       "        -0.72040776,  0.96720415,  0.55167728],\n",
       "       [-0.80532161, -0.20611697,  0.84236444,  0.95118973, -0.70710678,\n",
       "        -0.72040776, -1.03390789,  0.55167728],\n",
       "       [ 0.12838566, -1.03454692, -1.31979169,  0.95118973,  1.41421356,\n",
       "        -0.72040776,  0.96720415,  0.55167728],\n",
       "       [ 1.50933655, -0.88435847, -1.18059247,  0.95118973, -0.70710678,\n",
       "        -0.72040776, -1.03390789,  0.55167728],\n",
       "       [ 1.27848639,  1.29548597,  0.94977516, -1.05131497, -0.70710678,\n",
       "        -0.72040776, -1.03390789,  0.55167728],\n",
       "       [ 1.31701741,  0.769256  , -0.28949562, -1.05131497, -0.70710678,\n",
       "        -0.72040776,  0.96720415,  0.55167728]])"
      ]
     },
     "execution_count": 31,
     "metadata": {},
     "output_type": "execute_result"
    }
   ],
   "source": [
    "data_transformed=PowerTransformer().fit_transform(x_test)\n",
    "data_transformed"
   ]
  },
  {
   "cell_type": "code",
   "execution_count": 32,
   "metadata": {},
   "outputs": [
    {
     "name": "stdout",
     "output_type": "stream",
     "text": [
      "Fitting 40 folds for each of 100 candidates, totalling 4000 fits\n"
     ]
    },
    {
     "name": "stderr",
     "output_type": "stream",
     "text": [
      "[Parallel(n_jobs=1)]: Using backend SequentialBackend with 1 concurrent workers.\n",
      "[Parallel(n_jobs=1)]: Done 4000 out of 4000 | elapsed:   11.7s finished\n"
     ]
    }
   ],
   "source": [
    "gs_NB.fit(data_transformed,y_test);"
   ]
  },
  {
   "cell_type": "code",
   "execution_count": 33,
   "metadata": {},
   "outputs": [
    {
     "data": {
      "text/html": [
       "<div>\n",
       "<style scoped>\n",
       "    .dataframe tbody tr th:only-of-type {\n",
       "        vertical-align: middle;\n",
       "    }\n",
       "\n",
       "    .dataframe tbody tr th {\n",
       "        vertical-align: top;\n",
       "    }\n",
       "\n",
       "    .dataframe thead th {\n",
       "        text-align: right;\n",
       "    }\n",
       "</style>\n",
       "<table border=\"1\" class=\"dataframe\">\n",
       "  <thead>\n",
       "    <tr style=\"text-align: right;\">\n",
       "      <th></th>\n",
       "      <th>var_smoothing</th>\n",
       "    </tr>\n",
       "  </thead>\n",
       "  <tbody>\n",
       "    <tr>\n",
       "      <th>0</th>\n",
       "      <td>1.000000e+00</td>\n",
       "    </tr>\n",
       "    <tr>\n",
       "      <th>1</th>\n",
       "      <td>7.054802e-01</td>\n",
       "    </tr>\n",
       "    <tr>\n",
       "      <th>2</th>\n",
       "      <td>4.977024e-01</td>\n",
       "    </tr>\n",
       "    <tr>\n",
       "      <th>3</th>\n",
       "      <td>3.511192e-01</td>\n",
       "    </tr>\n",
       "    <tr>\n",
       "      <th>4</th>\n",
       "      <td>2.477076e-01</td>\n",
       "    </tr>\n",
       "    <tr>\n",
       "      <th>...</th>\n",
       "      <td>...</td>\n",
       "    </tr>\n",
       "    <tr>\n",
       "      <th>95</th>\n",
       "      <td>4.037017e-15</td>\n",
       "    </tr>\n",
       "    <tr>\n",
       "      <th>96</th>\n",
       "      <td>2.848036e-15</td>\n",
       "    </tr>\n",
       "    <tr>\n",
       "      <th>97</th>\n",
       "      <td>2.009233e-15</td>\n",
       "    </tr>\n",
       "    <tr>\n",
       "      <th>98</th>\n",
       "      <td>1.417474e-15</td>\n",
       "    </tr>\n",
       "    <tr>\n",
       "      <th>99</th>\n",
       "      <td>1.000000e-15</td>\n",
       "    </tr>\n",
       "  </tbody>\n",
       "</table>\n",
       "<p>100 rows × 1 columns</p>\n",
       "</div>"
      ],
      "text/plain": [
       "    var_smoothing\n",
       "0    1.000000e+00\n",
       "1    7.054802e-01\n",
       "2    4.977024e-01\n",
       "3    3.511192e-01\n",
       "4    2.477076e-01\n",
       "..            ...\n",
       "95   4.037017e-15\n",
       "96   2.848036e-15\n",
       "97   2.009233e-15\n",
       "98   1.417474e-15\n",
       "99   1.000000e-15\n",
       "\n",
       "[100 rows x 1 columns]"
      ]
     },
     "execution_count": 33,
     "metadata": {},
     "output_type": "execute_result"
    }
   ],
   "source": [
    "results_NB=pd.DataFrame(gs_NB.cv_results_['params'])\n",
    "results_NB"
   ]
  },
  {
   "cell_type": "code",
   "execution_count": 34,
   "metadata": {},
   "outputs": [
    {
     "data": {
      "text/plain": [
       "0     1.0\n",
       "1     1.0\n",
       "2     1.0\n",
       "3     1.0\n",
       "4     1.0\n",
       "     ... \n",
       "95    1.0\n",
       "96    1.0\n",
       "97    1.0\n",
       "98    1.0\n",
       "99    1.0\n",
       "Name: test_score, Length: 100, dtype: float64"
      ]
     },
     "execution_count": 34,
     "metadata": {},
     "output_type": "execute_result"
    }
   ],
   "source": [
    "results_NB['test_score']=gs_NB.cv_results_['mean_test_score']\n",
    "results_NB['test_score']"
   ]
  },
  {
   "cell_type": "code",
   "execution_count": 35,
   "metadata": {},
   "outputs": [
    {
     "data": {
      "text/plain": [
       "array([1, 1, 1, 1, 0, 0, 1, 0, 0, 1, 1, 0, 0, 1, 0, 0, 1, 1, 1, 1, 1, 0,\n",
       "       1, 1, 1, 1, 1, 1, 1, 1, 1, 1, 1, 1, 1, 1, 1, 1, 1, 1, 1, 0, 1, 1,\n",
       "       1, 1, 1, 1, 0, 1, 1, 1, 1, 1, 1, 1, 1, 1, 1, 1, 1, 1, 0, 0, 1, 1,\n",
       "       1, 1, 1, 1, 1, 0, 1, 0, 1, 1, 1, 1, 0, 1, 1, 1, 0, 0, 0, 1, 1, 1,\n",
       "       1, 0, 0, 1, 1, 1, 0, 0, 1, 1, 1, 0, 1, 1, 0, 1, 1, 1, 1, 1, 0, 0,\n",
       "       1, 1, 0, 1, 1, 1, 1, 1, 1, 1], dtype=uint8)"
      ]
     },
     "execution_count": 35,
     "metadata": {},
     "output_type": "execute_result"
    }
   ],
   "source": [
    "#Predict the target on the dataset\n",
    "predict_test=gs_NB.predict(data_transformed)\n",
    "predict_test"
   ]
  },
  {
   "cell_type": "code",
   "execution_count": 37,
   "metadata": {},
   "outputs": [],
   "source": [
    "#Accuracy score on test dataset\n",
    "from sklearn.metrics import accuracy_score\n",
    "accuracy_test=accuracy_score(y_test,predict_test)"
   ]
  },
  {
   "cell_type": "code",
   "execution_count": 38,
   "metadata": {},
   "outputs": [
    {
     "name": "stdout",
     "output_type": "stream",
     "text": [
      "accuracy_score on test dataset: 1.0\n"
     ]
    }
   ],
   "source": [
    "print('accuracy_score on test dataset:',accuracy_test)"
   ]
  },
  {
   "cell_type": "code",
   "execution_count": null,
   "metadata": {},
   "outputs": [],
   "source": []
  }
 ],
 "metadata": {
  "kernelspec": {
   "display_name": "Python 3",
   "language": "python",
   "name": "python3"
  },
  "language_info": {
   "codemirror_mode": {
    "name": "ipython",
    "version": 3
   },
   "file_extension": ".py",
   "mimetype": "text/x-python",
   "name": "python",
   "nbconvert_exporter": "python",
   "pygments_lexer": "ipython3",
   "version": "3.8.5"
  }
 },
 "nbformat": 4,
 "nbformat_minor": 4
}
